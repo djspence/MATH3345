{
 "cells": [
  {
   "cell_type": "markdown",
   "id": "ethical-netherlands",
   "metadata": {},
   "source": [
    "# MATH 3345 Supplemental Notes\n",
    "\n",
    "## Basic Data Transformation\n",
    "\n",
    "These notes supplement Chapter 3 of _**R for Data Science (2nd Ed.)**_"
   ]
  },
  {
   "cell_type": "markdown",
   "id": "exact-coral",
   "metadata": {},
   "source": [
    "### Set Up \n"
   ]
  },
  {
   "cell_type": "code",
   "execution_count": null,
   "id": "green-whole",
   "metadata": {},
   "outputs": [],
   "source": [
    "#Remove the comment symbol on the line below, run the line ONE time, then replace the comment symbol\n",
    "#install.packages(\"dplyr\")"
   ]
  },
  {
   "cell_type": "code",
   "execution_count": null,
   "id": "radical-lobby",
   "metadata": {},
   "outputs": [],
   "source": [
    "#Remove the comment symbol on the line below, run the line ONE time, then replace the comment symbol\n",
    "#install.packages(\"ggplot2\")"
   ]
  },
  {
   "cell_type": "code",
   "execution_count": null,
   "id": "portuguese-stopping",
   "metadata": {},
   "outputs": [],
   "source": [
    "library(dplyr)\n",
    "library(ggplot2)"
   ]
  },
  {
   "cell_type": "code",
   "execution_count": null,
   "id": "external-internet",
   "metadata": {},
   "outputs": [],
   "source": [
    "#Run the line below only ONE time (remove/replace comment symbol)\n",
    "#install.packages(\"nycflights13\")"
   ]
  },
  {
   "cell_type": "code",
   "execution_count": null,
   "id": "individual-diagnosis",
   "metadata": {},
   "outputs": [],
   "source": [
    "library(nycflights13)"
   ]
  },
  {
   "cell_type": "code",
   "execution_count": null,
   "id": "handy-witch",
   "metadata": {},
   "outputs": [],
   "source": [
    "head(flights,3)"
   ]
  },
  {
   "cell_type": "markdown",
   "id": "fifty-inflation",
   "metadata": {},
   "source": [
    "## The 'PIPE' - What It Is & How It Works\n",
    "\n",
    "**NOTE:** The textbook shows the symbols **```|>```** for the pipe operator. Older versions of _R_ use the symbols **```%>%```** instead.\n",
    "\n",
    "Below we examine the first example that uses the pipe to see what is really happening."
   ]
  },
  {
   "cell_type": "markdown",
   "id": "documented-nation",
   "metadata": {},
   "source": [
    "### Example in Section 3.1.3\n",
    "\n",
    "Here is the example given in Section 3.1.3 using the pipe operator (shown here as ```%>%```).\n",
    "\n",
    "```\n",
    "flights %>%\n",
    "  filter(dest == \"IAH\") %>% \n",
    "  group_by(year, month, day) %>% \n",
    "  summarize(\n",
    "    arr_delay = mean(arr_delay, na.rm = TRUE)\n",
    "  )\n",
    "```\n",
    "The pipe operator is used to combine several things:\n",
    "\n",
    "* The **flights** dataframe \n",
    "* The **filter** function, which selects only certain rows in a given dataframe (a subset)\n",
    "* The **group_by** function, which combines multiple rows of a dataframe into related groups\n",
    "* The **summarize** function, which takes grouped data and computes a given result (in this case, the mean of a given column)\n",
    "\n",
    "We will break the above command down for more insight into what is happening.\n",
    "\n",
    "Notice that we are starting with the entire **flights** dataframe; below we look again at its structure and first few rows."
   ]
  },
  {
   "cell_type": "code",
   "execution_count": null,
   "id": "appointed-motorcycle",
   "metadata": {},
   "outputs": [],
   "source": [
    "glimpse(flights)"
   ]
  },
  {
   "cell_type": "code",
   "execution_count": null,
   "id": "promotional-royalty",
   "metadata": {},
   "outputs": [],
   "source": [
    "head(flights)"
   ]
  },
  {
   "cell_type": "markdown",
   "id": "understanding-cassette",
   "metadata": {},
   "source": [
    "### Step 1: Applying ```filter```\n",
    "\n",
    "The ```filter``` function (in the **dplyr** library) creates a _subset_ of a given dataframe that matches a given condition. This step is shown below in the usual format of the function (without using the pipe)."
   ]
  },
  {
   "cell_type": "code",
   "execution_count": null,
   "id": "executive-navigator",
   "metadata": {},
   "outputs": [],
   "source": [
    "step_1 <- filter(flights,dest == \"IAH\")"
   ]
  },
  {
   "cell_type": "markdown",
   "id": "tracked-journalist",
   "metadata": {},
   "source": [
    "#### Result of the Filtered Dataframe\n",
    "\n",
    "The result of this instruction was stored in the **step_1** variable so we can have a better look."
   ]
  },
  {
   "cell_type": "code",
   "execution_count": null,
   "id": "convertible-period",
   "metadata": {},
   "outputs": [],
   "source": [
    "glimpse(step_1)\n",
    "head(step_1)"
   ]
  },
  {
   "cell_type": "markdown",
   "id": "urban-morgan",
   "metadata": {},
   "source": [
    "##### Observations\n",
    "\n",
    "Notice that the result is another dataframe, but it is much smaller than the original ```flights``` dataframe: This one only has  7198 rows, instead of the original 336,776.  As the output above shows, it now only has the rows where the **dest** variable is 'IAH'.\n",
    "\n",
    "#### Same Function, Different Format\n",
    "\n",
    "The same ```filter``` function can be invoked in a different way using the pipe operator, as shown below."
   ]
  },
  {
   "cell_type": "code",
   "execution_count": null,
   "id": "global-gibraltar",
   "metadata": {},
   "outputs": [],
   "source": [
    "step_one <- flights %>% filter(dest == \"IAH\")"
   ]
  },
  {
   "cell_type": "markdown",
   "id": "packed-reduction",
   "metadata": {},
   "source": [
    "##### View Results\n",
    "\n",
    "Compare the results of the instruction we just ran with the results from the previous code."
   ]
  },
  {
   "cell_type": "code",
   "execution_count": null,
   "id": "fifty-headline",
   "metadata": {},
   "outputs": [],
   "source": [
    "glimpse(step_one)\n",
    "head(step_one)"
   ]
  },
  {
   "cell_type": "markdown",
   "id": "activated-service",
   "metadata": {},
   "source": [
    "##### What Changed?\n",
    "\n",
    "The results of this example are identical to the previous results. But the code is different. What's going on?\n",
    "\n",
    "The first _'argument'_ in the ```filter``` function is the dataframe we want to filter; the second argment specifies _how_ that dataframe should be filtered.  In our original example, we used:\n",
    "```\n",
    "filter(flights,dest == \"IAH\")\n",
    "```\n",
    "\n",
    "When we used the pipe operator (```%>%```), we supplied the first argument (the name of the dataframe) and used the pipe to 'feed' that information to the ```filter``` instruction:\n",
    "```\n",
    "flights %>% filter(dest == \"IAH\")\n",
    "```\n",
    "\n",
    "Then we only needed to provide the second argument in the parentheses.\n",
    "\n",
    "#### Why Use The Pipe?\n",
    "\n",
    "The benefit of using the pipe is not evident if you only need to make one function call. But as we continue _**nesting**_ function calls, the advantage of the pipe will become more obvious."
   ]
  },
  {
   "cell_type": "markdown",
   "id": "after-painting",
   "metadata": {},
   "source": [
    "### Step 2: Applying ```group_by```\n",
    "\n",
    "The ```group_by``` function (in the **dplyr** library) creates a grouping of records in a given dataframe based on specified grouping criteria. This step is shown below in the usual format of the function (without using the pipe)."
   ]
  },
  {
   "cell_type": "code",
   "execution_count": null,
   "id": "moving-exchange",
   "metadata": {},
   "outputs": [],
   "source": [
    "step_2 <- group_by(step_1,year,month,day)"
   ]
  },
  {
   "cell_type": "markdown",
   "id": "israeli-happiness",
   "metadata": {},
   "source": [
    "#### Result: A Grouped Dataframe\n",
    "\n",
    "Here we started with the filtered dataframe (in **step_1**) and transformed it into a _**grouped**_ dataframe. Look at the results (in **step_2**) below. The number of rows has not changed; what evidence do you see that the result is a grouped dataframe?"
   ]
  },
  {
   "cell_type": "code",
   "execution_count": null,
   "id": "raising-liquid",
   "metadata": {},
   "outputs": [],
   "source": [
    "glimpse(step_2)\n",
    "head(step_2)"
   ]
  },
  {
   "cell_type": "markdown",
   "id": "enabling-matrix",
   "metadata": {},
   "source": [
    "#### Nesting Functions\n",
    "\n",
    "Recall that **step_1** was already a result from a previous function call using ```filter```. We stored those results so we could use them to create the grouped dataframe in **step_2**. Below we show how we could have done this in one step, without using the **step_1** variable."
   ]
  },
  {
   "cell_type": "code",
   "execution_count": null,
   "id": "aggressive-disaster",
   "metadata": {},
   "outputs": [],
   "source": [
    "step_2 <- group_by(filter(flights,dest==\"IAH\"),year,month,day)\n",
    "glimpse(step_2)"
   ]
  },
  {
   "cell_type": "markdown",
   "id": "active-cleanup",
   "metadata": {},
   "source": [
    "#### Same Process, Different Format\n",
    "\n",
    "The first argument in the ```group_by``` function was the result created using the ```filter``` function. This is known as _nesting_ functions.  It can be confusing to read. Below we show how we could accomplish the same thing using pipes."
   ]
  },
  {
   "cell_type": "code",
   "execution_count": null,
   "id": "atlantic-advertising",
   "metadata": {},
   "outputs": [],
   "source": [
    "step_two <- flights %>% filter(dest==\"IAH\") %>% group_by(year,month,day)\n",
    "glimpse(step_two)"
   ]
  },
  {
   "cell_type": "markdown",
   "id": "surface-guyana",
   "metadata": {},
   "source": [
    "#### How Pipes Help\n",
    "\n",
    "The pipes help us to see what order the processes are happening, so the code is easier to decipher than the original nested version.\n",
    "\n",
    "* We start with the ```flights``` dataframe\n",
    "* We filter it to use only rows the \"IAH\" destination\n",
    "* We group the filtered result by year, month, and day\n",
    "\n",
    "The result of each step is 'piped' to the next function to carry out the next step."
   ]
  },
  {
   "cell_type": "markdown",
   "id": "seventh-howard",
   "metadata": {},
   "source": [
    "### Step 3: Report Group Values Using ```summarize```\n",
    "\n",
    "Once records are grouped with the ```group_by``` function, we can use the ```summarize``` function to calculate values for each group. Summary values could include minimum, maximum, mean, median, standard deviation, and so on.\n",
    "\n",
    "In this example, we take the grouped results from Step 2 and compute the mean arrival delay for _each group_. Since the dataframe is grouped by day, month, and year, there will be one mean for each different date."
   ]
  },
  {
   "cell_type": "code",
   "execution_count": null,
   "id": "falling-winter",
   "metadata": {},
   "outputs": [],
   "source": [
    "summary(flights$year)"
   ]
  },
  {
   "cell_type": "code",
   "execution_count": null,
   "id": "looking-employment",
   "metadata": {},
   "outputs": [],
   "source": [
    "step_3 <- summarize(step_2, arr_delay = mean(arr_delay, na.rm = TRUE))\n",
    "glimpse(step_3)\n",
    "head(step_3)"
   ]
  },
  {
   "cell_type": "markdown",
   "id": "vocational-peripheral",
   "metadata": {},
   "source": [
    "#### The Same Task Using Nested Functions \n",
    "\n",
    "The process above again relies on intermediate dataframes **step_1** and **step_2**. Below we look at how the same task is performed relying solely on nested functions."
   ]
  },
  {
   "cell_type": "code",
   "execution_count": null,
   "id": "treated-strain",
   "metadata": {},
   "outputs": [],
   "source": [
    "step_3 <- summarize(group_by(filter(flights,dest==\"IAH\"),year,month,day), arr_delay = mean(arr_delay, na.rm = TRUE))\n",
    "glimpse(step_3)\n",
    "head(step_3)"
   ]
  },
  {
   "cell_type": "markdown",
   "id": "quick-defeat",
   "metadata": {},
   "source": [
    "#### Same Process with Pipes Instead of Nesting\n",
    "\n",
    "To make sense of the nesting in the above example, you need to navigate a lot of parentheses and work your way from the 'inside' to the 'outside' of the function calls. As you may have noticed, this gets increasingly confusing with every level of nesting we introduce.  \n",
    "\n",
    "The same process is shown below with pipes. Notice that: \n",
    "- Reading the code in the order it is written gives us an accurate picture of the order in which things are happening.\n",
    "- To make the steps more readable, each time there is a result to be 'piped' to the next step, we end one step with a pipe and go to the next line to begin the next step. **_R_** does not require this, but it benefits _us_ when reading the code."
   ]
  },
  {
   "cell_type": "code",
   "execution_count": null,
   "id": "precious-monitor",
   "metadata": {},
   "outputs": [],
   "source": [
    "final_result <- flights %>%\n",
    "                filter(dest == \"IAH\") %>% \n",
    "                group_by(year, month, day) %>% \n",
    "                summarize(\n",
    "                    arr_delay = mean(arr_delay, na.rm = TRUE)\n",
    "                )\n",
    "\n",
    "glimpse(final_result)\n",
    "head(final_result)"
   ]
  },
  {
   "cell_type": "markdown",
   "id": "african-admission",
   "metadata": {},
   "source": [
    "### Other Notes\n",
    "\n",
    "We will use the 'intermediate' dataframes that we created to revisit some other details of what is happening.  Recall:\n",
    "\n",
    "- **step_1** is filtered so that it only contains the flights arriving at IAH\n",
    "- **step_2** is the **step_1** dataframe with grouping information added (year, month, day)\n",
    "- **step_3** is the summarized dataframe showing the mean delay of flights for each group in the **step_2** dataframe\n",
    "\n",
    "It will be helpful to keep this in mind as we review these additional notes.\n",
    "\n",
    "#### Note 1.\n",
    "To get the summary data by date, we had to first group the records by date.  If we had skipped this step, the entire data set would be treated as one big group, and only one mean would be reported, as shown below."
   ]
  },
  {
   "cell_type": "code",
   "execution_count": null,
   "id": "dedicated-governor",
   "metadata": {},
   "outputs": [],
   "source": [
    "skipped_step <- summarize(step_1, arr_delay = mean(arr_delay, na.rm = TRUE))\n",
    "glimpse(skipped_step)\n",
    "head(skipped_step)"
   ]
  },
  {
   "cell_type": "markdown",
   "id": "fallen-denmark",
   "metadata": {},
   "source": [
    "#### Note 2. \n",
    "The warning message is telling us that the grouping of the _**result**_ only contains year and month. This does not mean that all 3 groups (year, month, day) were not used to _produce_ the result. \n",
    "\n",
    "The best way to see what's going on is to run ```summarize``` again on the **step_3** data frame, as shown below. (Note that first we look at the structure of **step_3** and verify that it only has **year** and **month** as groups.)"
   ]
  },
  {
   "cell_type": "code",
   "execution_count": null,
   "id": "indonesian-parts",
   "metadata": {},
   "outputs": [],
   "source": [
    "glimpse(step_3)\n",
    "head(step_3)"
   ]
  },
  {
   "cell_type": "code",
   "execution_count": null,
   "id": "fewer-borough",
   "metadata": {},
   "outputs": [],
   "source": [
    "one_more_step <- summarize(step_3, arr_delay=mean(arr_delay))\n",
    "glimpse(one_more_step)\n",
    "one_more_step"
   ]
  },
  {
   "cell_type": "markdown",
   "id": "norman-malta",
   "metadata": {},
   "source": [
    "##### How ```summarize``` Behaves with Groups\n",
    "\n",
    "- The ```summarize``` function creates a new dataframe with only the grouped variables and the summarized variables from the dataframe originally given. The **step_2** dataframe had 3 grouping variables, plus several other attributes, including the **arr_delay** variable. The grouping variables and the **arr_delay** (summarized as a mean) are the only variables we see in **step_3**. \n",
    "\n",
    "\n",
    "- By default, the _new_ dataframe created by the ```summarize``` function has _**one less**_ grouping variable than its 'parent' dataframe; the last one gets dropped. The **step_2** dataframe was grouped by **year**, **month**, and **day**. Then after ```summarize``` was applied, the result in **step_3** was only grouped by **year** and **month**. Also notice that when we summarized **step_3**, another grouping variable (**month**) was dropped, leaving only **year**.\n",
    "\n",
    "    (_Think about this and see if you can determine why this is a reasonable default behavior._)\n",
    "\n",
    "     \n",
    "- As the warning suggests, you can change this default behavior using the ```.groups``` argument when invoking the ```summarize``` function. Below, we bypass the warning message by adding the ```.groups``` argument and explicitly indicating that we want the default behavior. (Recall that you can learn more about all the available options by bringing up the help/documentation; just type ```?summarize```.)"
   ]
  },
  {
   "cell_type": "code",
   "execution_count": null,
   "id": "governmental-beach",
   "metadata": {},
   "outputs": [],
   "source": [
    "step_3 <- summarize(step_2, arr_delay = mean(arr_delay, na.rm = TRUE), .groups = \"drop_last\")\n",
    "glimpse(step_3)\n",
    "head(step_3)"
   ]
  },
  {
   "cell_type": "markdown",
   "id": "periodic-signature",
   "metadata": {},
   "source": [
    "#### Note 3.\n",
    "\n",
    "In the above examples, we summarized a variable called **arr_delay** (arrival delay) and used a variable of the same name to hold the summarized result. This is not required, and there may be some benefit to _re-naming_ the summarized variable to indicate that the value shown is a summary value. This is demonstrated below.  The summarized column has been named **mean_arr_delay** instead of the original **arr_delay**."
   ]
  },
  {
   "cell_type": "code",
   "execution_count": null,
   "id": "interesting-medium",
   "metadata": {},
   "outputs": [],
   "source": [
    "final_result <- flights %>%\n",
    "                filter(dest == \"IAH\") %>% \n",
    "                group_by(year, month, day) %>% \n",
    "                summarize(\n",
    "                    mean_arr_delay = mean(arr_delay, na.rm = TRUE),\n",
    "                    .groups = \"drop\"\n",
    "                )\n",
    "\n",
    "glimpse(final_result)\n",
    "head(final_result)"
   ]
  },
  {
   "cell_type": "markdown",
   "id": "applied-paraguay",
   "metadata": {},
   "source": [
    "#### Note 4.\n",
    "\n",
    "The ```summarize``` function allows you to compute more than one summarized value, as shown in the following examples. The first example computes the mean departure and arrival delays; the second example computes several statistics for the arrival delay."
   ]
  },
  {
   "cell_type": "code",
   "execution_count": null,
   "id": "exempt-vampire",
   "metadata": {},
   "outputs": [],
   "source": [
    "final_result <- flights %>%\n",
    "                filter(dest == \"IAH\") %>% \n",
    "                group_by(year, month, day) %>%\n",
    "                summarize(\n",
    "                    flights = n(),\n",
    "                    mean_dep_delay = mean(dep_delay, na.rm = TRUE),\n",
    "                    mean_arr_delay = mean(arr_delay, na.rm = TRUE),\n",
    "                    .groups = \"drop\"\n",
    "                )\n",
    "\n",
    "glimpse(final_result)\n",
    "head(final_result)"
   ]
  },
  {
   "cell_type": "code",
   "execution_count": null,
   "id": "educated-chuck",
   "metadata": {},
   "outputs": [],
   "source": [
    "final_result <- flights %>%\n",
    "                filter(dest == \"IAH\") %>% \n",
    "                group_by(year, month, day) %>%\n",
    "                summarize(\n",
    "                    mean_arr_delay = mean(arr_delay, na.rm = TRUE),\n",
    "                    std_arr_delay = sd(arr_delay, na.rm = TRUE),\n",
    "                    min_arr_delay = min(arr_delay, na.rm = TRUE),\n",
    "                    median_arr_delay = median(arr_delay, na.rm = TRUE),\n",
    "                    max_arr_delay = max(arr_delay, na.rm = TRUE),\n",
    "                    .groups = \"drop\"\n",
    "                )\n",
    "\n",
    "glimpse(final_result)\n",
    "head(final_result)"
   ]
  }
 ],
 "metadata": {
  "kernelspec": {
   "display_name": "R",
   "language": "R",
   "name": "ir"
  },
  "language_info": {
   "codemirror_mode": "r",
   "file_extension": ".r",
   "mimetype": "text/x-r-source",
   "name": "R",
   "pygments_lexer": "r",
   "version": "4.0.3"
  }
 },
 "nbformat": 4,
 "nbformat_minor": 5
}
