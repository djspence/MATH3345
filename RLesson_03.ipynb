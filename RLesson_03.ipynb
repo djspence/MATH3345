{
 "cells": [
  {
   "cell_type": "markdown",
   "id": "ethical-netherlands",
   "metadata": {},
   "source": [
    "# MATH 3345 R Lesson Notebook 2\n",
    "\n",
    "## Tidy Data: Organization of Tables\n",
    "\n",
    "This notebook accompanies Chapter 5 of _**R for Data Science (2nd Ed.)**_"
   ]
  },
  {
   "cell_type": "markdown",
   "id": "exact-coral",
   "metadata": {},
   "source": [
    "### Set Up (Section 5.1.1)\n",
    "\n",
    "The textbook has you load tidyverse.  Another option is to load **dplyr**, **tidyr**, and **ggplot2**, which are the packages needed for these exercises.\n",
    "\n",
    "**NOTE:** _Only run the 'install.packages' steps below if the ```library``` commands in the 4th code cell generate an error message._"
   ]
  },
  {
   "cell_type": "code",
   "execution_count": null,
   "id": "green-whole",
   "metadata": {},
   "outputs": [],
   "source": [
    "#Remove the comment symbol on the line below, run the line ONE time, then replace the comment symbol\n",
    "#install.packages(\"dplyr\")"
   ]
  },
  {
   "cell_type": "code",
   "execution_count": null,
   "id": "mighty-cassette",
   "metadata": {},
   "outputs": [],
   "source": [
    "#Remove the comment symbol on the line below, run the line ONE time, then replace the comment symbol\n",
    "#install.packages(\"tidyr\")"
   ]
  },
  {
   "cell_type": "code",
   "execution_count": null,
   "id": "radical-lobby",
   "metadata": {},
   "outputs": [],
   "source": [
    "#Remove the comment symbol on the line below, run the line ONE time, then replace the comment symbol\n",
    "#install.packages(\"ggplot2\")"
   ]
  },
  {
   "cell_type": "code",
   "execution_count": null,
   "id": "portuguese-stopping",
   "metadata": {},
   "outputs": [],
   "source": [
    "library(dplyr)\n",
    "library(tidyr)\n",
    "library(ggplot2)"
   ]
  },
  {
   "cell_type": "markdown",
   "id": "fifty-inflation",
   "metadata": {},
   "source": [
    "### Tidying Data \n",
    "\n",
    "Follow the steps for tidying data as shown in the next sections. Reformat the tables as shown in the text by typing the code given in each example of the sections indicated below. Insert a new code cell to carry out each example.\n",
    "\n",
    "To get the most out of these exercises, **_do NOT copy/paste the code from the online textbook._** Type it yourself so that you will become more familiar with how the commands work. "
   ]
  },
  {
   "cell_type": "markdown",
   "id": "logical-banks",
   "metadata": {},
   "source": [
    "### Introduction (Section 5.2)\n",
    "\n",
    "The data sets used in this section are displayed by the first code cells. Make sure you are able to load the data successfully. Then create a new code cell to carry out _each_ example in the section. "
   ]
  },
  {
   "cell_type": "code",
   "execution_count": null,
   "id": "fundamental-today",
   "metadata": {},
   "outputs": [],
   "source": [
    "table1"
   ]
  },
  {
   "cell_type": "code",
   "execution_count": null,
   "id": "pediatric-rochester",
   "metadata": {},
   "outputs": [],
   "source": [
    "table2"
   ]
  },
  {
   "cell_type": "code",
   "execution_count": null,
   "id": "valued-morning",
   "metadata": {},
   "outputs": [],
   "source": [
    "table3"
   ]
  },
  {
   "cell_type": "code",
   "execution_count": null,
   "id": "western-madness",
   "metadata": {},
   "outputs": [],
   "source": []
  },
  {
   "cell_type": "markdown",
   "id": "documented-nation",
   "metadata": {},
   "source": [
    "### Lengthening Data: Data in Column Names (Section 5.3.1)\n",
    "\n",
    "The data set used in this section is displayed by the first code cell. Make sure you are able to load the data successfully. Then create a new code cell to carry out _each_ example in the section. "
   ]
  },
  {
   "cell_type": "code",
   "execution_count": null,
   "id": "dramatic-exchange",
   "metadata": {},
   "outputs": [],
   "source": [
    "glimpse(billboard)"
   ]
  },
  {
   "cell_type": "code",
   "execution_count": null,
   "id": "handy-witch",
   "metadata": {},
   "outputs": [],
   "source": [
    "head(billboard,3)"
   ]
  },
  {
   "cell_type": "code",
   "execution_count": null,
   "id": "appointed-motorcycle",
   "metadata": {},
   "outputs": [],
   "source": []
  },
  {
   "cell_type": "markdown",
   "id": "periodic-signature",
   "metadata": {},
   "source": [
    "### Lengthening Data: How Does Pivoting Work? (Section 5.3.2)\n",
    "\n",
    "The data set used in this section is created and displayed by the first code cell. Make sure you are able to load the data successfully. Then create a new code cell to carry out _each_ example in the section. "
   ]
  },
  {
   "cell_type": "code",
   "execution_count": null,
   "id": "corporate-teens",
   "metadata": {},
   "outputs": [],
   "source": [
    "df <- tribble(\n",
    "  ~id,  ~bp1, ~bp2,\n",
    "   \"A\",  100,  120,\n",
    "   \"B\",  140,  115,\n",
    "   \"C\",  120,  125\n",
    ")\n",
    "\n",
    "df"
   ]
  },
  {
   "cell_type": "code",
   "execution_count": null,
   "id": "interesting-medium",
   "metadata": {},
   "outputs": [],
   "source": []
  },
  {
   "cell_type": "markdown",
   "id": "correct-hebrew",
   "metadata": {},
   "source": [
    "### Lengthening Data: Multiple Variables in Column Names (Section 5.3.3)\n",
    "\n",
    "The data set used in this section is displayed by the first code cell. Make sure you are able to load the data successfully. Then create a new code cell to carry out _each_ example in the section. "
   ]
  },
  {
   "cell_type": "code",
   "execution_count": null,
   "id": "exempt-illustration",
   "metadata": {},
   "outputs": [],
   "source": [
    "glimpse(who2)"
   ]
  },
  {
   "cell_type": "markdown",
   "id": "sitting-mounting",
   "metadata": {},
   "source": [
    "#### Did the ```who2``` data set display correctly above?\n",
    "\n",
    "- If so, _**SKIP** the next cell_\n",
    "- If not, _uncomment_ the instructions in the next cell and load the data set manually by running the cell."
   ]
  },
  {
   "cell_type": "code",
   "execution_count": null,
   "id": "accurate-cambridge",
   "metadata": {},
   "outputs": [],
   "source": [
    "# Backup code if who2 dataset is not available\n",
    "# ONLY IF NEEDED: Uncomment the instructions below and run this cell to load the data manually \n",
    "\n",
    "#who2 <- read.csv(\"Data/who2.csv\")\n",
    "#glimpse(who2)"
   ]
  },
  {
   "cell_type": "code",
   "execution_count": null,
   "id": "changing-performance",
   "metadata": {},
   "outputs": [],
   "source": [
    "head(who2,3)"
   ]
  },
  {
   "cell_type": "code",
   "execution_count": null,
   "id": "subsequent-turkish",
   "metadata": {},
   "outputs": [],
   "source": []
  },
  {
   "cell_type": "markdown",
   "id": "ultimate-darkness",
   "metadata": {},
   "source": [
    "### Lengthening Data: Data and Variable Names in Column Headers (Section 5.3.4)\n",
    "\n",
    "The data set used in this section is displayed by the first code cell. Make sure you are able to load the data successfully. Then create a new code cell to carry out _each_ example in the section. "
   ]
  },
  {
   "cell_type": "code",
   "execution_count": null,
   "id": "shaped-weight",
   "metadata": {},
   "outputs": [],
   "source": [
    "glimpse(household)"
   ]
  },
  {
   "cell_type": "markdown",
   "id": "known-pride",
   "metadata": {},
   "source": [
    "#### Did the ```household``` data set display correctly above?\n",
    "\n",
    "- If so, _**SKIP** the next cell_\n",
    "- If not, _uncomment_ the instructions in the next cell and load the data set manually by running the cell."
   ]
  },
  {
   "cell_type": "code",
   "execution_count": null,
   "id": "clean-requirement",
   "metadata": {},
   "outputs": [],
   "source": [
    "# Backup code if household dataset is not available\n",
    "# ONLY IF NEEDED: Uncomment the instructions below and run this cell to load the data manually \n",
    "\n",
    "#household <- read.csv(\"Data/household.csv\")\n",
    "#glimpse(household)"
   ]
  },
  {
   "cell_type": "code",
   "execution_count": null,
   "id": "proof-romantic",
   "metadata": {},
   "outputs": [],
   "source": [
    "household"
   ]
  },
  {
   "cell_type": "code",
   "execution_count": null,
   "id": "external-slave",
   "metadata": {},
   "outputs": [],
   "source": []
  },
  {
   "cell_type": "markdown",
   "id": "another-aside",
   "metadata": {},
   "source": [
    "### Widening Data: Introduction (Section 5.4)\n",
    "\n",
    "The data set used in this section is displayed by the first code cell. Make sure you are able to load the data successfully. Then create a new code cell to carry out _each_ example in the section. "
   ]
  },
  {
   "cell_type": "code",
   "execution_count": null,
   "id": "entire-hometown",
   "metadata": {},
   "outputs": [],
   "source": [
    "glimpse(cms_patient_experience)"
   ]
  },
  {
   "cell_type": "markdown",
   "id": "talented-bankruptcy",
   "metadata": {},
   "source": [
    "#### Did the ```cms_patient_experience``` data set display correctly above?\n",
    "\n",
    "- If so, _**SKIP** the next cell_\n",
    "- If not, _uncomment_ the instructions in the next cell and load the data set manually by running the cell."
   ]
  },
  {
   "cell_type": "code",
   "execution_count": null,
   "id": "urban-cycle",
   "metadata": {},
   "outputs": [],
   "source": [
    "# Backup code if cms_patient_experience dataset is not available\n",
    "# ONLY IF NEEDED: Uncomment the instructions below and run this cell to load the data manually \n",
    "\n",
    "#cms_patient_experience <- read.csv(\"Data/cms_patient_experience.csv\")\n",
    "#glimpse(cms_patient_experience)"
   ]
  },
  {
   "cell_type": "code",
   "execution_count": null,
   "id": "worse-penny",
   "metadata": {},
   "outputs": [],
   "source": [
    "head(cms_patient_experience)"
   ]
  },
  {
   "cell_type": "code",
   "execution_count": null,
   "id": "adapted-budget",
   "metadata": {},
   "outputs": [],
   "source": []
  },
  {
   "cell_type": "markdown",
   "id": "annoying-antique",
   "metadata": {},
   "source": [
    "### Widening Data: How Does Pivoting Wider Work? (Section 5.4.1)\n",
    "\n",
    "The data sets used in this section are created and displayed by the first code cells. Make sure you are able to load the data successfully. Then create a new code cell to carry out _each_ example in the section. "
   ]
  },
  {
   "cell_type": "code",
   "execution_count": null,
   "id": "documented-animation",
   "metadata": {},
   "outputs": [],
   "source": [
    "df <- tribble(\n",
    "  ~id, ~measurement, ~value,\n",
    "  \"A\",        \"bp1\",    100,\n",
    "  \"B\",        \"bp1\",    140,\n",
    "  \"B\",        \"bp2\",    115, \n",
    "  \"A\",        \"bp2\",    120,\n",
    "  \"A\",        \"bp3\",    105\n",
    ")\n",
    "\n",
    "df"
   ]
  },
  {
   "cell_type": "code",
   "execution_count": null,
   "id": "improving-algebra",
   "metadata": {},
   "outputs": [],
   "source": []
  },
  {
   "cell_type": "markdown",
   "id": "legislative-amendment",
   "metadata": {},
   "source": [
    "#### Second Version of ``df`` for Duplicate Values Examples\n",
    "\n",
    "The last 2 examples use a different version of dataframe ``df`` that contains duplicates values. This dataset is constructed and displayed below. Create a new code cell to carry out _each_ remaining example in the section."
   ]
  },
  {
   "cell_type": "code",
   "execution_count": null,
   "id": "invalid-blowing",
   "metadata": {},
   "outputs": [],
   "source": [
    "df <- tribble(\n",
    "  ~id, ~measurement, ~value,\n",
    "  \"A\",        \"bp1\",    100,\n",
    "  \"A\",        \"bp1\",    102,\n",
    "  \"A\",        \"bp2\",    120,\n",
    "  \"B\",        \"bp1\",    140, \n",
    "  \"B\",        \"bp2\",    115\n",
    ")\n",
    "\n",
    "df"
   ]
  },
  {
   "cell_type": "code",
   "execution_count": null,
   "id": "controlling-pottery",
   "metadata": {},
   "outputs": [],
   "source": []
  }
 ],
 "metadata": {
  "kernelspec": {
   "display_name": "R",
   "language": "R",
   "name": "ir"
  },
  "language_info": {
   "codemirror_mode": "r",
   "file_extension": ".r",
   "mimetype": "text/x-r-source",
   "name": "R",
   "pygments_lexer": "r",
   "version": "4.0.3"
  }
 },
 "nbformat": 4,
 "nbformat_minor": 5
}
