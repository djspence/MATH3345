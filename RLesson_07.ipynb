{
 "cells": [
  {
   "cell_type": "markdown",
   "id": "ethical-netherlands",
   "metadata": {},
   "source": [
    "# MATH 3345 R Lesson Notebook 7\n",
    "\n",
    "## Regular Expressions (RegEx)\n",
    "\n",
    "This notebook accompanies Chapter 15 of _**R for Data Science (2nd Ed.)**_"
   ]
  },
  {
   "cell_type": "markdown",
   "id": "exact-coral",
   "metadata": {},
   "source": [
    "### Set Up (Section 15.1.1)\n",
    "\n",
    "The textbook has you load tidyverse.  Another option is to load the **dplyr**, **stringr**, **tidyr**, **purrr**, and **ggplot2** libraries, which are the packages needed for these exercises.\n",
    "\n",
    "**NOTE:** _Only run the 'install.packages' steps below if the ```library``` command to load the specified package generates an error message._"
   ]
  },
  {
   "cell_type": "code",
   "execution_count": null,
   "id": "green-whole",
   "metadata": {},
   "outputs": [],
   "source": [
    "#Remove the comment symbol on the line below, run the line ONE time, then replace the comment symbol\n",
    "#install.packages(\"dplyr\")"
   ]
  },
  {
   "cell_type": "code",
   "execution_count": null,
   "id": "portuguese-stopping",
   "metadata": {},
   "outputs": [],
   "source": [
    "library(dplyr)"
   ]
  },
  {
   "cell_type": "code",
   "execution_count": null,
   "id": "imposed-argument",
   "metadata": {},
   "outputs": [],
   "source": [
    "#Remove the comment symbol on the line below, run the line ONE time, then replace the comment symbol\n",
    "#install.packages(\"stringr\")"
   ]
  },
  {
   "cell_type": "code",
   "execution_count": null,
   "id": "going-difference",
   "metadata": {},
   "outputs": [],
   "source": [
    "library(stringr)\n"
   ]
  },
  {
   "cell_type": "code",
   "execution_count": null,
   "id": "solar-regulation",
   "metadata": {},
   "outputs": [],
   "source": [
    "#Remove the comment symbol on the line below, run the line ONE time, then replace the comment symbol\n",
    "#install.packages(\"tidyr\")"
   ]
  },
  {
   "cell_type": "code",
   "execution_count": null,
   "id": "higher-residence",
   "metadata": {},
   "outputs": [],
   "source": [
    "library(tidyr)\n"
   ]
  },
  {
   "cell_type": "code",
   "execution_count": null,
   "id": "charming-delay",
   "metadata": {},
   "outputs": [],
   "source": [
    "#Remove the comment symbol on the line below, run the line ONE time, then replace the comment symbol\n",
    "#install.packages(\"purrr\")"
   ]
  },
  {
   "cell_type": "code",
   "execution_count": null,
   "id": "turned-mechanics",
   "metadata": {},
   "outputs": [],
   "source": [
    "library(purrr)"
   ]
  },
  {
   "cell_type": "code",
   "execution_count": null,
   "id": "hundred-dressing",
   "metadata": {},
   "outputs": [],
   "source": [
    "#Remove the comment symbol on the line below, run the line ONE time, then replace the comment symbol\n",
    "#install.packages(\"ggplot2\")"
   ]
  },
  {
   "cell_type": "code",
   "execution_count": null,
   "id": "urban-resource",
   "metadata": {},
   "outputs": [],
   "source": [
    "library(ggplot2)\n"
   ]
  },
  {
   "cell_type": "markdown",
   "id": "quality-gentleman",
   "metadata": {},
   "source": [
    "### Load Library for Data\n",
    "Some of these activities require the ```babynames``` data set in the **babynames** library. If the library fails to load, remember to install it first using _```install.packages```_ in the cell below."
   ]
  },
  {
   "cell_type": "code",
   "execution_count": null,
   "id": "basic-indianapolis",
   "metadata": {},
   "outputs": [],
   "source": [
    "#Remove the comment symbol on the line below, run the line ONE time, then replace the comment symbol\n",
    "#install.packages(\"babynames\")"
   ]
  },
  {
   "cell_type": "code",
   "execution_count": null,
   "id": "australian-korea",
   "metadata": {},
   "outputs": [],
   "source": [
    "library(babynames)"
   ]
  },
  {
   "cell_type": "code",
   "execution_count": null,
   "id": "mature-arbor",
   "metadata": {},
   "outputs": [],
   "source": [
    "glimpse(babynames)"
   ]
  },
  {
   "cell_type": "code",
   "execution_count": null,
   "id": "monetary-asbestos",
   "metadata": {},
   "outputs": [],
   "source": [
    "head(babynames)"
   ]
  },
  {
   "cell_type": "markdown",
   "id": "fifty-inflation",
   "metadata": {},
   "source": [
    "### Explore Examples\n",
    "\n",
    "Follow the steps for re-creating the examples as shown by typing the code given in each example of the sections indicated below. Insert a new code cell to carry out each example.\n",
    "\n",
    "To get the most out of these exercises, **_do NOT copy/paste the code from the online textbook._** Type it yourself so that you will become more familiar with how the commands work. "
   ]
  },
  {
   "cell_type": "markdown",
   "id": "documented-nation",
   "metadata": {},
   "source": [
    "### Creating a String (Section 15.2)\n",
    "\n",
    "Create a new code cell to carry out _each_ example in the section. Also consider creating one or more **markdown** cells to write some notes to yourself about what each example is illustrating.\n",
    "\n",
    "#### IMPORTANT NOTES\n",
    "\n",
    "- The version of **stringr** currently installed on the UNG JupyterHub _does not have_ the most updated version of the ```str_view``` function. If you are working in UNG JupyterHub, _**the ```str_view``` output will be different than what is shown in the text**_. For instance, the instruction ```str_view(fruit, \"berry\")``` behaves differently in older versions of the software.  The newest version _**only**_ displays items in the vector that match the pattern, as shown in the text:\n",
    "\n",
    "```\n",
    "  [6] │ bil<berry>\n",
    "  [7] │ black<berry>\n",
    " [10] │ blue<berry>\n",
    " [11] │ boysen<berry>\n",
    " [19] │ cloud<berry>\n",
    " [21] │ cran<berry>\n",
    " ... and 8 more\n",
    "```\n",
    "However, the older version on JupyterHub displays _ALL_ items in the vector, _**and highlights those that match the pattern**_.\n",
    "\n",
    "1. apple\n",
    "2. apricot\n",
    "3. avocado\n",
    "4. banana\n",
    "5. bell pepper\n",
    "6. bil```berry```\n",
    "7. black```berry```\n",
    "8. blackcurrant\n",
    "```\n",
    "... and 72 more\n",
    "```\n"
   ]
  },
  {
   "cell_type": "code",
   "execution_count": null,
   "id": "appointed-motorcycle",
   "metadata": {},
   "outputs": [],
   "source": []
  },
  {
   "cell_type": "markdown",
   "id": "periodic-signature",
   "metadata": {},
   "source": [
    "### Key Functions (Section 15.3)\n",
    "\n",
    "Create a new code cell to carry out _each_ example in the section. Also consider creating one or more **markdown** cells to write some notes to yourself about what each example is illustrating.\n",
    "\n",
    "#### IMPORTANT NOTES\n",
    "\n",
    "- The version of **tidyr** currently installed on the UNG JupyterHub _does not have_ the ```separate_wider_regex``` function described in this section. Below is an alternative method using older functions in R to achieve the same results for the example in Section 15.3.4.\n",
    "\n",
    "### Replace the following code\n",
    "```\n",
    "df %>% \n",
    "  separate_wider_regex(\n",
    "    str,\n",
    "    patterns = c(\n",
    "      \"<\", \n",
    "      name = \"[A-Za-z]+\", \n",
    "      \">-\", \n",
    "      gender = \".\",\n",
    "      \"_\",\n",
    "      age = \"[0-9]+\"\n",
    "    )\n",
    "  )\n",
    "```\n",
    "\n",
    "#### with the code below:\n",
    "\n",
    "```\n",
    "df %>%\n",
    "  separate(\n",
    "    str,\n",
    "    into = c(NA,\"name\", NA,\"gender\", \"age\"),\n",
    "    sep = \"([-_><])\" \n",
    "  )\n",
    "```\n"
   ]
  },
  {
   "cell_type": "code",
   "execution_count": null,
   "id": "interesting-medium",
   "metadata": {},
   "outputs": [],
   "source": []
  },
  {
   "cell_type": "markdown",
   "id": "horizontal-chosen",
   "metadata": {},
   "source": [
    "### Pattern Details (Section 15.4)\n",
    "\n",
    "Create a new code cell to carry out _each_ example in the section. Also consider creating one or more **markdown** cells to write some notes to yourself about what each example is illustrating.\n",
    "\n",
    "#### IMPORTANT NOTES\n",
    "- The version of **stringr** currently installed on the UNG JupyterHub _does not have_ the most updated version of the ```str_view``` function. Examples in this section are affected as follows:\n",
    "   - Whenever this function is used with only one argument (such as ```strview(x)```), replace it with ```strview(x,\"\\\\n\")``` if you are working on the UNG JupyterHub.\n",
    "   - When ```str_view``` is used to match multiple patterns in a string, the older version will only find the first pattern unless the function is given a _vector_ with the same number of strings as there are patterns. For instance, in the example shown in Section 15.4.2: \n",
    "   ```\n",
    "   str_view(\"abc\", c(\"$\", \"^\", \"\\\\b\"))\n",
    "   ```\n",
    "   will only match the first pattern; the code can be modified as follows to match all 3 patterns:\n",
    "   \n",
    "   ```\n",
    "   str_view(c(\"abc\",\"abc\",\"abc\"), c(\"$\", \"^\", \"\\\\b\"))\n",
    "   ```\n",
    "\n",
    "   - When there are multiple instances of a pattern inside a string, the older version of ```str_view``` will only find the first occurrence (e.g., the ```str_view(\"a-b-c\", \"[a-c]\")``` example in Section 15.4.3)\n",
    "   - If working on UNG JupyterHub, remember in Section 15.4.6 to replace\n",
    "   ```\n",
    "   sentences %>% \n",
    "  str_replace(\"(\\\\w+) (\\\\w+) (\\\\w+)\", \"\\\\1 \\\\3 \\\\2\") %>% \n",
    "  str_view()\n",
    "   ```\n",
    "   with\n",
    "   ```\n",
    "   sentences %>% \n",
    "  str_replace(\"(\\\\w+) (\\\\w+) (\\\\w+)\", \"\\\\1 \\\\3 \\\\2\") %>% \n",
    "  str_view(\"\\\\n\")\n",
    "   ```\n",
    "   to get the desired behavior.\n",
    "\n",
    "\n"
   ]
  },
  {
   "cell_type": "code",
   "execution_count": null,
   "id": "tested-project",
   "metadata": {},
   "outputs": [],
   "source": []
  },
  {
   "cell_type": "markdown",
   "id": "virtual-spectacular",
   "metadata": {},
   "source": [
    "### Pattern Control (Section 15.5)\n",
    "\n",
    "Create a new code cell to carry out _each_ example in the section. Also consider creating one or more **markdown** cells to write some notes to yourself about what each example is illustrating.\n"
   ]
  },
  {
   "cell_type": "code",
   "execution_count": null,
   "id": "electric-fountain",
   "metadata": {},
   "outputs": [],
   "source": []
  },
  {
   "cell_type": "markdown",
   "id": "illegal-cable",
   "metadata": {},
   "source": [
    "### Practice (Section 15.6)\n",
    "\n",
    "Create a new code cell to carry out _each_ example in the section. Also consider creating one or more **markdown** cells to write some notes to yourself about what each example is illustrating.\n",
    "\n",
    "#### IMPORTANT NOTES\n",
    "\n",
    "Remember that if you are working in UNG JupyterHub, you will need to modify the second example in Section 15.6.2 as follows:\n",
    "\n",
    "#### Replace\n",
    "```\n",
    "str_view(words[!str_detect(words, \"[aeiou]\")])\n",
    "```\n",
    "#### with\n",
    "```\n",
    "str_view(words[!str_detect(words, \"[aeiou]\")],\"\\\\n\")\n",
    "```\n",
    "\n",
    "_There are a few other examples where you will need to add the ```\"\\\\n\"``` argument to ```str_view``` if working in UNG JupyterHub. Be on the lookout for these!_"
   ]
  },
  {
   "cell_type": "code",
   "execution_count": null,
   "id": "portuguese-berlin",
   "metadata": {},
   "outputs": [],
   "source": []
  },
  {
   "cell_type": "markdown",
   "id": "black-growth",
   "metadata": {},
   "source": [
    "## OPTIONAL: Section 15.7\n",
    "### Regular Expressions in Other Places \n",
    "\n",
    "_**This section is optional and you may omit it.**_\n",
    "\n"
   ]
  }
 ],
 "metadata": {
  "kernelspec": {
   "display_name": "R",
   "language": "R",
   "name": "ir"
  },
  "language_info": {
   "codemirror_mode": "r",
   "file_extension": ".r",
   "mimetype": "text/x-r-source",
   "name": "R",
   "pygments_lexer": "r",
   "version": "4.0.3"
  }
 },
 "nbformat": 4,
 "nbformat_minor": 5
}
