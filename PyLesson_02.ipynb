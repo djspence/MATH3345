{
 "cells": [
  {
   "cell_type": "markdown",
   "id": "ethical-netherlands",
   "metadata": {},
   "source": [
    "# MATH 3345 Python Lesson Notebook 2\n",
    "\n",
    "## Introduction to NumPy\n",
    "\n",
    "This notebook accompanies Chapter 4 of _**Python for Data Analysis (3rd Ed.)**_"
   ]
  },
  {
   "cell_type": "markdown",
   "id": "exact-coral",
   "metadata": {},
   "source": [
    "### Set Up \n",
    "Python libraries are loaded with the **import** command."
   ]
  },
  {
   "cell_type": "code",
   "execution_count": null,
   "id": "conventional-diagnosis",
   "metadata": {},
   "outputs": [],
   "source": [
    "import numpy as np"
   ]
  },
  {
   "cell_type": "markdown",
   "id": "logical-banks",
   "metadata": {},
   "source": [
    "### Reminder: Command Line Examples \n",
    "\n",
    "Remember that examples given in this text are often shown as they appear in a command-line \"shell\". Therefore, you will need to modify them to run in a Jupyter notebook cell. For instance, the first example in Section 4.1 is shown below:\n",
    "\n",
    "```\n",
    "In [12]: import numpy as np\n",
    "\n",
    "In [13]: data = np.array([[1.5, -0.1, 3], [0, -3, 6.5]])\n",
    "\n",
    "In [14]: data\n",
    "Out[14]: \n",
    "array([[ 1.5, -0.1,  3. ],\n",
    "       [ 0. , -3. ,  6.5]])\n",
    "```\n",
    "#### NOTE:\n",
    "1. We have already loaded `numpy` in the previous cell, so we don't need to load it again.\n",
    "2. To reproduce the rest of this example, we only need to type the following:\n",
    "```\n",
    "data = np.array([[1.5, -0.1, 3], [0, -3, 6.5]])\n",
    "data\n",
    "```\n",
    "\n"
   ]
  },
  {
   "cell_type": "markdown",
   "id": "possible-dining",
   "metadata": {},
   "source": [
    "### The NumPy Multidimensional Array (Section 4.1)\n",
    "\n",
    "Create new code cells to carry out examples in this section, omitting examples that cannot be executed here (e.g., those that use variables that we have not declared in this notebook.) Also consider creating one or more **markdown** cells to write some notes to yourself about what each example is illustrating.\n",
    "\n",
    "#### Once again, pay special attention to the information on \n",
    "* Indexing\n",
    "* Slicing\n",
    "\n",
    "#### You may spend less time on the following sections\n",
    "* Data Types\n"
   ]
  },
  {
   "cell_type": "code",
   "execution_count": null,
   "id": "understood-dominican",
   "metadata": {},
   "outputs": [],
   "source": []
  },
  {
   "cell_type": "markdown",
   "id": "documented-nation",
   "metadata": {},
   "source": [
    "### Random Number Generation (Section 4.2)\n",
    "\n",
    "This section is useful, but **_optional_** for this course."
   ]
  },
  {
   "cell_type": "markdown",
   "id": "going-liquid",
   "metadata": {},
   "source": [
    "### Universal Functions (Section 4.3)\n",
    "\n",
    "Use code cell(s) below to reproduce examples of interest in this section.\n",
    "\n"
   ]
  },
  {
   "cell_type": "code",
   "execution_count": null,
   "id": "interesting-medium",
   "metadata": {},
   "outputs": [],
   "source": []
  },
  {
   "cell_type": "markdown",
   "id": "dense-creek",
   "metadata": {},
   "source": [
    "### Array-Oriented Programming (Section 4.4)\n",
    "\n",
    "Use code cell(s) below to reproduce examples of interest in this section.\n",
    "\n",
    "Pay particular attention to these sections:\n",
    "* Mathematical and Statistical Methods\n",
    "* Sorting"
   ]
  },
  {
   "cell_type": "code",
   "execution_count": null,
   "id": "separate-polish",
   "metadata": {},
   "outputs": [],
   "source": []
  },
  {
   "cell_type": "markdown",
   "id": "parental-drama",
   "metadata": {},
   "source": [
    "### Sections 4.5 - 4.8\n",
    "\n",
    "These sections are **_NOT REQUIRED_** for this course."
   ]
  }
 ],
 "metadata": {
  "kernelspec": {
   "display_name": "Python 3",
   "language": "python",
   "name": "python3"
  },
  "language_info": {
   "codemirror_mode": {
    "name": "ipython",
    "version": 3
   },
   "file_extension": ".py",
   "mimetype": "text/x-python",
   "name": "python",
   "nbconvert_exporter": "python",
   "pygments_lexer": "ipython3",
   "version": "3.8.6"
  }
 },
 "nbformat": 4,
 "nbformat_minor": 5
}
