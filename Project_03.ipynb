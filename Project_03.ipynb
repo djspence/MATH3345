{
 "cells": [
  {
   "cell_type": "markdown",
   "id": "ethical-netherlands",
   "metadata": {},
   "source": [
    "# MATH 3345 Project 3\n",
    "\n",
    "Perform the tasks below.  Your final result should be an .HTML file of this notebook, with all code cells run and all answers provided in a markdown cell where instructed.\n",
    "\n",
    "As a guide, remember to consult the examples and lesson notebooks from all chapters that we have covered in _**R for Data Science (2nd Ed.)**_\n",
    "\n",
    "## Background\n",
    "\n",
    "Your data set consists of the following files. _**You will be responsible for loading the data from all files.**_ On JupyterHub, these files are in the **Data** folder. If you are working in RStudio, download the files from D2L and place them on your machine in any location you choose.\n",
    "\n",
    "* Buildings.csv\n",
    "* BusinessCourses.csv\n",
    "* CollegeStudents.csv\n",
    "* CourseSections.csv\n",
    "* Departments.csv\n",
    "* Enrolled.csv\n",
    "* Instructors.csv\n",
    "* Subjects.csv\n",
    "\n",
    "These files make up a set of data regarding courses, instructors, students, scheduled sections of courses, and current enrollments in those courses.  (Note that all names and some other details are fictitious.)"
   ]
  },
  {
   "cell_type": "markdown",
   "id": "exact-coral",
   "metadata": {},
   "source": [
    "### Set Up \n",
    "\n",
    "You may load **tidyverse** or just load the **dplyr**, **tidyr**, **readr**, and **stringr** packages.\n",
    "\n",
    "**NOTE:** _Only run the 'install.packages' steps below if the ```library``` commands in the 4th code cell generate an error message._"
   ]
  },
  {
   "cell_type": "code",
   "execution_count": null,
   "id": "green-whole",
   "metadata": {},
   "outputs": [],
   "source": [
    "#Remove the comment symbol on the line below, run the line ONE time, then replace the comment symbol\n",
    "#install.packages(\"dplyr\")"
   ]
  },
  {
   "cell_type": "code",
   "execution_count": null,
   "id": "mighty-cassette",
   "metadata": {},
   "outputs": [],
   "source": [
    "#Remove the comment symbol on the line below, run the line ONE time, then replace the comment symbol\n",
    "#install.packages(\"tidyr\")"
   ]
  },
  {
   "cell_type": "code",
   "execution_count": null,
   "id": "comparable-translation",
   "metadata": {},
   "outputs": [],
   "source": [
    "#Remove the comment symbol on the line below, run the line ONE time, then replace the comment symbol\n",
    "#install.packages(\"stringr\")"
   ]
  },
  {
   "cell_type": "code",
   "execution_count": null,
   "id": "radical-lobby",
   "metadata": {},
   "outputs": [],
   "source": [
    "#Remove the comment symbol on the line below, run the line ONE time, then replace the comment symbol\n",
    "#install.packages(\"readr\")"
   ]
  },
  {
   "cell_type": "code",
   "execution_count": 2,
   "id": "portuguese-stopping",
   "metadata": {},
   "outputs": [],
   "source": [
    "library(dplyr)\n",
    "library(tidyr)\n",
    "library(stringr)\n",
    "library(readr)"
   ]
  },
  {
   "cell_type": "markdown",
   "id": "fifty-inflation",
   "metadata": {},
   "source": [
    "### Data Set\n",
    "\n",
    "Load each of the 8 files listed above into a dataframe. It is recommended that each dataframe be named consistent with the data it contains (e.g., df_buildings).\n",
    "\n",
    "Display at least some of the contents of each dataframe after you have loaded it."
   ]
  },
  {
   "cell_type": "markdown",
   "id": "logical-banks",
   "metadata": {},
   "source": [
    "### Task 1: Instructors by Department\n",
    "\n",
    "Use the most appropriate instructions to create a dataframe showing all instructors. The dataframe should have 4 columns:\n",
    "* Instructor ID\n",
    "* Instructor's Last Name\n",
    "* Instructor's First Name\n",
    "* The NAME of the instructor's department (NOT the code)\n",
    "\n",
    "Put the dataframe in order by department (all instructors for the same department should be together), and in _alphabetical order by last name_ **within** each department.\n",
    "\n",
    "Display the resulting dataframe.\n",
    "\n",
    "Use the cell below to create the results described. Be sure to run the cell(s) to display all of your results."
   ]
  },
  {
   "cell_type": "code",
   "execution_count": null,
   "id": "killing-fortune",
   "metadata": {},
   "outputs": [],
   "source": [
    "#Your solution to Task 1\n"
   ]
  },
  {
   "cell_type": "markdown",
   "id": "documented-nation",
   "metadata": {},
   "source": [
    "### Task 2: Summary of Instructors \n",
    "\n",
    "Use the dataframe you created in **Task 1** to generate and display a department summary of the **_number of instructors_** for each department.\n",
    "\n",
    "Use the cell below to create the results described. Be sure to run the cell(s) to display all of your results."
   ]
  },
  {
   "cell_type": "code",
   "execution_count": null,
   "id": "dramatic-exchange",
   "metadata": {},
   "outputs": [],
   "source": [
    "#Your solution to Task 2\n"
   ]
  },
  {
   "cell_type": "markdown",
   "id": "horizontal-chosen",
   "metadata": {},
   "source": [
    "### Task 3: Individual Student Schedule\n",
    "\n",
    "Using student **S900604641**, create and display a dataframe that shows the student's course schedule, based on the courses in which the student is enrolled. The final dataframe should have ONLY the following columns:\n",
    "\n",
    "* Subject name (e.g. 'Accounting', not 'ACCT')\n",
    "* Course number\n",
    "* Course title\n",
    "* Instructor name (last name is sufficient)\n",
    "* Days\n",
    "* Start time\n",
    "* End time\n",
    "* Campus \n",
    "* Building\n",
    "* Room number\n",
    "\n",
    "The columns should be in the order shown above. Note that there should be exactly one row in the dataframe for each class in which the student is enrolled.\n",
    "\n",
    "Use the cell below to create the results described. Be sure to run the cell(s) to display all of your results."
   ]
  },
  {
   "cell_type": "code",
   "execution_count": null,
   "id": "owned-cleveland",
   "metadata": {},
   "outputs": [],
   "source": [
    "#Your solution to Task 3\n"
   ]
  },
  {
   "cell_type": "markdown",
   "id": "secret-clear",
   "metadata": {},
   "source": [
    "### Task 4: Course Roster\n",
    "\n",
    "Using CRN **8967**, create and display a dataframe that shows all students enrolled in the course. The final dataframe should have ONLY the following columns:\n",
    "\n",
    "* Student's ID\n",
    "* Student First Name\n",
    "* Student Last Name\n",
    "\n",
    "The columns should be in the order shown above. \n",
    "\n",
    "Use the cell below to create the results described. Be sure to run the cell(s) to display all of your results."
   ]
  },
  {
   "cell_type": "code",
   "execution_count": null,
   "id": "bronze-protocol",
   "metadata": {},
   "outputs": [],
   "source": [
    "#Your solution to Task 4"
   ]
  },
  {
   "cell_type": "markdown",
   "id": "upper-default",
   "metadata": {},
   "source": [
    "### Task 5: Courses by Instructor\n",
    "\n",
    "Using Instructor ID **1034**, create and display a dataframe that shows all courses the instructor is scheduled to teach. The final dataframe should have ONLY the following columns:\n",
    "\n",
    "* Subject name (e.g. 'Accounting', not 'ACCT')\n",
    "* Course number\n",
    "* Section\n",
    "* Course title\n",
    "* Days\n",
    "* Start time\n",
    "* End time\n",
    "* Campus \n",
    "* Building\n",
    "* Room number\n",
    "\n",
    "The columns should be in the order shown above. \n",
    "\n",
    "Use the cell below to create the results described. Be sure to run the cell(s) to display all of your results."
   ]
  },
  {
   "cell_type": "code",
   "execution_count": null,
   "id": "blind-profile",
   "metadata": {},
   "outputs": [],
   "source": [
    "#Your solution to Task 5"
   ]
  },
  {
   "cell_type": "markdown",
   "id": "gross-world",
   "metadata": {},
   "source": [
    "### Task 6: Students by Instructor\n",
    "\n",
    "Using Instructor ID **1029**, create and display a dataframe that shows all students enrolled in any course the instructor is scheduled to teach. The final dataframe should have ONLY the following columns:\n",
    "\n",
    "* Student first name\n",
    "* Student last name\n",
    "* Subject name (e.g. 'Accounting', not 'ACCT')\n",
    "* Course number\n",
    "* Section\n",
    "* Course title\n",
    "\n",
    "The columns should be in the order shown above. Note that if the same student is enrolled for more than one of the instructor's courses, they should show up twice in the table, because each row identifies a student AND the course they are enrolled in.\n",
    "\n",
    "Use the cell below to create the results described. Be sure to run the cell(s) to display all of your results."
   ]
  },
  {
   "cell_type": "code",
   "execution_count": null,
   "id": "bibliographic-collapse",
   "metadata": {},
   "outputs": [],
   "source": [
    "#Your solution to Task 6"
   ]
  },
  {
   "cell_type": "markdown",
   "id": "sexual-bryan",
   "metadata": {},
   "source": [
    "### Task 7: Scheduled Courses by Department\n",
    "\n",
    "Using the **Marketing & Management** department (ID **480**), create and display a dataframe that shows all course sections scheduled for the department. The final dataframe should have ONLY the following columns:\n",
    "\n",
    "* Subject name (e.g. 'Accounting', not 'ACCT')\n",
    "* Course number\n",
    "* Section\n",
    "* Course title\n",
    "* Instructor name (last name is sufficient)\n",
    "* Days\n",
    "* Start time\n",
    "* End time\n",
    "* Campus \n",
    "* Building\n",
    "* Room number\n",
    "\n",
    "The columns should be in the order shown above. \n",
    "\n",
    "Use the cell below to create the results described. Be sure to run the cell(s) to display all of your results."
   ]
  },
  {
   "cell_type": "code",
   "execution_count": null,
   "id": "cloudy-studio",
   "metadata": {},
   "outputs": [],
   "source": [
    "#Your solution to Task 7"
   ]
  }
 ],
 "metadata": {
  "kernelspec": {
   "display_name": "R",
   "language": "R",
   "name": "ir"
  },
  "language_info": {
   "codemirror_mode": "r",
   "file_extension": ".r",
   "mimetype": "text/x-r-source",
   "name": "R",
   "pygments_lexer": "r",
   "version": "4.0.3"
  }
 },
 "nbformat": 4,
 "nbformat_minor": 5
}
