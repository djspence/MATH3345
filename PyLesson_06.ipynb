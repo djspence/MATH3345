{
 "cells": [
  {
   "cell_type": "markdown",
   "id": "ethical-netherlands",
   "metadata": {},
   "source": [
    "# MATH 3345 Python Lesson Notebook 6\n",
    "\n",
    "## Data Visualization\n",
    "## Working with Time Data and Time Series\n",
    "\n",
    "This notebook accompanies Chapters 9 and 11 of _**Python for Data Analysis (3rd Ed.)**_"
   ]
  },
  {
   "cell_type": "markdown",
   "id": "exact-coral",
   "metadata": {},
   "source": [
    "### Set Up \n",
    "Below we load the libraries used in this lesson."
   ]
  },
  {
   "cell_type": "code",
   "execution_count": null,
   "id": "conventional-diagnosis",
   "metadata": {},
   "outputs": [],
   "source": [
    "import numpy as np\n",
    "import pandas as pd\n",
    "import matplotlib.pyplot as plt\n",
    "from datetime import datetime\n",
    "import seaborn as sns"
   ]
  },
  {
   "cell_type": "markdown",
   "id": "logical-banks",
   "metadata": {},
   "source": [
    "### Reminder: Command Line Examples \n",
    "\n",
    "Remember that examples given in this text are often shown as they appear in a command-line \"shell\". Therefore, you will need to modify them to run in a Jupyter notebook cell by typing only the code, not the prompts (e.g., `In [12]:`) and not the output produced by the sample code.\n",
    "\n",
    "### CAUTION: Adding to Existing Plots\n",
    "\n",
    "Some examples use multiple code segments to illustrate how to add one thing at a time to a plot.  In JupyterHub, you must put all code relating to a given plot _**in the same code cell**_ for the commands to work.  This is because once a plot is generated, additional code to modify the plot will not work.\n"
   ]
  },
  {
   "cell_type": "markdown",
   "id": "going-liquid",
   "metadata": {},
   "source": [
    "### A `matplotlib` Primer (Section 9.1) \n",
    "\n",
    "Create new code cells to carry out examples of interest in this section. Also consider creating one or more **markdown** cells to write some notes to yourself about what each example is illustrating.\n",
    "\n",
    ">#### NOTE:\n",
    ">One example loads a data file with the command:\n",
    ">```\n",
    "data = pd.read_csv(\"examples/spx.csv\", index_col=0, parse_dates=True)\n",
    ">```\n",
    "To get the data to load in this notebook, **change the command** to:\n",
    ">```\n",
    "data = pd.read_csv(\"Data/spx.csv\", index_col=0, parse_dates=True)\n",
    "```\n",
    "\n"
   ]
  },
  {
   "cell_type": "markdown",
   "id": "possible-dining",
   "metadata": {},
   "source": [
    "### Plotting with Pandas and Seaborn (Section 9.2)\n",
    "\n",
    "Create new code cells to carry out examples of interest in this section. Also consider creating one or more **markdown** cells to write some notes to yourself about what each example is illustrating.\n",
    "\n",
    ">#### NOTE:\n",
    "One example loads a data file with the command:\n",
    ">```\n",
    "tips = pd.read_csv(\"examples/tips.csv\")\n",
    ">```\n",
    ">To get the data to load in this notebook, **change the command** to:\n",
    ">```\n",
    "tips = pd.read_csv(\"Data/tips.csv\")\n",
    ">```"
   ]
  },
  {
   "cell_type": "code",
   "execution_count": null,
   "id": "understood-dominican",
   "metadata": {},
   "outputs": [],
   "source": []
  },
  {
   "cell_type": "markdown",
   "id": "documented-nation",
   "metadata": {},
   "source": [
    "### Date and Time Data (Section 11.1)\n",
    "\n",
    "Create new code cells to carry out examples of interest in this section. Also consider creating one or more **markdown** cells to write some notes to yourself about what each example is illustrating.\n"
   ]
  },
  {
   "cell_type": "code",
   "execution_count": null,
   "id": "trying-naples",
   "metadata": {},
   "outputs": [],
   "source": []
  },
  {
   "cell_type": "markdown",
   "id": "cordless-giant",
   "metadata": {},
   "source": [
    "### Time Series Basics (Section 11.2)\n",
    "\n",
    "Create new code cells to carry out examples of interest in this section. Also consider creating one or more **markdown** cells to write some notes to yourself about what each example is illustrating.\n",
    "\n",
    ">#### NOTE:\n",
    "You may **omit the last unit** on _Time Series with Duplicate Indices_ in Section 11.2\n"
   ]
  },
  {
   "cell_type": "code",
   "execution_count": null,
   "id": "temporal-midwest",
   "metadata": {},
   "outputs": [],
   "source": []
  },
  {
   "cell_type": "markdown",
   "id": "protecting-modern",
   "metadata": {},
   "source": [
    "### Optional Sections (11.3 - 11.7)\n",
    "The remaining sections of Chapter 11 are useful, but are not required because they are beyond the scope of this course. Feel free to explore examples in these sections on your own if you are interested."
   ]
  },
  {
   "cell_type": "code",
   "execution_count": null,
   "id": "contrary-circular",
   "metadata": {},
   "outputs": [],
   "source": []
  }
 ],
 "metadata": {
  "kernelspec": {
   "display_name": "Python 3",
   "language": "python",
   "name": "python3"
  },
  "language_info": {
   "codemirror_mode": {
    "name": "ipython",
    "version": 3
   },
   "file_extension": ".py",
   "mimetype": "text/x-python",
   "name": "python",
   "nbconvert_exporter": "python",
   "pygments_lexer": "ipython3",
   "version": "3.8.6"
  }
 },
 "nbformat": 4,
 "nbformat_minor": 5
}
