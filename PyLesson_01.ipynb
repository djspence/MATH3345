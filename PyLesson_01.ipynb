{
 "cells": [
  {
   "cell_type": "markdown",
   "id": "ethical-netherlands",
   "metadata": {},
   "source": [
    "# MATH 3345 Python Lesson Notebook 1\n",
    "\n",
    "## Python Language Basics\n",
    "\n",
    "This notebook accompanies Chapters 2 and 3 of _**Python for Data Analysis (3rd Ed.)**_"
   ]
  },
  {
   "cell_type": "markdown",
   "id": "exact-coral",
   "metadata": {},
   "source": [
    "### Set Up \n",
    "Python libraries are loaded with the **import** command."
   ]
  },
  {
   "cell_type": "code",
   "execution_count": null,
   "id": "conventional-diagnosis",
   "metadata": {},
   "outputs": [],
   "source": [
    "import numpy as np"
   ]
  },
  {
   "cell_type": "markdown",
   "id": "logical-banks",
   "metadata": {},
   "source": [
    "### Simple Examples (e.g., Section 2.2)\n",
    "\n",
    "Note that some early examples given in this text **_cannot be copied and run as shown_**. That is because the examples show the entire contents of the screen in a command-line \"shell\", so the line prompts AND the output are copied. Thus, to try the example below:\n",
    "\n",
    "```\n",
    "In [1]: a = 5\n",
    "\n",
    "In [2]: a\n",
    "Out[2]: 5\n",
    "```\n",
    "\n",
    "You would simply need to type:\n",
    "```\n",
    "a = 5\n",
    "a\n",
    "```\n",
    "\n"
   ]
  },
  {
   "cell_type": "code",
   "execution_count": null,
   "id": "sapphire-equation",
   "metadata": {},
   "outputs": [],
   "source": []
  },
  {
   "cell_type": "markdown",
   "id": "possible-dining",
   "metadata": {},
   "source": [
    "### Python Language Basics (Section 2.3)\n",
    "\n",
    "The first several examples in this section are designed to show you some feature about how Python operates, but they cannot be run here; they use variables that have not been declared (such as code you might find in the middle of a program.) \n",
    "\n",
    "The first example that you will be able to reproduce here is under the heading **_Variables and argument passing_**.  Remember that you will need to enter ONLY the code portion of these examples; for instance, for the first example, \n",
    "```\n",
    "In [8]: a = [1, 2, 3]\n",
    "```\n",
    "you should only enter\n",
    "```\n",
    "a = [1, 2, 3]\n",
    "```\n",
    "\n",
    "Create new code cells to carry out examples in this section, omitting examples that cannot be executed here (e.g., those that use variables that we have not declared in this notebook.) Also consider creating one or more **markdown** cells to write some notes to yourself about what each example is illustrating.\n",
    "\n",
    "##### YOU MAY ALSO OMIT THE FOLLOWING SECTIONS\n",
    "* The examples about _String templating_ under the **Strings** section\n",
    "* Bytes and Unicode\n",
    "* Dates and Times\n"
   ]
  },
  {
   "cell_type": "code",
   "execution_count": null,
   "id": "understood-dominican",
   "metadata": {},
   "outputs": [],
   "source": []
  },
  {
   "cell_type": "markdown",
   "id": "documented-nation",
   "metadata": {},
   "source": [
    "### Data Structures and Sequences (Section 3.1)\n",
    "\n",
    "Use code cell(s) below to reproduce examples of interest in this section.\n",
    "\n",
    "Pay particular attention to the information about the following topics:\n",
    "* tuples\n",
    "* lists\n",
    "* sorting\n",
    "* slicing\n",
    "\n",
    "The section on **_Dictionaries_** is useful, but optional for this course.\n",
    "\n",
    "#### YOU MAY OMIT ALL CONTENT AFTER _\"DICTIONARIES\"_ IN THIS SECTION."
   ]
  },
  {
   "cell_type": "code",
   "execution_count": null,
   "id": "appointed-motorcycle",
   "metadata": {},
   "outputs": [],
   "source": []
  },
  {
   "cell_type": "markdown",
   "id": "going-liquid",
   "metadata": {},
   "source": [
    "### Functions (Section 3.2)\n",
    "\n",
    "Use code cell(s) below to reproduce examples of interest in this section.\n",
    "\n",
    "Pay careful attention to the beginning of this section. Writing a function will be an essential skill as you work with Python. \n",
    "\n",
    "#### YOU MAY OMIT _\"RETURNING MULTIPLE VALUES\"_ AND ALL CONTENT FOLLOWING THAT IN THIS SECTION."
   ]
  },
  {
   "cell_type": "code",
   "execution_count": null,
   "id": "interesting-medium",
   "metadata": {},
   "outputs": [],
   "source": []
  }
 ],
 "metadata": {
  "kernelspec": {
   "display_name": "Python 3",
   "language": "python",
   "name": "python3"
  },
  "language_info": {
   "codemirror_mode": {
    "name": "ipython",
    "version": 3
   },
   "file_extension": ".py",
   "mimetype": "text/x-python",
   "name": "python",
   "nbconvert_exporter": "python",
   "pygments_lexer": "ipython3",
   "version": "3.8.6"
  }
 },
 "nbformat": 4,
 "nbformat_minor": 5
}
