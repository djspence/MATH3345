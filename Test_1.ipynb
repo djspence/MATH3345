{
 "cells": [
  {
   "cell_type": "markdown",
   "id": "ethical-netherlands",
   "metadata": {},
   "source": [
    "# MATH 3345 Test 1 Notebook (Applied)\n",
    "\n",
    "Points for your TEST 1 score are allocated as follows:\n",
    "\n",
    "* Knowledge Portion (TIMED D2L Quiz) - 50 points\n",
    "* Applied Portion (not timed)\n",
    "   * The html from this notebook submitted to the assignment folder - 25 points\n",
    "   * Answers to the questions in this notebook, entered in second D2L quiz (NOT timed) - 25 points\n",
    "\n",
    "Your html submission should show your code AND its results.\n",
    "\n",
    "**_No part of this test may be submitted late. Any part of the test not received by the due date will receive a zero._**"
   ]
  },
  {
   "cell_type": "markdown",
   "id": "exact-coral",
   "metadata": {},
   "source": [
    "### Set Up \n",
    "\n",
    "You may load tidyverse, or just the packages needed for this notebook: the **dplyr**, **stringr**, and **tidyr** libraries.\n",
    "\n",
    "**NOTE:** _Only run the 'install.packages' steps below if the ```library``` command fails to load the specified package._"
   ]
  },
  {
   "cell_type": "code",
   "execution_count": null,
   "id": "green-whole",
   "metadata": {},
   "outputs": [],
   "source": [
    "#Remove the comment symbol on the line below, run the line ONE time, then replace the comment symbol\n",
    "#install.packages(\"dplyr\")"
   ]
  },
  {
   "cell_type": "code",
   "execution_count": null,
   "id": "portuguese-stopping",
   "metadata": {},
   "outputs": [],
   "source": [
    "library(dplyr)"
   ]
  },
  {
   "cell_type": "code",
   "execution_count": null,
   "id": "imposed-argument",
   "metadata": {},
   "outputs": [],
   "source": [
    "#Remove the comment symbol on the line below, run the line ONE time, then replace the comment symbol\n",
    "#install.packages(\"stringr\")"
   ]
  },
  {
   "cell_type": "code",
   "execution_count": null,
   "id": "going-difference",
   "metadata": {},
   "outputs": [],
   "source": [
    "library(stringr)\n"
   ]
  },
  {
   "cell_type": "code",
   "execution_count": null,
   "id": "solar-regulation",
   "metadata": {},
   "outputs": [],
   "source": [
    "#Remove the comment symbol on the line below, run the line ONE time, then replace the comment symbol\n",
    "#install.packages(\"tidyr\")"
   ]
  },
  {
   "cell_type": "code",
   "execution_count": null,
   "id": "higher-residence",
   "metadata": {},
   "outputs": [],
   "source": [
    "library(tidyr)\n"
   ]
  },
  {
   "cell_type": "markdown",
   "id": "quality-gentleman",
   "metadata": {},
   "source": [
    "### Load Library for Data\n",
    "Some of these tasks require the ```babynames``` data set in the **babynames** library. If the library fails to load, remember to install it first using _```install.packages```_ in the cell below."
   ]
  },
  {
   "cell_type": "code",
   "execution_count": null,
   "id": "basic-indianapolis",
   "metadata": {},
   "outputs": [],
   "source": [
    "#Remove the comment symbol on the line below, run the line ONE time, then replace the comment symbol\n",
    "#install.packages(\"babynames\")"
   ]
  },
  {
   "cell_type": "code",
   "execution_count": null,
   "id": "australian-korea",
   "metadata": {},
   "outputs": [],
   "source": [
    "library(babynames)"
   ]
  },
  {
   "cell_type": "code",
   "execution_count": null,
   "id": "monetary-asbestos",
   "metadata": {},
   "outputs": [],
   "source": [
    "head(babynames)"
   ]
  },
  {
   "cell_type": "markdown",
   "id": "fifty-inflation",
   "metadata": {},
   "source": [
    "## Tasks\n",
    "\n",
    "For each task below, use the appropriate R instructions to determine the answer. Note that _each different spelling of a name is considered a different name_. For instance, 'Ann' and 'Anne' are different names.\n",
    "\n",
    "**_You will need to enter the answer to each question in the D2L quiz._** Your code will be evaluated based on your html submission of this notebook. "
   ]
  },
  {
   "cell_type": "markdown",
   "id": "documented-nation",
   "metadata": {},
   "source": [
    "## Question 1. \n",
    "\n",
    "**There are multiple versions of this question.** Each version of the question uses a different name. An example of the question is given below using the name _'Jack'_. **_Be sure to find the solution for the version of the question given in your D2L quiz._**\n",
    "\n",
    "In the ```babynames``` data set, how many male babies were named _Jack_ in 2004?"
   ]
  },
  {
   "cell_type": "code",
   "execution_count": null,
   "id": "appointed-motorcycle",
   "metadata": {},
   "outputs": [],
   "source": [
    "# Your code for Question 1\n"
   ]
  },
  {
   "cell_type": "markdown",
   "id": "compressed-indian",
   "metadata": {},
   "source": [
    "## Question 2. \n",
    "\n",
    "In the ```babynames``` data set, what was the **_most common_** male baby name in 2004?"
   ]
  },
  {
   "cell_type": "code",
   "execution_count": null,
   "id": "sapphire-banks",
   "metadata": {},
   "outputs": [],
   "source": [
    "# Your code for Question 2\n"
   ]
  },
  {
   "cell_type": "markdown",
   "id": "seventh-cinema",
   "metadata": {},
   "source": [
    "## Question 3. \n",
    "\n",
    "**There are multiple versions of this question.** Each version of the question uses a different name. An example of the question is given below using the name _'Jack'_. **_Be sure to find the solution for the version of the question given in your D2L quiz._**\n",
    "\n",
    "In the ```babynames``` data set, in what year were there the MOST male babies named _Jack_?"
   ]
  },
  {
   "cell_type": "code",
   "execution_count": null,
   "id": "alike-particle",
   "metadata": {},
   "outputs": [],
   "source": [
    "# Your code for Question 3\n"
   ]
  },
  {
   "cell_type": "markdown",
   "id": "impressive-chemistry",
   "metadata": {},
   "source": [
    "## Question 4. \n",
    "\n",
    "In the ```babynames``` data set, how many _**different**_ female names are there? (Remember that each unique spelling is considered a different name.)"
   ]
  },
  {
   "cell_type": "code",
   "execution_count": null,
   "id": "loved-sector",
   "metadata": {},
   "outputs": [],
   "source": [
    "# Your code for Question 4\n"
   ]
  },
  {
   "cell_type": "markdown",
   "id": "united-increase",
   "metadata": {},
   "source": [
    "## Question 5. \n",
    "\n",
    "Create a dataframe called ```df_totals``` that shows each different name and the _**total**_ number of babies with that name (regardless of year). **CAUTION:** _Note that you are not simply counting the number of rows, as each row represents a total number for the specified year._ \n",
    "\n",
    "Use ```df_totals``` to answer Questions 5 - 8.  \n",
    "\n",
    "**(Q5)** In the ```df_totals``` data set, which name has the highest total over all years combined?"
   ]
  },
  {
   "cell_type": "code",
   "execution_count": null,
   "id": "enhanced-change",
   "metadata": {},
   "outputs": [],
   "source": [
    "# Your code for Question 5\n"
   ]
  },
  {
   "cell_type": "markdown",
   "id": "split-length",
   "metadata": {},
   "source": [
    "## Question 6. \n",
    "\n",
    "For the name with the highest total over all years combined, what is the total number of babies who were given that name?"
   ]
  },
  {
   "cell_type": "code",
   "execution_count": null,
   "id": "pressed-death",
   "metadata": {},
   "outputs": [],
   "source": [
    "# Your code for Question 6\n"
   ]
  },
  {
   "cell_type": "markdown",
   "id": "abandoned-evanescence",
   "metadata": {},
   "source": [
    "## Question 7. \n",
    "\n",
    "There is a tie for the _lowest_ total number of babies with a specified name. How many names are tied for the lowest total number of babies?\n",
    "\n",
    "_Use any one of these names as the basis for the next question_."
   ]
  },
  {
   "cell_type": "code",
   "execution_count": null,
   "id": "heard-purse",
   "metadata": {},
   "outputs": [],
   "source": [
    "# Your code for Question 7\n"
   ]
  },
  {
   "cell_type": "markdown",
   "id": "occupational-voltage",
   "metadata": {},
   "source": [
    "## Question 8. \n",
    "\n",
    "For one of the names given to the _lowest_ total number of babies, how many babies were given that name?"
   ]
  },
  {
   "cell_type": "code",
   "execution_count": null,
   "id": "plastic-article",
   "metadata": {},
   "outputs": [],
   "source": [
    "# Your code for Question 8\n"
   ]
  },
  {
   "cell_type": "markdown",
   "id": "reliable-unknown",
   "metadata": {},
   "source": [
    "## Question 9. \n",
    "\n",
    "Create a dataframe called ```df_overview``` that shows each different name, the total number of babies given that name, the _**earliest**_ year that name was used, the _**latest**_ year the name was used, and the _**span**_ of years that the name was used.  \n",
    "\n",
    "**Example:** If a name was first used in 1900 and was last used in 1920, the **_span_** is 21 years (note that 20 is not the right value, because both the first and last years must be counted in the span.)\n",
    "\n",
    "**If** you order the rows from highest to lowest span, in alphabetical order by name within each span, the first 6 rows of the ```df_overview``` dataframe will look like this:\n",
    "\n",
    "```\n",
    "A tibble: 6 × 5\n",
    "name    total   earliest latest span\n",
    "<chr>   <int>   <dbl>   <dbl>   <dbl>\n",
    "Aaron   579589  1880    2017    138\n",
    "Abbie   21716   1880    2017    138\n",
    "Abbott  1020    1880    2017    138\n",
    "Abby    57756   1880    2017    138\n",
    "Abe     9158    1880    2017    138\n",
    "Abel    50236   1880    2017    138\n",
    "```\n",
    "\n",
    "_The above result is shown to help you understand the task. Putting your rows in this order is **NOT** required._\n",
    "\n",
    "Use ```df_overview``` to answer Questions 9 - 12.  \n",
    "\n",
    "**(Q9)** In the ```df_overview``` data set, the highest span is 138 years. How many names have a span of 138 years?"
   ]
  },
  {
   "cell_type": "code",
   "execution_count": null,
   "id": "compatible-taste",
   "metadata": {},
   "outputs": [],
   "source": [
    "# Your code for Question 9\n"
   ]
  },
  {
   "cell_type": "markdown",
   "id": "moderate-russian",
   "metadata": {},
   "source": [
    "## Question 10. \n",
    "\n",
    "Among names with a span of exactly 100 years, which _name_ was given to the highest total number of babies?  \n",
    "\n",
    "_Also use this name as the basis for the next question_."
   ]
  },
  {
   "cell_type": "code",
   "execution_count": null,
   "id": "industrial-boston",
   "metadata": {},
   "outputs": [],
   "source": [
    "# Your code for Question 10\n"
   ]
  },
  {
   "cell_type": "markdown",
   "id": "lasting-canyon",
   "metadata": {},
   "source": [
    "## Question 11. \n",
    "\n",
    "For the name with the highest total among names with a 100-year span, what is the _total number of babies_ who were given that name?"
   ]
  },
  {
   "cell_type": "code",
   "execution_count": null,
   "id": "reasonable-communications",
   "metadata": {},
   "outputs": [],
   "source": [
    "# Your code for Question 11\n"
   ]
  },
  {
   "cell_type": "markdown",
   "id": "amateur-factory",
   "metadata": {},
   "source": [
    "## Question 12. \n",
    "\n",
    "What is the **_average_** span for all baby names that end with 'ie'?"
   ]
  },
  {
   "cell_type": "code",
   "execution_count": null,
   "id": "threatened-syndication",
   "metadata": {},
   "outputs": [],
   "source": [
    "# Your code for Question 12\n"
   ]
  },
  {
   "cell_type": "markdown",
   "id": "proud-lecture",
   "metadata": {},
   "source": [
    "## Question 13. \n",
    "\n",
    "Notice that span is not always the same as the number of years a name is actually used. For instance, a name that was first used in 1900 and last used in 1950 may not have been used in _every year_ in that 51 year span.  We can compare the span to the total count of the number of years that a name was used. For example, the table below shows some selected names for which the _**count**_ of years the name was used is lower than the span. (Notice that **count** represents the number of years the name is used, whereas **total** represents the number of babies who received that name.) \n",
    "\n",
    "The table has an additional column called **unused**, which is the difference between the span and the count.\n",
    "\n",
    "```\n",
    "A tibble: 3 × 7\n",
    "name    count   total   earliest latest span    unused\n",
    "<chr>   <int>   <int>   <dbl>    <dbl>  <dbl>   <dbl>\n",
    "Adah    120     3323    1880     2017   138     18\n",
    "Adaline 129     8154    1880     2017   138     9\n",
    "Azelie  10      100     1884     2017   134     124\n",
    "```\n",
    "\n",
    "You many construct a similar table or use any other reasonable method in **R** to determine the answer to this question: \n",
    "\n",
    "During the span of years that the name *Lulah* was given to babies, in how many of those years was the name *Lulah* **unused**?"
   ]
  },
  {
   "cell_type": "code",
   "execution_count": null,
   "id": "departmental-biodiversity",
   "metadata": {},
   "outputs": [],
   "source": [
    "# Your code for Question 13\n"
   ]
  },
  {
   "cell_type": "markdown",
   "id": "regional-albuquerque",
   "metadata": {},
   "source": [
    "## Question 14. \n",
    "\n",
    "Because these data are given by year, a single name can appear in the data set multiple times (once for each year.) Create a dataset that contains each different name only one time, and use that data set to answer questions 14-15.\n",
    "\n",
    "**(Q14)** How many different names in the data set start with 'J' and and with 'ey'?"
   ]
  },
  {
   "cell_type": "code",
   "execution_count": null,
   "id": "grand-concentration",
   "metadata": {},
   "outputs": [],
   "source": [
    "# Your code for Question 14\n"
   ]
  },
  {
   "cell_type": "markdown",
   "id": "african-paste",
   "metadata": {},
   "source": [
    "## Question 15. \n",
    "\n",
    "A name with a **double vowel** has the **_same_** vowel used twice in a row, such as 'Aaron' or 'Lee'. \n",
    "\n",
    "How many different names in the data set have a double vowel?   \n",
    "\n",
    "#### HINTS\n",
    "\n",
    "* We are only considering a, e, i, o, and u as vowels (not y)\n",
    "* Remember that one of the vowels may be capitalized (e.g., if the name starts with a double vowel, like 'Aaron')"
   ]
  },
  {
   "cell_type": "code",
   "execution_count": null,
   "id": "common-health",
   "metadata": {},
   "outputs": [],
   "source": [
    "# Your code for Question 15\n"
   ]
  }
 ],
 "metadata": {
  "kernelspec": {
   "display_name": "R",
   "language": "R",
   "name": "ir"
  },
  "language_info": {
   "codemirror_mode": "r",
   "file_extension": ".r",
   "mimetype": "text/x-r-source",
   "name": "R",
   "pygments_lexer": "r",
   "version": "4.0.3"
  }
 },
 "nbformat": 4,
 "nbformat_minor": 5
}
