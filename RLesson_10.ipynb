{
 "cells": [
  {
   "cell_type": "markdown",
   "id": "ethical-netherlands",
   "metadata": {},
   "source": [
    "# MATH 3345 R Lesson Notebook 10\n",
    "\n",
    "## Missing Values\n",
    "\n",
    "This notebook accompanies Chapter 19 of _**R for Data Science (2nd Ed.)**_"
   ]
  },
  {
   "cell_type": "markdown",
   "id": "exact-coral",
   "metadata": {},
   "source": [
    "### Set Up (Section 19.1.1)\n",
    "\n",
    "The textbook has you load tidyverse.  Another option is to load the **dplyr** and **ggplot2** libraries, which are the packages needed for these exercises.\n",
    "\n",
    "**NOTE:** _Only run the 'install.packages' steps below if the ```library``` command to load the specified package generates an error message._"
   ]
  },
  {
   "cell_type": "code",
   "execution_count": null,
   "id": "green-whole",
   "metadata": {},
   "outputs": [],
   "source": [
    "#Remove the comment symbol on the line below, run the line ONE time, then replace the comment symbol\n",
    "#install.packages(\"dplyr\")"
   ]
  },
  {
   "cell_type": "code",
   "execution_count": null,
   "id": "portuguese-stopping",
   "metadata": {},
   "outputs": [],
   "source": [
    "library(dplyr)"
   ]
  },
  {
   "cell_type": "code",
   "execution_count": null,
   "id": "hundred-dressing",
   "metadata": {},
   "outputs": [],
   "source": [
    "#Remove the comment symbol on the line below, run the line ONE time, then replace the comment symbol\n",
    "#install.packages(\"ggplot2\")"
   ]
  },
  {
   "cell_type": "code",
   "execution_count": null,
   "id": "urban-resource",
   "metadata": {},
   "outputs": [],
   "source": [
    "library(ggplot2)\n"
   ]
  },
  {
   "cell_type": "markdown",
   "id": "quality-gentleman",
   "metadata": {},
   "source": [
    "### Load Library for Data\n",
    "Some of these activities require the ```flights``` data set, which is in the **nycflights13** library. "
   ]
  },
  {
   "cell_type": "code",
   "execution_count": null,
   "id": "greenhouse-pendant",
   "metadata": {},
   "outputs": [],
   "source": [
    "#Run the line below only ONE time if the library fails to load below\n",
    "#install.packages(\"nycflights13\")"
   ]
  },
  {
   "cell_type": "code",
   "execution_count": null,
   "id": "embedded-reliance",
   "metadata": {},
   "outputs": [],
   "source": [
    "library(nycflights13)"
   ]
  },
  {
   "cell_type": "code",
   "execution_count": null,
   "id": "mature-arbor",
   "metadata": {},
   "outputs": [],
   "source": [
    "head(flights)"
   ]
  },
  {
   "cell_type": "markdown",
   "id": "fifty-inflation",
   "metadata": {},
   "source": [
    "### Explore Examples\n",
    "\n",
    "Follow the steps for re-creating the examples as shown by typing the code given in each example of the sections indicated below. Insert a new code cell to carry out each example.\n",
    "\n",
    "To get the most out of these exercises, **_do NOT copy/paste the code from the online textbook._** Type it yourself so that you will become more familiar with how the commands work. "
   ]
  },
  {
   "cell_type": "markdown",
   "id": "documented-nation",
   "metadata": {},
   "source": [
    "### Keys (Section 19.2)\n",
    "\n",
    "Create a new code cell to carry out _each_ example in the section. Also consider creating one or more **markdown** cells to write some notes to yourself about what each example is illustrating.\n"
   ]
  },
  {
   "cell_type": "code",
   "execution_count": null,
   "id": "appointed-motorcycle",
   "metadata": {},
   "outputs": [],
   "source": []
  },
  {
   "cell_type": "markdown",
   "id": "periodic-signature",
   "metadata": {},
   "source": [
    "### Basic Joins (Section 19.3)\n",
    "\n",
    "Create a new code cell to carry out _each_ example in the section. Also consider creating one or more **markdown** cells to write some notes to yourself about what each example is illustrating.\n",
    "\n",
    "#### IMPORTANT NOTES\n",
    "- The version of **dplyr** currently installed on the UNG JupyterHub _does not have_ the ```join_by``` function. Examples in this section are affected as follows.\n",
    "\n",
    "In Section 19.3.2, the example below:\n",
    "```\n",
    "flights2 |> \n",
    "  left_join(planes, join_by(tailnum))\n",
    "```\n",
    "will not work in JupyterHub and should be replaced with the following:\n",
    "\n",
    "```\n",
    "flights2 %>% \n",
    "  left_join(planes, by=\"tailnum\")\n",
    "```\n",
    "\n",
    "Similarly, the examples below:\n",
    "```\n",
    "flights2 |> \n",
    "  left_join(airports, join_by(dest == faa))\n",
    "\n",
    "flights2 |> \n",
    "  left_join(airports, join_by(origin == faa))\n",
    "\n",
    "```\n",
    "will not work in JupyterHub and should be replaced with the following:\n",
    "```\n",
    "flights2 %>% \n",
    "  left_join(airports, by = c(\"dest\" = \"faa\"))\n",
    "  \n",
    "flights2 %>% \n",
    "  left_join(airports, by = c(\"origin\" = \"faa\"))\n",
    "```\n",
    "\n",
    "***_Watch for other examples in this chapter_*** that use ```join_by(X == Y)``` and if you are using JupyterHub, replace these with ```by = c(\"X\" = \"Y\")```. Similarly, examples using ```join_by(X)``` should instead use ```by=\"X\"``` if working in JupyterHub."
   ]
  },
  {
   "cell_type": "code",
   "execution_count": null,
   "id": "interesting-medium",
   "metadata": {},
   "outputs": [],
   "source": []
  },
  {
   "cell_type": "markdown",
   "id": "horizontal-chosen",
   "metadata": {},
   "source": [
    "### How Joins Work (Section 19.4)\n",
    "\n",
    "Create a new code cell to carry out _each_ example in the section. Also consider creating one or more **markdown** cells to write some notes to yourself about what each example is illustrating.\n",
    "\n",
    "#### NOTE\n",
    "\n",
    "In Section 19.4.1, the example in the text shows a warning about many-to-many relationships, indicating that you can use the ```relationship =``` parameter to avoid this warning.  This _does not apply_ if you are working in JupyterHub.\n"
   ]
  },
  {
   "cell_type": "code",
   "execution_count": null,
   "id": "tested-project",
   "metadata": {},
   "outputs": [],
   "source": []
  },
  {
   "cell_type": "markdown",
   "id": "african-smell",
   "metadata": {},
   "source": [
    "## OPTIONAL: Section 19.5\n",
    "### Other Special Joins \n",
    "\n",
    "_**This section is optional and you may omit it.**_\n",
    "\n",
    "#### NOTES\n",
    "\n",
    "If you choose to try some of the examples in this Section, note the following:\n",
    "\n",
    "- Examples in this section require the **babynames** library and the **lubridate** library\n",
    "- The version of **dplyr** currently installed on the UNG JupyterHub _does not have_ the ```cross_join``` function used in 19.5.1.\n",
    "- The software currently installed on UNG JupyterHub _does not have_ the ```closest``` function used in 19.5.3.\n",
    "- The software currently installed on UNG JupyterHub _does not have_ the ```overlaps``` function used in 19.5.4.\n"
   ]
  }
 ],
 "metadata": {
  "kernelspec": {
   "display_name": "R",
   "language": "R",
   "name": "ir"
  },
  "language_info": {
   "codemirror_mode": "r",
   "file_extension": ".r",
   "mimetype": "text/x-r-source",
   "name": "R",
   "pygments_lexer": "r",
   "version": "4.0.3"
  }
 },
 "nbformat": 4,
 "nbformat_minor": 5
}
