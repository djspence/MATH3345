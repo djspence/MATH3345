{
 "cells": [
  {
   "cell_type": "markdown",
   "id": "ethical-netherlands",
   "metadata": {},
   "source": [
    "# MATH 3345 R Lesson Notebook 6\n",
    "\n",
    "## Numeric Values and Vectors\n",
    "\n",
    "This notebook accompanies Chapter 14 of _**R for Data Science (2nd Ed.)**_"
   ]
  },
  {
   "cell_type": "markdown",
   "id": "exact-coral",
   "metadata": {},
   "source": [
    "### Set Up (Section 14.1.1)\n",
    "\n",
    "The textbook has you load tidyverse.  Another option is to load the **dplyr**, **stringr**, and **tidyr** libraries, which are the packages needed for these exercises.\n",
    "\n",
    "**NOTE:** _Only run the 'install.packages' steps below if the ```library``` command to load the specified package generates an error message._"
   ]
  },
  {
   "cell_type": "code",
   "execution_count": null,
   "id": "green-whole",
   "metadata": {},
   "outputs": [],
   "source": [
    "#Remove the comment symbol on the line below, run the line ONE time, then replace the comment symbol\n",
    "#install.packages(\"dplyr\")"
   ]
  },
  {
   "cell_type": "code",
   "execution_count": null,
   "id": "portuguese-stopping",
   "metadata": {},
   "outputs": [],
   "source": [
    "library(dplyr)"
   ]
  },
  {
   "cell_type": "code",
   "execution_count": null,
   "id": "imposed-argument",
   "metadata": {},
   "outputs": [],
   "source": [
    "#Remove the comment symbol on the line below, run the line ONE time, then replace the comment symbol\n",
    "#install.packages(\"stringr\")"
   ]
  },
  {
   "cell_type": "code",
   "execution_count": null,
   "id": "going-difference",
   "metadata": {},
   "outputs": [],
   "source": [
    "library(stringr)\n"
   ]
  },
  {
   "cell_type": "code",
   "execution_count": null,
   "id": "solar-regulation",
   "metadata": {},
   "outputs": [],
   "source": [
    "#Remove the comment symbol on the line below, run the line ONE time, then replace the comment symbol\n",
    "#install.packages(\"tidyr\")"
   ]
  },
  {
   "cell_type": "code",
   "execution_count": null,
   "id": "urban-resource",
   "metadata": {},
   "outputs": [],
   "source": [
    "library(tidyr)\n"
   ]
  },
  {
   "cell_type": "markdown",
   "id": "quality-gentleman",
   "metadata": {},
   "source": [
    "### Load Library for Data\n",
    "Some of these activities require the ```babynames``` data set in the **babynames** library. If the library fails to load, remember to install it first using _```install.packages```_ in the cell below."
   ]
  },
  {
   "cell_type": "code",
   "execution_count": null,
   "id": "basic-indianapolis",
   "metadata": {},
   "outputs": [],
   "source": [
    "#Remove the comment symbol on the line below, run the line ONE time, then replace the comment symbol\n",
    "#install.packages(\"babynames\")"
   ]
  },
  {
   "cell_type": "code",
   "execution_count": null,
   "id": "australian-korea",
   "metadata": {},
   "outputs": [],
   "source": [
    "library(babynames)"
   ]
  },
  {
   "cell_type": "code",
   "execution_count": null,
   "id": "mature-arbor",
   "metadata": {},
   "outputs": [],
   "source": [
    "glimpse(babynames)"
   ]
  },
  {
   "cell_type": "code",
   "execution_count": null,
   "id": "monetary-asbestos",
   "metadata": {},
   "outputs": [],
   "source": [
    "head(babynames)"
   ]
  },
  {
   "cell_type": "markdown",
   "id": "fifty-inflation",
   "metadata": {},
   "source": [
    "### Explore Examples\n",
    "\n",
    "Follow the steps for re-creating the examples as shown by typing the code given in each example of the sections indicated below. Insert a new code cell to carry out each example.\n",
    "\n",
    "To get the most out of these exercises, **_do NOT copy/paste the code from the online textbook._** Type it yourself so that you will become more familiar with how the commands work. "
   ]
  },
  {
   "cell_type": "markdown",
   "id": "documented-nation",
   "metadata": {},
   "source": [
    "### Creating a String (Section 14.2)\n",
    "\n",
    "Create a new code cell to carry out _each_ example in the section. Also consider creating one or more **markdown** cells to write some notes to yourself about what each example is illustrating.\n",
    "\n",
    "#### IMPORTANT NOTES\n",
    "\n",
    "- The version of **stringr** currently installed on the UNG JupyterHub _does not have_ the most updated version of the ```str_view``` function described in Section 14.2.1; therefore, if you are working in the UNG JupyterHub environment, add the argument ```\"\\\\.\"``` whenever the ```str_view()``` function is used. (For instance, if the example contains ```str_view(x)```, replace that with ```str_view(x,\"\\\\.\")``` if you are working in UNG JupyterHub.)\n",
    "\n"
   ]
  },
  {
   "cell_type": "code",
   "execution_count": null,
   "id": "appointed-motorcycle",
   "metadata": {},
   "outputs": [],
   "source": []
  },
  {
   "cell_type": "markdown",
   "id": "periodic-signature",
   "metadata": {},
   "source": [
    "### Creating Many Strings from Data (Section 14.3)\n",
    "\n",
    "Create a new code cell to carry out _each_ example in the section. Also consider creating one or more **markdown** cells to write some notes to yourself about what each example is illustrating.\n",
    "\n",
    "#### IMPORTANT NOTES\n",
    "\n",
    "- The version of **stringr** currently installed on the UNG JupyterHub _does not have_ the most updated version of the ```str_flatten``` function described in Section 14.3.3; the function is missing the **last=** parameter. Therefore, if you are working in the UNG JupyterHub environment, omit the instruction ```str_flatten(c(\"x\", \"y\", \"z\"), \", \", last = \", and \")```. This instruction will cause an error on UNG JupyterHub."
   ]
  },
  {
   "cell_type": "code",
   "execution_count": null,
   "id": "interesting-medium",
   "metadata": {},
   "outputs": [],
   "source": []
  },
  {
   "cell_type": "markdown",
   "id": "horizontal-chosen",
   "metadata": {},
   "source": [
    "### Extracting Data from Strings (Section 14.4)\n",
    "\n",
    "Create a new code cell to carry out _each_ example in the section. Also consider creating one or more **markdown** cells to write some notes to yourself about what each example is illustrating.\n",
    "\n",
    "#### IMPORTANT NOTES\n",
    "- The version of **tidyr** currently installed on the UNG JupyterHub _does not have_ the ```separate_longer_delim```,  ```separate_longer_position```, ```separate_wider_delim```, and ```separate_wider_position``` functions described in this section. Therefore:\n",
    "\n",
    "    - You may omit **ONLY** the examples in 14.4.1 and 14.4.3 if working in the UNG JupyterHub environment.  You are encouraged to read about these functions and the examples given.  \n",
    "    - _**Note that you should still complete the examples in Section 14.4.2**_. Below are alternative methods using older functions in R to achieve the same results for examples is Section 14.4.2.\n",
    "\n",
    "### 1. Replace the following code\n",
    "```\n",
    "df3 |> \n",
    "  separate_wider_delim(\n",
    "    x,\n",
    "    delim = \".\",\n",
    "    names = c(\"code\", \"edition\", \"year\")\n",
    "  )\n",
    "```\n",
    "\n",
    "#### with the code below:\n",
    "\n",
    "```\n",
    "df3 %>%\n",
    "  separate(\n",
    "    x,\n",
    "    into = c(\"code\", \"edition\", \"year\"),\n",
    "    sep = \"\\\\.\" \n",
    "  )\n",
    "```\n",
    "\n",
    "### 2. Replace the following code\n",
    "\n",
    "```\n",
    "df4 |> \n",
    "   separate_wider_position(\n",
    "     x,\n",
    "     widths = c(year = 4, age = 2, state = 2)\n",
    "   )\n",
    "```\n",
    "\n",
    "#### with the code below:\n",
    "```\n",
    "df4 %>% \n",
    "  separate(\n",
    "    x,\n",
    "    into = c(\"year\", \"age\", \"state\"),\n",
    "    sep = c(4,6,8) \n",
    "  )\n",
    "```"
   ]
  },
  {
   "cell_type": "code",
   "execution_count": null,
   "id": "tested-project",
   "metadata": {},
   "outputs": [],
   "source": []
  },
  {
   "cell_type": "markdown",
   "id": "virtual-spectacular",
   "metadata": {},
   "source": [
    "### Individual _Letters_ within Strings (Section 14.5)\n",
    "\n",
    "Create a new code cell to carry out _each_ example in the section. Also consider creating one or more **markdown** cells to write some notes to yourself about what each example is illustrating.\n"
   ]
  },
  {
   "cell_type": "code",
   "execution_count": null,
   "id": "electric-fountain",
   "metadata": {},
   "outputs": [],
   "source": []
  },
  {
   "cell_type": "markdown",
   "id": "black-growth",
   "metadata": {},
   "source": [
    "## OPTIONAL: Section 14.6\n",
    "### Non-English Text \n",
    "\n",
    "_**This section is optional and you may omit it.**_\n",
    "\n"
   ]
  }
 ],
 "metadata": {
  "kernelspec": {
   "display_name": "R",
   "language": "R",
   "name": "ir"
  },
  "language_info": {
   "codemirror_mode": "r",
   "file_extension": ".r",
   "mimetype": "text/x-r-source",
   "name": "R",
   "pygments_lexer": "r",
   "version": "4.0.3"
  }
 },
 "nbformat": 4,
 "nbformat_minor": 5
}
