{
 "cells": [
  {
   "cell_type": "markdown",
   "id": "ethical-netherlands",
   "metadata": {},
   "source": [
    "# MATH 3345 Project 4\n",
    "\n",
    "Perform the tasks below.  Your final result should be an .HTML file of this notebook, with all code cells run and all answers provided in a markdown cell where instructed.\n",
    "\n",
    "For EACH task:\n",
    "\n",
    "1. Read the description of the task\n",
    "2. Type your solution in the code cell provided\n",
    "3. Run your code (fix any issues and re-run if needed)\n",
    "4. Run the TEST CELL(s) FOLLOWING your code cell. **_DO NOT MODIFY ANY TEST CELL._**\n",
    "\n",
    "The output from the TEST CELL(s) will indicate whether you have performed the task correctly. If the result does not say _`Passed!`_ then you should return to your code cell and revise your code.\n",
    "\n",
    "As a guide, remember to consult the examples and lesson notebooks from all chapters that we have covered in _**Python for Data Analysis (3rd Ed.)**_\n",
    "\n",
    "### Overview\n",
    "\n",
    "This project focuses on floating-point arithmetic used in statistical calculations. \n"
   ]
  },
  {
   "cell_type": "markdown",
   "id": "exact-coral",
   "metadata": {},
   "source": [
    "### Set Up \n",
    "\n",
    "Load the following functions from modules in the Python standard library"
   ]
  },
  {
   "cell_type": "code",
   "execution_count": null,
   "id": "green-whole",
   "metadata": {},
   "outputs": [],
   "source": [
    "from random import choice, randint, uniform, shuffle\n",
    "from math import isclose, exp, sqrt, pi, log"
   ]
  },
  {
   "cell_type": "markdown",
   "id": "fifty-inflation",
   "metadata": {},
   "source": [
    "## Products\n",
    "\n",
    "Suppose you are given a collection of $n$ data values, named $x_0$, $x_1$, $\\ldots$, $x_{n-1}$. Mathematically, we denote their sum as\n",
    "\n",
    "$$\n",
    "  x_0 + x_1 + \\cdots + x_{n-1} \\equiv \\sum_{k=0}^{n-1} x_i.\n",
    "$$\n",
    "\n",
    "In Python, it's easy to implement this formula using the `sum()` function, which can sum the elements of any iterable collection, like a list:"
   ]
  },
  {
   "cell_type": "code",
   "execution_count": null,
   "id": "choice-gabriel",
   "metadata": {},
   "outputs": [],
   "source": [
    "x = [1, 2, 3, 4, 5]\n",
    "print(\"sum({}) == {}\".format(x, sum(x)))"
   ]
  },
  {
   "cell_type": "markdown",
   "id": "meaningful-money",
   "metadata": {},
   "source": [
    "Suppose instead that we wish to compute the _product_ of these values:\n",
    "\n",
    "$$\n",
    "    x_0 \\cdot x_1 \\cdot \\cdots \\cdot x_{n-1} \\equiv \\prod_{k=0}^{n-1} x_i.\n",
    "$$"
   ]
  },
  {
   "cell_type": "markdown",
   "id": "logical-banks",
   "metadata": {},
   "source": [
    "### Task 1: Product of Values in a List (30 points)\n",
    "\n",
    "Write a function, `product(x)`, that returns the product of a collection of numbers `x`.\n",
    "\n",
    "Use the following cell to complete the task. Be sure to run the test cells below to display all test results."
   ]
  },
  {
   "cell_type": "code",
   "execution_count": null,
   "id": "killing-fortune",
   "metadata": {},
   "outputs": [],
   "source": [
    "#Your solution to Task 1\n",
    "\n",
    "def product(x):\n",
    "    #\n",
    "    # YOUR CODE HERE\n",
    "    #\n",
    "\n",
    "    \n",
    "# Demo:\n",
    "print(\"product({}) == {}?\".format(x, product(x))) # Should be 120"
   ]
  },
  {
   "cell_type": "code",
   "execution_count": null,
   "id": "furnished-inspiration",
   "metadata": {},
   "outputs": [],
   "source": [
    "# Test cell: `product_test0` \n",
    "\n",
    "def check_product(x_or_n):\n",
    "    def delim_vals(x, s=', ', fmt=str):\n",
    "        return s.join([fmt(xi) for xi in x])\n",
    "    def gen_val(do_int):\n",
    "        if do_int:\n",
    "            v = randint(-100, 100)\n",
    "            while v == 0:\n",
    "                v = randint(-100, 100)\n",
    "            assert v != 0\n",
    "        else:\n",
    "            v = uniform(-10, 10)\n",
    "        return v\n",
    "    \n",
    "    if type(x_or_n) is int:\n",
    "        n = x_or_n\n",
    "        do_int = choice([False, True])\n",
    "        x = [gen_val(do_int) for _ in range(n)]\n",
    "    else:\n",
    "        x = x_or_n\n",
    "        n = len(x)\n",
    "        \n",
    "    if n > 10:\n",
    "        msg_values = \"{}, ..., {}\".format(n, delim_vals(x[:5]), delim_vals(x[-5:]))\n",
    "    else:\n",
    "        msg_values = delim_vals(x)\n",
    "    msg = \"{} values: [{}]\".format(n, msg_values)\n",
    "    print(msg)\n",
    "    p = product(x)\n",
    "    print(\"  => Your result: {}\".format(p))\n",
    "    \n",
    "    # Check\n",
    "    for xi in x:\n",
    "        p /= xi\n",
    "    abs_err = p - 1.0\n",
    "    print(\"  => After dividing by input values: {}\".format(p))\n",
    "    assert abs(p-1.0) <= 20.0 / n, \\\n",
    "           \"Dividing your result by the individual values is {}, which is a bit too far from 1.0\".format(abs_err)\n",
    "\n",
    "check_product([1, 2, 3, 4, 5]) == 120\n",
    "print(\"\\n(Passed first test!)\")"
   ]
  },
  {
   "cell_type": "code",
   "execution_count": null,
   "id": "organic-passion",
   "metadata": {},
   "outputs": [],
   "source": [
    "# Test cell: `product_test1` \n",
    "for k in range(5):\n",
    "    print(\"=== Test {} ===\".format(k))\n",
    "    check_product(10)\n",
    "    print()\n",
    "print(\"(Passed second battery of tests!)\")"
   ]
  },
  {
   "cell_type": "markdown",
   "id": "suitable-shame",
   "metadata": {},
   "source": [
    "## Gaussian distributions\n",
    "\n",
    "Recall that the probability density of a _normal_ or _Gaussian_ distribution with mean $\\mu$ and variance $\\sigma^2$ is,\n",
    "\n",
    "$$\n",
    "g(x) \\equiv \\frac{1}{\\sigma \\sqrt{2 \\pi}} \\exp\\left[ -\\frac{1}{2} \\left(\\frac{x-\\mu}{\\sigma}\\right)^2 \\right].\n",
    "$$\n",
    "\n",
    "This is equivalent to computing the _**y**-coordinate_ on the graph of the distribution, given the _**x**-coordinate_.\n",
    "\n",
    "While $\\sigma^2$ denotes the variance, the _standard deviation_ is $\\sigma$. You may assume $\\sigma > 0$."
   ]
  },
  {
   "cell_type": "markdown",
   "id": "documented-nation",
   "metadata": {},
   "source": [
    "### Task 2: Normal (Gaussian) Distribution Density (30 points)\n",
    "\n",
    "Write a function `gaussian0(x, mu, sigma)` that returns $g(x)$ given one floating-point value `x`, a mean value `mu`, and standard deviation `sigma`.\n",
    "\n",
    "For example,\n",
    "\n",
    "```python\n",
    "   gaussian0(1.0, 0.0, 1.0)\n",
    "```\n",
    "\n",
    "should return the value $\\frac{1}{\\sqrt{2\\pi}} \\exp(-0.5) \\approx 0.2419707\\ldots$.\n",
    "\n",
    "> In the function _\"signature\"_ below, `mu` and `sigma` are set to accept default values of 0.0 and 1.0, respectively. But your function should work for any value of `mu` and any `sigma > 0`.\n",
    "\n",
    "Use the following cell to complete the task. Be sure to run the test cell below to display all test results."
   ]
  },
  {
   "cell_type": "code",
   "execution_count": null,
   "id": "dramatic-exchange",
   "metadata": {},
   "outputs": [],
   "source": [
    "#Your solution to Task 2\n",
    "def gaussian0(x, mu=0.0, sigma=1.0):\n",
    "    #\n",
    "    # YOUR CODE HERE\n",
    "    #\n",
    "\n",
    "# Demo:\n",
    "print(gaussian0(1.0)) # Should get 0.24197072451914..."
   ]
  },
  {
   "cell_type": "code",
   "execution_count": null,
   "id": "objective-disaster",
   "metadata": {},
   "outputs": [],
   "source": [
    "# Test cell: `gaussian0_test` \n",
    "\n",
    "def check_gaussian0(x=None, mu=None, sigma=None, k=None):       \n",
    "    if x is None:\n",
    "        x = uniform(-10, 10)\n",
    "    if mu is None:\n",
    "        mu = uniform(-10, 10)\n",
    "    if sigma is None:\n",
    "        sigma = uniform(1e-15, 10)\n",
    "    if k is None:\n",
    "        k_str = \"\"\n",
    "    else:\n",
    "        k_str = \" #{}\".format(k)\n",
    "    assert type(x) is float and type(mu) is float and type(sigma) is float\n",
    "    print(\"Test case{}: x={}, mu={}, sigma={}\".format(k_str, x, mu, sigma))\n",
    "    your_result = gaussian0(x, mu, sigma)\n",
    "    log_your_result = log(your_result)\n",
    "    log_true_result = -0.5*((x - mu)/sigma)**2 - log(sigma*sqrt(2*pi))\n",
    "    assert isclose(log_your_result, log_true_result, rel_tol=1e-9), \"Test case failed!\"\n",
    "    print(\"==> Passed.\")\n",
    "    \n",
    "check_gaussian0(x=1.0, mu=0.0, sigma=1.0, k=0)\n",
    "\n",
    "for k in range(1, 6):\n",
    "    check_gaussian0(k=k)\n",
    "    \n",
    "print(\"\\n(Passed!)\")"
   ]
  },
  {
   "cell_type": "markdown",
   "id": "horizontal-chosen",
   "metadata": {},
   "source": [
    "### Task 3: List of Gaussian Density Values (25 points)\n",
    "\n",
    "Suppose you are now given a _list_ of values, $x_0$, $x_1$, $\\ldots$, $x_{n-1}$. Write a function, `gaussians()`, that returns the collection of $g(x_i)$ values, also as a list, given specific values of $\\mu$ and $\\sigma$.\n",
    "\n",
    "For example:\n",
    "\n",
    "```python\n",
    "gaussian0(-2, 7.0, 1.23) == 7.674273364934753e-13\n",
    "gaussian0(1, 7.0, 1.23) == 2.2075380785334786e-06\n",
    "gaussian0(3.5, 7.0, 1.23) == 0.0056592223086500545\n",
    "```\n",
    "\n",
    "Therefore,\n",
    "\n",
    "```python\n",
    "gaussians([-2, 1, 3.5], 7.0, 1.23) == [7.674273364934753e-13, 2.2075380785334786e-06, 0.0056592223086500545]\n",
    "```\n",
    "Use the following cell to complete the task. Be sure to run the test cell below to display all test results.\n",
    "\n",
    ">Hint: Review _list comprehension_ in Python to accomplish this task easily!\n"
   ]
  },
  {
   "cell_type": "code",
   "execution_count": null,
   "id": "owned-cleveland",
   "metadata": {},
   "outputs": [],
   "source": [
    "#Your solution to Task 3\n",
    "\n",
    "def gaussians(X, mu=0.0, sigma=1.0):\n",
    "    assert type(X) is list\n",
    "    #\n",
    "    # YOUR CODE HERE\n",
    "    #\n",
    "\n",
    "# Demo:    \n",
    "print(gaussians([-2, 1, 3.5], 7.0, 1.23))"
   ]
  },
  {
   "cell_type": "code",
   "execution_count": null,
   "id": "american-austria",
   "metadata": {},
   "outputs": [],
   "source": [
    "# Test cell: `gaussians_test` \n",
    "\n",
    "mu = uniform(-10, 10)\n",
    "sigma = uniform(1e-15, 10)\n",
    "X = [uniform(-10, 10) for _ in range(10)]\n",
    "g_X = gaussians(X, mu, sigma)\n",
    "for xi, gi in zip(X, g_X):\n",
    "    assert isclose(gi, gaussian0(xi, mu, sigma))\n",
    "\n",
    "print(\"\\n(Passed!)\")"
   ]
  },
  {
   "cell_type": "markdown",
   "id": "apart-temple",
   "metadata": {},
   "source": [
    "## Likelihoods and log-likelihoods\n",
    "\n",
    "In statistics, one technique to fit a function to data is a procedure known as _maximum likelihood estimation (MLE)_. At the heart of this method, one needs to calculate a special function known as the _likelihood function_, or just the _likelihood_. Here is how it is defined.\n",
    "\n",
    "Let $x_0$, $x_1$, $\\ldots$, $x_{n-1}$ denote a set of $n$ input data points. The likelihood of these data, $L(x_0, \\ldots, x_{n-1})$, is defined to be\n",
    "\n",
    "$$\n",
    "L(x_0, \\ldots, x_{n-1}) \\equiv \\prod_{k=0}^{n-1} p(x_i),\n",
    "$$\n",
    "\n",
    "where $p(x_i)$ is some probability density function that you believe is a good model of the data. The MLE procedure tries to choose model parameters that maximize $L(\\ldots)$.\n",
    "\n",
    "In this problem, let's suppose for simplicity that $p(x)$ is a normal or Gaussian distribution with mean $\\mu$ and variance $\\sigma^2$, meaning that $p(x_i) = g(x_i)$. Here is a straightforward way to implement $L(\\ldots)$ in Python."
   ]
  },
  {
   "cell_type": "code",
   "execution_count": null,
   "id": "published-amendment",
   "metadata": {},
   "outputs": [],
   "source": [
    "def likelihood_gaussian(x, mu=0.0, sigma=1.0):\n",
    "    assert type(x) is list\n",
    "    \n",
    "    g_all = gaussians(x, mu, sigma)\n",
    "    L = product(g_all)\n",
    "    return L\n",
    "\n",
    "print(likelihood_gaussian(x))"
   ]
  },
  {
   "cell_type": "markdown",
   "id": "productive-absorption",
   "metadata": {},
   "source": [
    "#### An Issue\n",
    "The problem is that you might need to multiply many small values. Then, due to the limits of finite-precision arithmetic, the likelihood can quickly go to zero, becoming meaningless, even for a small number of data points."
   ]
  },
  {
   "cell_type": "code",
   "execution_count": null,
   "id": "authentic-weather",
   "metadata": {},
   "outputs": [],
   "source": [
    "# Generate many random values\n",
    "N = [int(2**k) for k in range(8)]\n",
    "X = [uniform(-10, 10) for _ in range(max(N))]\n",
    "\n",
    "# Evaluate the likelihood for different numbers of these values:\n",
    "for n in N:\n",
    "    print(\"n={}: likelihood ~= {}.\".format(n, likelihood_gaussian(X[:n])))"
   ]
  },
  {
   "cell_type": "markdown",
   "id": "correct-knock",
   "metadata": {},
   "source": [
    "Recall that the smallest representable value in double-precision floating-point is $\\approx 10^{-308}$. Therefore, if the true exponent falls below that value, we cannot store it. You should see this behavior above.\n",
    "\n",
    "One alternative is to compute the _log-likelihood_, which is defined simply as the (natural) logarithm of the likelihood:\n",
    "\n",
    "$$\n",
    "  \\mathcal{L}(x_0, \\ldots, x_{n-1}) \\equiv \\log L(x_0, \\ldots, x_{n-1}).\n",
    "$$\n",
    "\n",
    "Log-transforming the likelihood has a nice feature: the location of the maximum value will not change. Therefore, maximizing the log-likelihood is equivalent to maximizing the (plain) likelihood.\n",
    "\n",
    "Let's repeat the experiment above but also print the log-likelihood along with the likelihood:"
   ]
  },
  {
   "cell_type": "code",
   "execution_count": null,
   "id": "moving-qualification",
   "metadata": {},
   "outputs": [],
   "source": [
    "for n in N:\n",
    "    L_n = likelihood_gaussian(X[:n])\n",
    "    try:\n",
    "        log_L_n = log(L_n)\n",
    "    except ValueError:\n",
    "        from math import inf\n",
    "        log_L_n = -inf\n",
    "    print(\"n={}: likelihood ~= {} and log-likelihood ~= {}.\".format(n, L_n, log_L_n))"
   ]
  },
  {
   "cell_type": "markdown",
   "id": "heard-interface",
   "metadata": {},
   "source": [
    "##### Timing is everything!\n",
    "At first, it looks good: the log-likelihood is much smaller than the likelihood. Therefore, you can calculate it for a much larger number of data points.\n",
    "\n",
    "But the problem persists: just taking $\\log L(\\ldots)$ doesn't help. When $L(\\ldots)$ rounds to zero, taking the $\\log$ produces minus infinity. For this last exercise, you need to fix this problem."
   ]
  },
  {
   "cell_type": "markdown",
   "id": "secret-clear",
   "metadata": {},
   "source": [
    "### Task 4: Alternate Calculation of Log-Likelihood (15 points)\n",
    "\n",
    "Using the fact that $\\log$ and $\\exp$ are inverses of one another, i.e., $\\log (\\exp x) = x$, come up with a way to compute the log-likelihood that can handle larger values of `n`.\n",
    "\n",
    "For example, in the case of `n=128`, your function should produce a finite value rather than $-\\infty$.\n",
    "\n",
    "Use the following cell to complete the task. Be sure to run the test cell below to display all test results.\n",
    "\n",
    "> _Hint._ In addition to the inverse relationship between $\\log$ and $\\exp$, use the algebraic fact that $\\log(a \\cdot b) = \\log a + \\log b$ to derive a different way to compute log-likelihood."
   ]
  },
  {
   "cell_type": "code",
   "execution_count": null,
   "id": "bronze-protocol",
   "metadata": {},
   "outputs": [],
   "source": [
    "#Your solution to Task 4\n",
    "def log_likelihood_gaussian(X, mu=0.0, sigma=1.0):\n",
    "    #\n",
    "    # YOUR CODE HERE\n",
    "    #\n"
   ]
  },
  {
   "cell_type": "code",
   "execution_count": null,
   "id": "dimensional-aside",
   "metadata": {},
   "outputs": [],
   "source": [
    "# Test cell: `log_likelihood_gaussian_test0` \n",
    "\n",
    "# Check that the experiment runs to completion (no exceptions)\n",
    "for n in N:\n",
    "    log_L_n = log_likelihood_gaussian(X[:n])\n",
    "    print(\"n={}: log-likelihood ~= {}.\".format(n, log_L_n))\n",
    "    \n",
    "print(\"\\n(Passed!)\")"
   ]
  },
  {
   "cell_type": "code",
   "execution_count": null,
   "id": "heard-madagascar",
   "metadata": {},
   "outputs": [],
   "source": [
    "# Test cell: `log_likelihood_gaussian_test1` \n",
    "\n",
    "for k in range(100):\n",
    "    mu = uniform(-10, 10)\n",
    "    sigma = uniform(1e-15, 10)\n",
    "    x0 = uniform(-10, 10)\n",
    "    nc = randint(1, 5)\n",
    "    n0s = [randint(1, 16384) for _ in range(nc)]\n",
    "    x0s = [uniform(-10, 10) for _ in range(nc)]\n",
    "    log_L_true = 0.0\n",
    "    X = []\n",
    "    for c, x0, n0 in zip(range(nc), x0s, n0s):\n",
    "        X += [x0] * n0\n",
    "        log_L_true += n0 * (-0.5*((x0 - mu)/sigma)**2 - log(sigma*sqrt(2*pi)))\n",
    "    shuffle(X)\n",
    "    log_L_you = log_likelihood_gaussian(X, mu, sigma)\n",
    "    msg = \"Test case {} failed: mu={}, sigma={}, nc={}, x0s={}, n0s={}, N={}, true={}, you={}\".format(k, mu, sigma, nc, x0s, n0s, len(X), log_L_true, log_L_you)\n",
    "    assert isclose(log_L_you, log_L_true, rel_tol=len(X)*1e-10), msg\n",
    "    \n",
    "print(\"\\n(Passed!)\")"
   ]
  }
 ],
 "metadata": {
  "kernelspec": {
   "display_name": "Python 3",
   "language": "python",
   "name": "python3"
  },
  "language_info": {
   "codemirror_mode": {
    "name": "ipython",
    "version": 3
   },
   "file_extension": ".py",
   "mimetype": "text/x-python",
   "name": "python",
   "nbconvert_exporter": "python",
   "pygments_lexer": "ipython3",
   "version": "3.8.6"
  }
 },
 "nbformat": 4,
 "nbformat_minor": 5
}
