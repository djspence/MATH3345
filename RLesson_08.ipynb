{
 "cells": [
  {
   "cell_type": "markdown",
   "id": "ethical-netherlands",
   "metadata": {},
   "source": [
    "# MATH 3345 R Lesson Notebook 8\n",
    "\n",
    "## Factors\n",
    "\n",
    "This notebook accompanies Chapter 16 of _**R for Data Science (2nd Ed.)**_"
   ]
  },
  {
   "cell_type": "markdown",
   "id": "exact-coral",
   "metadata": {},
   "source": [
    "### Set Up (Section 16.1.1)\n",
    "\n",
    "The textbook has you load tidyverse.  Another option is to load the **dplyr**, **readr**, **forcats**, and **ggplot2** libraries, which are the packages needed for these exercises.\n",
    "\n",
    "**NOTE:** _Only run the 'install.packages' steps below if the ```library``` command to load the specified package generates an error message._"
   ]
  },
  {
   "cell_type": "code",
   "execution_count": null,
   "id": "green-whole",
   "metadata": {},
   "outputs": [],
   "source": [
    "#Remove the comment symbol on the line below, run the line ONE time, then replace the comment symbol\n",
    "#install.packages(\"dplyr\")"
   ]
  },
  {
   "cell_type": "code",
   "execution_count": null,
   "id": "portuguese-stopping",
   "metadata": {},
   "outputs": [],
   "source": [
    "library(dplyr)"
   ]
  },
  {
   "cell_type": "code",
   "execution_count": null,
   "id": "solar-regulation",
   "metadata": {},
   "outputs": [],
   "source": [
    "#Remove the comment symbol on the line below, run the line ONE time, then replace the comment symbol\n",
    "#install.packages(\"readr\")"
   ]
  },
  {
   "cell_type": "code",
   "execution_count": null,
   "id": "higher-residence",
   "metadata": {},
   "outputs": [],
   "source": [
    "library(readr)\n"
   ]
  },
  {
   "cell_type": "code",
   "execution_count": null,
   "id": "charming-delay",
   "metadata": {},
   "outputs": [],
   "source": [
    "#Remove the comment symbol on the line below, run the line ONE time, then replace the comment symbol\n",
    "#install.packages(\"forcats\")"
   ]
  },
  {
   "cell_type": "code",
   "execution_count": null,
   "id": "turned-mechanics",
   "metadata": {},
   "outputs": [],
   "source": [
    "library(forcats)"
   ]
  },
  {
   "cell_type": "code",
   "execution_count": null,
   "id": "hundred-dressing",
   "metadata": {},
   "outputs": [],
   "source": [
    "#Remove the comment symbol on the line below, run the line ONE time, then replace the comment symbol\n",
    "#install.packages(\"ggplot2\")"
   ]
  },
  {
   "cell_type": "code",
   "execution_count": null,
   "id": "urban-resource",
   "metadata": {},
   "outputs": [],
   "source": [
    "library(ggplot2)\n"
   ]
  },
  {
   "cell_type": "markdown",
   "id": "quality-gentleman",
   "metadata": {},
   "source": [
    "### Load Library for Data\n",
    "Some of these activities require the ```gss_cat``` data set, which is in the **forcats** library. "
   ]
  },
  {
   "cell_type": "code",
   "execution_count": null,
   "id": "mature-arbor",
   "metadata": {},
   "outputs": [],
   "source": [
    "glimpse(gss_cat)"
   ]
  },
  {
   "cell_type": "code",
   "execution_count": null,
   "id": "monetary-asbestos",
   "metadata": {},
   "outputs": [],
   "source": [
    "head(gss_cat)"
   ]
  },
  {
   "cell_type": "markdown",
   "id": "fifty-inflation",
   "metadata": {},
   "source": [
    "### Explore Examples\n",
    "\n",
    "Follow the steps for re-creating the examples as shown by typing the code given in each example of the sections indicated below. Insert a new code cell to carry out each example.\n",
    "\n",
    "To get the most out of these exercises, **_do NOT copy/paste the code from the online textbook._** Type it yourself so that you will become more familiar with how the commands work. "
   ]
  },
  {
   "cell_type": "markdown",
   "id": "documented-nation",
   "metadata": {},
   "source": [
    "### Factor Basics (Section 16.2)\n",
    "\n",
    "Create a new code cell to carry out _each_ example in the section. Also consider creating one or more **markdown** cells to write some notes to yourself about what each example is illustrating.\n",
    "\n",
    "#### IMPORTANT NOTE\n",
    "\n",
    "- The version of **forcats** currently installed on the UNG JupyterHub _does not have_ the ```fct``` function shown in certain examples. If you are working in UNG JupyterHub, you may omit examples using the ```fct``` function. Note that it is simply a slightly improved version of the native ```factor``` function for converting vectors into factors.\n",
    "\n"
   ]
  },
  {
   "cell_type": "code",
   "execution_count": null,
   "id": "appointed-motorcycle",
   "metadata": {},
   "outputs": [],
   "source": []
  },
  {
   "cell_type": "markdown",
   "id": "periodic-signature",
   "metadata": {},
   "source": [
    "### Exploring General Social Survey (Section 16.3)\n",
    "\n",
    "Create a new code cell to carry out _each_ example in the section. Also consider creating one or more **markdown** cells to write some notes to yourself about what each example is illustrating.\n",
    "\n"
   ]
  },
  {
   "cell_type": "code",
   "execution_count": null,
   "id": "interesting-medium",
   "metadata": {},
   "outputs": [],
   "source": []
  },
  {
   "cell_type": "markdown",
   "id": "horizontal-chosen",
   "metadata": {},
   "source": [
    "### Modifying Factor Order (Section 16.4)\n",
    "\n",
    "Create a new code cell to carry out _each_ example in the section. Also consider creating one or more **markdown** cells to write some notes to yourself about what each example is illustrating.\n",
    "\n",
    "#### IMPORTANT NOTES\n",
    "- The version of **ggplot2** currently installed on the UNG JupyterHub _does not have_ the most updated version of the ```ggplot``` function. Whenever this function is used with the ```linewidth``` argument, replace ```linewidth``` with ```lwd``` if you are working on the UNG JupyterHub.\n"
   ]
  },
  {
   "cell_type": "code",
   "execution_count": null,
   "id": "tested-project",
   "metadata": {},
   "outputs": [],
   "source": []
  },
  {
   "cell_type": "markdown",
   "id": "virtual-spectacular",
   "metadata": {},
   "source": [
    "### Modifying Factor Levels (Section 16.5)\n",
    "\n",
    "Create a new code cell to carry out _each_ example in the section. Also consider creating one or more **markdown** cells to write some notes to yourself about what each example is illustrating.\n"
   ]
  },
  {
   "cell_type": "code",
   "execution_count": null,
   "id": "electric-fountain",
   "metadata": {},
   "outputs": [],
   "source": []
  },
  {
   "cell_type": "markdown",
   "id": "illegal-cable",
   "metadata": {},
   "source": [
    "### Ordered Factors (Section 16.6)\n",
    "\n",
    "Create a new code cell to carry out _each_ example in the section. Also consider creating one or more **markdown** cells to write some notes to yourself about what each example is illustrating.\n"
   ]
  },
  {
   "cell_type": "code",
   "execution_count": null,
   "id": "portuguese-berlin",
   "metadata": {},
   "outputs": [],
   "source": []
  }
 ],
 "metadata": {
  "kernelspec": {
   "display_name": "R",
   "language": "R",
   "name": "ir"
  },
  "language_info": {
   "codemirror_mode": "r",
   "file_extension": ".r",
   "mimetype": "text/x-r-source",
   "name": "R",
   "pygments_lexer": "r",
   "version": "4.0.3"
  }
 },
 "nbformat": 4,
 "nbformat_minor": 5
}
