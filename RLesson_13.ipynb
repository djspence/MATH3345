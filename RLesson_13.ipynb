{
 "cells": [
  {
   "cell_type": "markdown",
   "id": "ethical-netherlands",
   "metadata": {},
   "source": [
    "# MATH 3345 R Lesson Notebook 13\n",
    "\n",
    "## Functions and Iteration\n",
    "\n",
    "This notebook accompanies Chapter 21 of _**R for Data Science (2nd Ed.)**_"
   ]
  },
  {
   "cell_type": "markdown",
   "id": "exact-coral",
   "metadata": {},
   "source": [
    "### Set Up\n",
    "\n",
    "You will need the **DBI**, **dbplyr**, and **duckdb** libraries in addition to libraries included in _tidyverse_.  \n",
    "\n",
    "**NOTE:** _Only run the 'install.packages' steps below if the ```library``` command to load the specified package generates an error message._"
   ]
  },
  {
   "cell_type": "code",
   "execution_count": null,
   "id": "green-whole",
   "metadata": {},
   "outputs": [],
   "source": [
    "#Remove the comment symbol on the line below, run the line ONE time, then replace the comment symbol\n",
    "#install.packages(\"DBI\")"
   ]
  },
  {
   "cell_type": "code",
   "execution_count": null,
   "id": "concrete-captain",
   "metadata": {},
   "outputs": [],
   "source": [
    "library(DBI)"
   ]
  },
  {
   "cell_type": "code",
   "execution_count": null,
   "id": "adapted-collins",
   "metadata": {},
   "outputs": [],
   "source": [
    "#Remove the comment symbol on the line below, run the line ONE time, then replace the comment symbol\n",
    "#install.packages(\"dbplyr\")"
   ]
  },
  {
   "cell_type": "code",
   "execution_count": null,
   "id": "portuguese-stopping",
   "metadata": {},
   "outputs": [],
   "source": [
    "library(dbplyr)"
   ]
  },
  {
   "cell_type": "code",
   "execution_count": null,
   "id": "ambient-stylus",
   "metadata": {},
   "outputs": [],
   "source": [
    "#Remove the comment symbol on the line below, run the line ONE time, then replace the comment symbol\n",
    "#install.packages(\"duckdb\")"
   ]
  },
  {
   "cell_type": "code",
   "execution_count": null,
   "id": "material-polyester",
   "metadata": {},
   "outputs": [],
   "source": [
    "library(duckdb)"
   ]
  },
  {
   "cell_type": "code",
   "execution_count": null,
   "id": "intelligent-launch",
   "metadata": {},
   "outputs": [],
   "source": [
    "#Remove the comment symbol on the line below, run the line ONE time, then replace the comment symbol\n",
    "#install.packages(\"dplyr\")"
   ]
  },
  {
   "cell_type": "code",
   "execution_count": null,
   "id": "hundred-mexico",
   "metadata": {},
   "outputs": [],
   "source": [
    "library(dplyr)"
   ]
  },
  {
   "cell_type": "code",
   "execution_count": null,
   "id": "august-zambia",
   "metadata": {},
   "outputs": [],
   "source": [
    "#Remove the comment symbol on the line below, run the line ONE time, then replace the comment symbol\n",
    "#install.packages(\"ggplot2\")"
   ]
  },
  {
   "cell_type": "code",
   "execution_count": null,
   "id": "psychological-european",
   "metadata": {},
   "outputs": [],
   "source": [
    "library(ggplot2)"
   ]
  },
  {
   "cell_type": "code",
   "execution_count": null,
   "id": "shared-jackson",
   "metadata": {},
   "outputs": [],
   "source": [
    "#Remove the comment symbol on the line below, run the line ONE time, then replace the comment symbol\n",
    "#install.packages(\"nycflights13\")"
   ]
  },
  {
   "cell_type": "code",
   "execution_count": null,
   "id": "destroyed-gospel",
   "metadata": {},
   "outputs": [],
   "source": [
    "library(nycflights13)"
   ]
  },
  {
   "cell_type": "markdown",
   "id": "fifty-inflation",
   "metadata": {},
   "source": [
    "### Explore Examples\n",
    "\n",
    "Follow the steps for re-creating the examples as shown by typing the code given in each example of the sections indicated below. Insert a new code cell to carry out each example.\n",
    "\n",
    "To get the most out of these exercises, **_do NOT copy/paste the code from the online textbook._** Type it yourself so that you will become more familiar with how the commands work. "
   ]
  },
  {
   "cell_type": "markdown",
   "id": "documented-nation",
   "metadata": {},
   "source": [
    "### Connecting to a Database (Section 21.3)\n",
    "\n",
    "Create a new code cell to carry out _each_ example in the section. Also consider creating one or more **markdown** cells to write some notes to yourself about what each example is illustrating.\n",
    "\n",
    "#### NOTES (for Section 21.3.1)\n",
    "* To establish your connection using ```dbConnect```, you ONLY need to run the following example:\n",
    "```\n",
    "con <- DBI::dbConnect(duckdb::duckdb())\n",
    "```\n",
    "* The first ```dbConnect``` example is only showing you the format of various connections, but those do not exist and will only generate an error if you attempt them.\n",
    "* The last ```dbConnect``` example assumes you have created a folder in which to permanently store the database you are working with.  Although you are welcome to do this, it is not required."
   ]
  },
  {
   "cell_type": "code",
   "execution_count": null,
   "id": "appointed-motorcycle",
   "metadata": {},
   "outputs": [],
   "source": []
  },
  {
   "cell_type": "markdown",
   "id": "periodic-signature",
   "metadata": {},
   "source": [
    "### ```dbplyr``` Basics (Section 21.4)\n",
    "\n",
    "Create a new code cell to carry out _each_ example in the section. Also consider creating one or more **markdown** cells to write some notes to yourself about what each example is illustrating.\n"
   ]
  },
  {
   "cell_type": "code",
   "execution_count": null,
   "id": "interesting-medium",
   "metadata": {},
   "outputs": [],
   "source": []
  },
  {
   "cell_type": "markdown",
   "id": "several-pacific",
   "metadata": {},
   "source": [
    "### SQL (Section 21.5)\n",
    "\n",
    "Create a new code cell to carry out _each_ example in the section. Also consider creating one or more **markdown** cells to write some notes to yourself about what each example is illustrating.\n",
    "\n",
    "**_MAKE A POINT TO COMPARE EACH SQL QUERY WITH ITS CORRESPONDING R COMMANDS._**\n"
   ]
  },
  {
   "cell_type": "code",
   "execution_count": null,
   "id": "built-momentum",
   "metadata": {},
   "outputs": [],
   "source": []
  },
  {
   "cell_type": "markdown",
   "id": "horizontal-chosen",
   "metadata": {},
   "source": [
    "### Function Translations (Section 21.6)\n",
    "\n",
    "The UNG JupyterHub installation does not have the ```mutate_query``` function.  Feel free to try these examples in RStudio for a better understanding of R; however, you will not be held responsible for this content.\n",
    "\n"
   ]
  }
 ],
 "metadata": {
  "kernelspec": {
   "display_name": "R",
   "language": "R",
   "name": "ir"
  },
  "language_info": {
   "codemirror_mode": "r",
   "file_extension": ".r",
   "mimetype": "text/x-r-source",
   "name": "R",
   "pygments_lexer": "r",
   "version": "4.0.3"
  }
 },
 "nbformat": 4,
 "nbformat_minor": 5
}
