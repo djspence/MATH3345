{
 "cells": [
  {
   "cell_type": "markdown",
   "id": "ethical-netherlands",
   "metadata": {},
   "source": [
    "# MATH 3345 Python Lesson Notebook 5\n",
    "\n",
    "## Data Transformation\n",
    "\n",
    "This notebook accompanies Chapters 8 and 10 of _**Python for Data Analysis (3rd Ed.)**_"
   ]
  },
  {
   "cell_type": "markdown",
   "id": "exact-coral",
   "metadata": {},
   "source": [
    "### Set Up \n",
    "The chapter assumes you have loaded the following libraries used in this lesson."
   ]
  },
  {
   "cell_type": "code",
   "execution_count": null,
   "id": "conventional-diagnosis",
   "metadata": {},
   "outputs": [],
   "source": [
    "import numpy as np\n",
    "import pandas as pd"
   ]
  },
  {
   "cell_type": "markdown",
   "id": "compressed-refund",
   "metadata": {},
   "source": [
    "##### Additional Library\n",
    "\n",
    "The example on Group-Wise Linear Regression in _Section 10.3 (**Optional Section**)_ also has you load part of the `statsmodels` library. To keep all of our `import` statements in the same place, you may load that library below if you plan to work with examples in Section 10.3. "
   ]
  },
  {
   "cell_type": "code",
   "execution_count": null,
   "id": "sweet-value",
   "metadata": {},
   "outputs": [],
   "source": [
    "import statsmodels.api as sm"
   ]
  },
  {
   "cell_type": "markdown",
   "id": "logical-banks",
   "metadata": {},
   "source": [
    "### Reminder: Command Line Examples \n",
    "\n",
    "Remember that examples given in this text are often shown as they appear in a command-line \"shell\". Therefore, you will need to modify them to run in a Jupyter notebook cell by typing only the code, not the prompts (e.g., `In [12]:`) and not the output produced by the sample code.\n",
    "\n"
   ]
  },
  {
   "cell_type": "markdown",
   "id": "going-liquid",
   "metadata": {},
   "source": [
    "### Hierarchical Indexing (Section 8.1) - NOT REQUIRED\n",
    "\n",
    "This section is **_NOT REQUIRED_**.\n",
    "\n"
   ]
  },
  {
   "cell_type": "markdown",
   "id": "possible-dining",
   "metadata": {},
   "source": [
    "### Combining and Merging Datasets (Section 8.2)\n",
    "\n",
    "Create new code cells to carry out examples of interest in this section. Also consider creating one or more **markdown** cells to write some notes to yourself about what each example is illustrating.\n"
   ]
  },
  {
   "cell_type": "code",
   "execution_count": null,
   "id": "understood-dominican",
   "metadata": {},
   "outputs": [],
   "source": []
  },
  {
   "cell_type": "markdown",
   "id": "documented-nation",
   "metadata": {},
   "source": [
    "### Reshaping and Pivoting (Section 8.3)\n",
    "\n",
    "Create new code cells to carry out examples of interest in this section. Also consider creating one or more **markdown** cells to write some notes to yourself about what each example is illustrating.\n",
    "\n",
    ">#### NOTES:\n",
    ">* Because we are **NOT** covering _Hierarchical Indexing_ (in Section 8.1), you should **SKIP** the unit on _Reshaping with Hierarchical Indexing_ and **BEGIN THIS SECTION AT** _Pivoting Long to Wide Format_\n",
    ">* The first example under _Pivoting Long to Wide Format_ requires a dataset that is loaded with the example code `pd.read_csv(\"examples/macrodata.csv\")`. When you carry out this example, you should **CHANGE** this to `pd.read_csv(\"Data/macrodata.csv\")`\n"
   ]
  },
  {
   "cell_type": "code",
   "execution_count": null,
   "id": "trying-naples",
   "metadata": {},
   "outputs": [],
   "source": []
  },
  {
   "cell_type": "markdown",
   "id": "cordless-giant",
   "metadata": {},
   "source": [
    "### Thinking about Group Operations (Section 10.1)\n",
    "\n",
    "Create new code cells to carry out examples of interest in this section. Also consider creating one or more **markdown** cells to write some notes to yourself about what each example is illustrating.\n",
    "\n",
    ">#### NOTE:\n",
    "You may **omit the last unit** on _Grouping by Index Levels_ in Section 10.1\n"
   ]
  },
  {
   "cell_type": "code",
   "execution_count": null,
   "id": "temporal-midwest",
   "metadata": {},
   "outputs": [],
   "source": []
  },
  {
   "cell_type": "markdown",
   "id": "demographic-honduras",
   "metadata": {},
   "source": [
    "### Data Aggregation(Section 10.2)\n",
    "\n",
    "Create new code cells to carry out examples of interest in this section. Also consider creating one or more **markdown** cells to write some notes to yourself about what each example is illustrating.\n",
    "\n"
   ]
  },
  {
   "cell_type": "code",
   "execution_count": null,
   "id": "moderate-sponsorship",
   "metadata": {},
   "outputs": [],
   "source": []
  },
  {
   "cell_type": "markdown",
   "id": "protecting-modern",
   "metadata": {},
   "source": [
    "### Optional Sections (10.3 - 10.5)\n",
    "The remaining sections of Chapter 10 are useful, but not required. Feel free to explore examples in these sections."
   ]
  },
  {
   "cell_type": "code",
   "execution_count": null,
   "id": "contrary-circular",
   "metadata": {},
   "outputs": [],
   "source": []
  }
 ],
 "metadata": {
  "kernelspec": {
   "display_name": "Python 3",
   "language": "python",
   "name": "python3"
  },
  "language_info": {
   "codemirror_mode": {
    "name": "ipython",
    "version": 3
   },
   "file_extension": ".py",
   "mimetype": "text/x-python",
   "name": "python",
   "nbconvert_exporter": "python",
   "pygments_lexer": "ipython3",
   "version": "3.8.6"
  }
 },
 "nbformat": 4,
 "nbformat_minor": 5
}
