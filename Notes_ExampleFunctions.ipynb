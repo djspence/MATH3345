{
 "cells": [
  {
   "cell_type": "markdown",
   "id": "polar-optimum",
   "metadata": {},
   "source": [
    "# Examples Using Functions\n",
    "\n",
    "## Supplemental Notes"
   ]
  },
  {
   "cell_type": "code",
   "execution_count": null,
   "id": "perceived-romania",
   "metadata": {},
   "outputs": [],
   "source": [
    "library(dplyr)\n",
    "library(stringr)"
   ]
  },
  {
   "cell_type": "code",
   "execution_count": null,
   "id": "crude-reserve",
   "metadata": {},
   "outputs": [],
   "source": [
    "#install.packages(\"babynames\")"
   ]
  },
  {
   "cell_type": "code",
   "execution_count": null,
   "id": "documentary-object",
   "metadata": {},
   "outputs": [],
   "source": [
    "library(\"babynames\")"
   ]
  },
  {
   "cell_type": "code",
   "execution_count": null,
   "id": "southwest-victory",
   "metadata": {},
   "outputs": [],
   "source": [
    "rate <- 0.045\n",
    "price <- 25.40\n",
    "\n",
    "tax = rate*price\n",
    "\n",
    "paste0(rate*100, \"% tax: $\", round(tax,2))"
   ]
  },
  {
   "cell_type": "code",
   "execution_count": null,
   "id": "binding-serve",
   "metadata": {},
   "outputs": [],
   "source": [
    "calc_tax <- function(rate,price) {\n",
    "    tax = rate*price\n",
    "    paste0(rate*100, \"% tax: $\", round(tax,2)) \n",
    "}"
   ]
  },
  {
   "cell_type": "code",
   "execution_count": null,
   "id": "exposed-examination",
   "metadata": {},
   "outputs": [],
   "source": [
    "calc_tax(rate=.03, price=57.99)\n",
    "\n",
    "calc_tax(0.0825,159.50)"
   ]
  },
  {
   "cell_type": "code",
   "execution_count": null,
   "id": "technological-johnson",
   "metadata": {},
   "outputs": [],
   "source": [
    "words"
   ]
  },
  {
   "cell_type": "code",
   "execution_count": null,
   "id": "utility-milan",
   "metadata": {},
   "outputs": [],
   "source": [
    "flags <- str_detect(words,\"^y\")\n",
    "words[flags]"
   ]
  },
  {
   "cell_type": "code",
   "execution_count": null,
   "id": "recreational-burton",
   "metadata": {},
   "outputs": [],
   "source": [
    "\n",
    "start_with <- function (strings,start) {\n",
    "    flags <- str_detect(strings,str_flatten(c(\"^\",start)))\n",
    "    strings[flags]\n",
    "}\n"
   ]
  },
  {
   "cell_type": "code",
   "execution_count": null,
   "id": "empirical-bread",
   "metadata": {},
   "outputs": [],
   "source": [
    "start_with(words,\"y\")"
   ]
  },
  {
   "cell_type": "code",
   "execution_count": null,
   "id": "academic-brake",
   "metadata": {},
   "outputs": [],
   "source": [
    "words %>% start_with(\"y\")"
   ]
  },
  {
   "cell_type": "code",
   "execution_count": null,
   "id": "incredible-convenience",
   "metadata": {},
   "outputs": [],
   "source": [
    "start_with(words,\"b\")"
   ]
  },
  {
   "cell_type": "code",
   "execution_count": null,
   "id": "gorgeous-terrorism",
   "metadata": {},
   "outputs": [],
   "source": [
    "start_with(words,\"br\")"
   ]
  },
  {
   "cell_type": "code",
   "execution_count": null,
   "id": "velvet-atmosphere",
   "metadata": {},
   "outputs": [],
   "source": [
    "all_names <- babynames %>% distinct(name) \n",
    "head(all_names)"
   ]
  },
  {
   "cell_type": "code",
   "execution_count": null,
   "id": "reverse-discovery",
   "metadata": {},
   "outputs": [],
   "source": [
    "start_with(all_names$name,\"Gra\")"
   ]
  }
 ],
 "metadata": {
  "kernelspec": {
   "display_name": "R",
   "language": "R",
   "name": "ir"
  },
  "language_info": {
   "codemirror_mode": "r",
   "file_extension": ".r",
   "mimetype": "text/x-r-source",
   "name": "R",
   "pygments_lexer": "r",
   "version": "4.0.3"
  }
 },
 "nbformat": 4,
 "nbformat_minor": 5
}
