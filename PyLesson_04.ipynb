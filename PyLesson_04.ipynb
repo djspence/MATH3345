{
 "cells": [
  {
   "cell_type": "markdown",
   "id": "ethical-netherlands",
   "metadata": {},
   "source": [
    "# MATH 3345 Python Lesson Notebook 4\n",
    "\n",
    "## Data Cleaning\n",
    "\n",
    "This notebook accompanies Chapter 7 of _**Python for Data Analysis (3rd Ed.)**_"
   ]
  },
  {
   "cell_type": "markdown",
   "id": "exact-coral",
   "metadata": {},
   "source": [
    "### Set Up \n",
    "The chapter assumes you have loaded the following libraries used in this lesson."
   ]
  },
  {
   "cell_type": "code",
   "execution_count": null,
   "id": "conventional-diagnosis",
   "metadata": {},
   "outputs": [],
   "source": [
    "import numpy as np\n",
    "import pandas as pd"
   ]
  },
  {
   "cell_type": "markdown",
   "id": "compressed-refund",
   "metadata": {},
   "source": [
    "##### Additional Library\n",
    "\n",
    "The section on **String Manipulation (7.4)** also has you load the `re` library to handle _regular expressions_. To keep all of our `import` statements in the same place, you may load that library below."
   ]
  },
  {
   "cell_type": "code",
   "execution_count": null,
   "id": "sweet-value",
   "metadata": {},
   "outputs": [],
   "source": [
    "import re"
   ]
  },
  {
   "cell_type": "markdown",
   "id": "logical-banks",
   "metadata": {},
   "source": [
    "### Reminder: Command Line Examples \n",
    "\n",
    "Remember that examples given in this text are often shown as they appear in a command-line \"shell\". Therefore, you will need to modify them to run in a Jupyter notebook cell by typing only the code, not the prompts (e.g., `In [12]:`) and not the output produced by the sample code.\n",
    "\n"
   ]
  },
  {
   "cell_type": "markdown",
   "id": "possible-dining",
   "metadata": {},
   "source": [
    "### Handling Missing Data (Section 7.1)\n",
    "\n",
    "Create new code cells to carry out examples of interest in this section. Also consider creating one or more **markdown** cells to write some notes to yourself about what each example is illustrating.\n"
   ]
  },
  {
   "cell_type": "code",
   "execution_count": null,
   "id": "understood-dominican",
   "metadata": {},
   "outputs": [],
   "source": []
  },
  {
   "cell_type": "markdown",
   "id": "documented-nation",
   "metadata": {},
   "source": [
    "### Data Transformation (Section 7.2)\n",
    "\n",
    "Create new code cells to carry out examples of interest in this section. Also consider creating one or more **markdown** cells to write some notes to yourself about what each example is illustrating."
   ]
  },
  {
   "cell_type": "code",
   "execution_count": null,
   "id": "trying-naples",
   "metadata": {},
   "outputs": [],
   "source": []
  },
  {
   "cell_type": "markdown",
   "id": "going-liquid",
   "metadata": {},
   "source": [
    "### Extension Data Types (Section 7.3) - NOT REQUIRED\n",
    "\n",
    "This section is **_NOT REQUIRED_**.\n",
    "\n"
   ]
  },
  {
   "cell_type": "markdown",
   "id": "cordless-giant",
   "metadata": {},
   "source": [
    "### String Manipulation (Section 7.4)\n",
    "\n",
    "Create new code cells to carry out examples of interest in this section. Also consider creating one or more **markdown** cells to write some notes to yourself about what each example is illustrating.\n",
    "\n"
   ]
  },
  {
   "cell_type": "code",
   "execution_count": null,
   "id": "temporal-midwest",
   "metadata": {},
   "outputs": [],
   "source": []
  },
  {
   "cell_type": "markdown",
   "id": "demographic-honduras",
   "metadata": {},
   "source": [
    "### Categorical Data (Section 7.5)\n",
    "\n",
    "Create new code cells to carry out examples of interest in this section. Also consider creating one or more **markdown** cells to write some notes to yourself about what each example is illustrating.\n",
    "\n"
   ]
  },
  {
   "cell_type": "code",
   "execution_count": null,
   "id": "moderate-sponsorship",
   "metadata": {},
   "outputs": [],
   "source": []
  }
 ],
 "metadata": {
  "kernelspec": {
   "display_name": "Python 3",
   "language": "python",
   "name": "python3"
  },
  "language_info": {
   "codemirror_mode": {
    "name": "ipython",
    "version": 3
   },
   "file_extension": ".py",
   "mimetype": "text/x-python",
   "name": "python",
   "nbconvert_exporter": "python",
   "pygments_lexer": "ipython3",
   "version": "3.8.6"
  }
 },
 "nbformat": 4,
 "nbformat_minor": 5
}
