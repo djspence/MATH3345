{
 "cells": [
  {
   "cell_type": "markdown",
   "id": "ethical-netherlands",
   "metadata": {},
   "source": [
    "# MATH 3345 Project 2\n",
    "\n",
    "Perform the tasks below.  Your final result should be an .HTML file of this notebook, with all code cells run and all answers provided in a markdown cell where instructed.\n",
    "\n",
    "As a guide, remember to consult the examples and lesson notebooks from all chapters that we have covered in _**R for Data Science (2nd Ed.)**_\n",
    "\n",
    "## Background\n",
    "\n",
    "The file you will work with contains a large sample of data from the NOAA Storm Database. Each row contains details of some weather event that occurred between 1950 and 2011. The columns provided are:\n",
    "\n",
    "- BGN_DATE: The date the event started\n",
    "- STATE: The state where the event occurred\n",
    "- EVTYPE: A description of the event type\n",
    "- FATALITIES: The number of recorded fatalities from the event\n",
    "- INJURIES: The number of recorded injuries from the event\n",
    "- PROPDMG: The recorded amount of property damage\n",
    "- PROPDMGEXP: The units used for PROPDMG, expressed as a letter (**_upper OR lower case_**)\n",
    "    - blank: dollars\n",
    "    - 'H' hundreds of dollars\n",
    "    - 'K' thousands of dollars\n",
    "    - 'M' millions of dollars\n",
    "    - 'B' billions of dollars\n",
    "    - Any other value should be considered a data entry error and treated as a blank- PROPDMG: The recorded amount of property damage\n",
    "- CROPDMG: The recorded amount of property damage\n",
    "- CROPDMGEXP: The units used for PROPDMG, expressed as a letter (upper OR lower case) - Same as the PROPDMGEXP column\n",
    " \n",
    "\n"
   ]
  },
  {
   "cell_type": "markdown",
   "id": "exact-coral",
   "metadata": {},
   "source": [
    "### Set Up \n",
    "\n",
    "You may load **tidyverse** or just load the **dplyr**, **tidyr**, **stringr**, and **ggplot2** packages.\n",
    "\n",
    "**NOTE:** _Only run the 'install.packages' steps below if the ```library``` commands in the 4th code cell generate an error message._"
   ]
  },
  {
   "cell_type": "code",
   "execution_count": null,
   "id": "green-whole",
   "metadata": {},
   "outputs": [],
   "source": [
    "#Remove the comment symbol on the line below, run the line ONE time, then replace the comment symbol\n",
    "#install.packages(\"dplyr\")"
   ]
  },
  {
   "cell_type": "code",
   "execution_count": null,
   "id": "mighty-cassette",
   "metadata": {},
   "outputs": [],
   "source": [
    "#Remove the comment symbol on the line below, run the line ONE time, then replace the comment symbol\n",
    "#install.packages(\"tidyr\")"
   ]
  },
  {
   "cell_type": "code",
   "execution_count": null,
   "id": "thick-appliance",
   "metadata": {},
   "outputs": [],
   "source": [
    "#Remove the comment symbol on the line below, run the line ONE time, then replace the comment symbol\n",
    "#install.packages(\"stringr\")"
   ]
  },
  {
   "cell_type": "code",
   "execution_count": null,
   "id": "radical-lobby",
   "metadata": {},
   "outputs": [],
   "source": [
    "#Remove the comment symbol on the line below, run the line ONE time, then replace the comment symbol\n",
    "#install.packages(\"ggplot2\")"
   ]
  },
  {
   "cell_type": "code",
   "execution_count": null,
   "id": "portuguese-stopping",
   "metadata": {},
   "outputs": [],
   "source": [
    "library(dplyr)\n",
    "library(tidyr)\n",
    "library(stringr)\n",
    "library(ggplot2)"
   ]
  },
  {
   "cell_type": "markdown",
   "id": "fifty-inflation",
   "metadata": {},
   "source": [
    "### Data Set\n",
    "\n",
    "The data set is loaded below. If you are using RStudio, you may need to copy the data file from D2L and change the path in the code below to load the data."
   ]
  },
  {
   "cell_type": "code",
   "execution_count": null,
   "id": "theoretical-israel",
   "metadata": {},
   "outputs": [],
   "source": [
    "df_storm <- read.csv(\"Data/StormData.csv\")\n",
    "head(df_storm)"
   ]
  },
  {
   "cell_type": "markdown",
   "id": "logical-banks",
   "metadata": {},
   "source": [
    "### Task 1: Events by State\n",
    "\n",
    "Use the most appropriate instructions to find an answer to the following questions:\n",
    "\n",
    "- How many \"states\" have a reported event in the data set?\n",
    "- Which state has the most reported events in the data set?\n",
    "\n",
    "Use the cell below to create the results described. Be sure to run the cell(s) to display all of your results."
   ]
  },
  {
   "cell_type": "code",
   "execution_count": null,
   "id": "killing-fortune",
   "metadata": {},
   "outputs": [],
   "source": [
    "#Your solution to Task 1\n"
   ]
  },
  {
   "cell_type": "markdown",
   "id": "progressive-reviewer",
   "metadata": {},
   "source": [
    "### Written Response to Task 1 Questions\n",
    "\n",
    "**_Using complete sentences_**, write your answer in this cell for both questions posed in Task 1.  \n"
   ]
  },
  {
   "cell_type": "markdown",
   "id": "documented-nation",
   "metadata": {},
   "source": [
    "### Task 2: Analysis by Event \n",
    "\n",
    "The **EVTYPE** column contains many overlapping descriptions and needs to be standardized. Update the dataframe (or create a new one) with a column called **EVENT** which contains _**only**_ one of the following strings:\n",
    "\n",
    "- Blizzard\n",
    "- Extreme Cold\n",
    "- Extreme Heat\n",
    "- Flood\n",
    "- Hail\n",
    "- High Winds\n",
    "- Hurricane\n",
    "- Ice/Snow\n",
    "- Thunderstorm\n",
    "- Tornado\n",
    "- Other\n",
    "\n",
    "**_Use your best judgment_** to populate the **EVENT** column with the most appropriate string, based on the contents of the **EVTYPE** column. \n",
    "\n",
    "Once this is complete, show a summary of the data set by event, including the total number of each event (using the new standard event values above). Note that this summary should have 11 rows (1 for each of the events listed above)."
   ]
  },
  {
   "cell_type": "code",
   "execution_count": null,
   "id": "dramatic-exchange",
   "metadata": {},
   "outputs": [],
   "source": [
    "#Your solution to Task 2\n"
   ]
  },
  {
   "cell_type": "markdown",
   "id": "verified-organization",
   "metadata": {},
   "source": [
    "### Findings in Task 2\n",
    "\n",
    "Use this cell to answer the following questions:\n",
    "- BRIEFLY (1-2 sentences) describe the process you used for populating the **EVENT** column as accurately as possible.\n",
    "\n",
    "\n",
    "- Which event is recorded most frequently in the data set?\n"
   ]
  },
  {
   "cell_type": "markdown",
   "id": "horizontal-chosen",
   "metadata": {},
   "source": [
    "### Task 3: Total Property Damage by Event\n",
    "\n",
    "Using your updated dataframe (with the standard **EVENT** column), complete the following steps:\n",
    "1) Add a column that gives the true dollar amount of property damages for each row; for instance, if PROPDMG is 24 and PROPDMGEXP is \"K\", then the actual dollar amount is 24,000 dollars.\n",
    "2) Determine the total dollar amount of property damage for each of the 11 standard event types.\n"
   ]
  },
  {
   "cell_type": "code",
   "execution_count": null,
   "id": "owned-cleveland",
   "metadata": {},
   "outputs": [],
   "source": [
    "#Your solution to Task 3"
   ]
  },
  {
   "cell_type": "markdown",
   "id": "heavy-chosen",
   "metadata": {},
   "source": [
    "### Findings in Task 3\n",
    "\n",
    "Use this cell to answer the following questions:\n",
    "- Which event had the highest total property damage?\n",
    "\n",
    "\n",
    "- What was that total?"
   ]
  },
  {
   "cell_type": "markdown",
   "id": "verbal-sucking",
   "metadata": {},
   "source": [
    "### Task 4: Average Property Damage by Event\n",
    "\n",
    "Use the most appropriate instructions to find an answer to the following questions:\n",
    "\n",
    "- Which event had the highest **_average_** property damage (per reported instance)?\n",
    "- What was that average?"
   ]
  },
  {
   "cell_type": "code",
   "execution_count": null,
   "id": "optical-cuisine",
   "metadata": {},
   "outputs": [],
   "source": [
    "#Your solution to Task 4"
   ]
  },
  {
   "cell_type": "markdown",
   "id": "phantom-lying",
   "metadata": {},
   "source": [
    "### Written Response to Task 4 Questions\n",
    "\n",
    "**_Using complete sentences_**, write your answer in this cell for both questions posed in Task 4.  \n"
   ]
  },
  {
   "cell_type": "markdown",
   "id": "disturbed-distinction",
   "metadata": {},
   "source": [
    "### BONUS (Not Required)\n",
    "\n",
    "Use ggplot2 to create a plot that gives the reader some visual insight into the one of the other features in the data set (fatalities, injuries, crop damage).  There are many possibilities; think about the data and what a person might want to know (especially if it can be visualized in a plot.)"
   ]
  },
  {
   "cell_type": "code",
   "execution_count": null,
   "id": "dynamic-hacker",
   "metadata": {},
   "outputs": [],
   "source": [
    "#Your solution to BONUS "
   ]
  }
 ],
 "metadata": {
  "kernelspec": {
   "display_name": "R",
   "language": "R",
   "name": "ir"
  },
  "language_info": {
   "codemirror_mode": "r",
   "file_extension": ".r",
   "mimetype": "text/x-r-source",
   "name": "R",
   "pygments_lexer": "r",
   "version": "4.0.3"
  }
 },
 "nbformat": 4,
 "nbformat_minor": 5
}
