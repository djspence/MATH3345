{
 "cells": [
  {
   "cell_type": "markdown",
   "id": "ethical-netherlands",
   "metadata": {},
   "source": [
    "# MATH 3345 Activity\n",
    "\n",
    "## Data Visualization\n",
    "\n",
    "Perform the tasks below.  Your final result should be an .HTML file of this notebook, with all code cells run and all plots visible."
   ]
  },
  {
   "cell_type": "markdown",
   "id": "exact-coral",
   "metadata": {},
   "source": [
    "### Set Up \n",
    "\n",
    "Only run install steps below if needed."
   ]
  },
  {
   "cell_type": "code",
   "execution_count": null,
   "id": "green-whole",
   "metadata": {},
   "outputs": [],
   "source": [
    "#Remove the comment symbol on the line below, run the line ONE time, then replace the comment symbol\n",
    "#install.packages(\"dplyr\")"
   ]
  },
  {
   "cell_type": "code",
   "execution_count": null,
   "id": "careful-episode",
   "metadata": {},
   "outputs": [],
   "source": [
    "#Remove the comment symbol on the line below, run the line ONE time, then replace the comment symbol\n",
    "#install.packages(\"ggplot2\")"
   ]
  },
  {
   "cell_type": "code",
   "execution_count": null,
   "id": "divided-minnesota",
   "metadata": {},
   "outputs": [],
   "source": [
    "#Remove the comment symbol on the line below, run the line ONE time, then replace the comment symbol\n",
    "#install.packages(\"stringr\")"
   ]
  },
  {
   "cell_type": "code",
   "execution_count": null,
   "id": "portuguese-stopping",
   "metadata": {},
   "outputs": [],
   "source": [
    "library(dplyr)\n",
    "library(ggplot2)\n",
    "library(stringr)"
   ]
  },
  {
   "cell_type": "markdown",
   "id": "personalized-canyon",
   "metadata": {},
   "source": [
    "### Load Data\n",
    "\n",
    "Run the cell below to load the **df_power** data set. The data set contains a subset of a _Household Electric Power Consumption_ database from the UC Irvine Machine Learning Repository.  The data set contains measurements of electric power consumption in one household at a one-minute sampling rate. The data are limited to data recorded for October 2009.\n",
    "\n",
    "These are the variables in the data set:\n",
    "\n",
    "1. **Date** of consumption\n",
    "2. **Time** of consumption\n",
    "3. **Global_active_power**: household global minute-averaged active power (in kilowatts)\n",
    "4. **Global_reactive_power**: household global minute-averaged reactive power (in kilowatts)\n",
    "5. **Voltage**: minute-averaged voltage (in volts)\n",
    "6. **Global_intensity**: household global minute-averaged current intensity (in amperes)\n",
    "7. **Sub_metering_1**: energy sub-metering No. 1 (in watt-hours of active energy). It corresponds to the kitchen, containing mainly a dishwasher, an oven and a microwave (other appliances such as cooktop are gas powered).\n",
    "8. **Sub_metering_2**: energy sub-metering No. 2 (in watt-hours of active energy). It corresponds to the laundry room, containing a washing machine, a tumble-dryer, a refrigerator and a light.\n",
    "9. **Sub_metering_3**: energy sub-metering No. 3 (in watt-hours of active energy). It corresponds to an electric water-heater and an air conditioner.\n"
   ]
  },
  {
   "cell_type": "code",
   "execution_count": null,
   "id": "external-internet",
   "metadata": {},
   "outputs": [],
   "source": [
    "df_power <- read.csv(\"Data/power_consumption_2009October.csv\")\n",
    "\n",
    "head(df_power)"
   ]
  },
  {
   "cell_type": "markdown",
   "id": "small-payment",
   "metadata": {},
   "source": [
    "## Task 1.\n",
    "\n",
    "Use the code cell below to create the plot described, using the `ggplot2` library.\n",
    "\n",
    "Create a histogram of the `Global_active_power` readings for the entire month of October, 2009."
   ]
  },
  {
   "cell_type": "code",
   "execution_count": null,
   "id": "simple-vessel",
   "metadata": {},
   "outputs": [],
   "source": [
    "# Code for Task 1"
   ]
  },
  {
   "cell_type": "markdown",
   "id": "legislative-retreat",
   "metadata": {},
   "source": [
    "## Task 2.\n",
    "\n",
    "Add a column to the data set reflecting only the **_hour_** of the time variable, as an integer. Valid values for **_hour_** range from 0 (corresponding to midnight) to 23 (corresponding to 11 p.m.)  \n",
    "\n",
    "For example, all records with time 03:00:00 through 03:59:59 should have a value of 3 for `hour`.  \n",
    "\n",
    "Use this `hour` variable to create a plot illustrating the `Global_active_power` _**by the hour**_. \n",
    "\n",
    "##### Note that there are many acceptable ways to create a plot that meets this description."
   ]
  },
  {
   "cell_type": "code",
   "execution_count": null,
   "id": "political-carpet",
   "metadata": {},
   "outputs": [],
   "source": [
    "# Code for Task 2"
   ]
  }
 ],
 "metadata": {
  "kernelspec": {
   "display_name": "R",
   "language": "R",
   "name": "ir"
  },
  "language_info": {
   "codemirror_mode": "r",
   "file_extension": ".r",
   "mimetype": "text/x-r-source",
   "name": "R",
   "pygments_lexer": "r",
   "version": "4.0.3"
  }
 },
 "nbformat": 4,
 "nbformat_minor": 5
}
