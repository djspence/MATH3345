{
 "cells": [
  {
   "cell_type": "markdown",
   "id": "ethical-netherlands",
   "metadata": {},
   "source": [
    "# MATH 3345 R Lesson Notebook 11\n",
    "\n",
    "## Importing Data\n",
    "\n",
    "This notebook accompanies Chapter 7 of _**R for Data Science (2nd Ed.)**_"
   ]
  },
  {
   "cell_type": "markdown",
   "id": "exact-coral",
   "metadata": {},
   "source": [
    "### Set Up (Section 7.1.1)\n",
    "\n",
    "The textbook has you load tidyverse.  Another option is to load the **readr** and **dplyr** libraries, which are the packages needed for these exercises.\n",
    "\n",
    "**NOTE:** _Only run the 'install.packages' steps below if the ```library``` command to load the specified package generates an error message._"
   ]
  },
  {
   "cell_type": "code",
   "execution_count": null,
   "id": "green-whole",
   "metadata": {},
   "outputs": [],
   "source": [
    "#Remove the comment symbol on the line below, run the line ONE time, then replace the comment symbol\n",
    "#install.packages(\"dplyr\")"
   ]
  },
  {
   "cell_type": "code",
   "execution_count": null,
   "id": "portuguese-stopping",
   "metadata": {},
   "outputs": [],
   "source": [
    "library(dplyr)"
   ]
  },
  {
   "cell_type": "code",
   "execution_count": null,
   "id": "august-zambia",
   "metadata": {},
   "outputs": [],
   "source": [
    "#Remove the comment symbol on the line below, run the line ONE time, then replace the comment symbol\n",
    "#install.packages(\"readr\")"
   ]
  },
  {
   "cell_type": "code",
   "execution_count": null,
   "id": "further-signal",
   "metadata": {},
   "outputs": [],
   "source": [
    "library(readr)"
   ]
  },
  {
   "cell_type": "markdown",
   "id": "fifty-inflation",
   "metadata": {},
   "source": [
    "### Explore Examples\n",
    "\n",
    "Follow the steps for re-creating the examples as shown by typing the code given in each example of the sections indicated below. Insert a new code cell to carry out each example.\n",
    "\n",
    "To get the most out of these exercises, **_do NOT copy/paste the code from the online textbook._** Type it yourself so that you will become more familiar with how the commands work. "
   ]
  },
  {
   "cell_type": "markdown",
   "id": "documented-nation",
   "metadata": {},
   "source": [
    "### Reading Data from a File (Section 7.2)\n",
    "\n",
    "Create a new code cell to carry out _each_ example in the section. Also consider creating one or more **markdown** cells to write some notes to yourself about what each example is illustrating.\n",
    "\n",
    "#### NOTES\n",
    "* To run the examples where the file is called ```\"data/students.csv\"```, you would need to download the file from the website provided. Make sure you save it with the name ```students.csv``` and then put it in a folder called ```data```, where the ```data``` folder is INSIDE the folder where your notebook is stored. _**Other alternatives are:**_\n",
    "  * change the file name (in your code) to ```\"students.csv\"``` (omit folder name) and place the file directly in the same folder with your notebook\n",
    "  * change the file name (in your code) to the same one used in the first example to continue loading it directly from the website.\n",
    "* To replicate examples that use the ```clean_names``` function, you would need to install the ```janitor``` package. **_This is not required_.**\n",
    "* Even if you do not use the ```clean_names``` function, you should try the other techniques introduced in the last example of _Section 7.2.1._ You can accomplish this by replacing the following code:\n",
    "\n",
    "```\n",
    "students <- students |>\n",
    "  janitor::clean_names() |>\n",
    "  mutate(\n",
    "    meal_plan = factor(meal_plan),\n",
    "    age = parse_number(if_else(age == \"five\", \"5\", age))\n",
    "  )\n",
    "```\n",
    "with this:\n",
    "```\n",
    "students <- students %>%\n",
    "  mutate(\n",
    "    mealPlan = factor(mealPlan),\n",
    "    AGE = parse_number(if_else(AGE == \"five\", \"5\", AGE))\n",
    "  )\n",
    "```\n"
   ]
  },
  {
   "cell_type": "code",
   "execution_count": null,
   "id": "appointed-motorcycle",
   "metadata": {},
   "outputs": [],
   "source": []
  },
  {
   "cell_type": "markdown",
   "id": "periodic-signature",
   "metadata": {},
   "source": [
    "### Controlling Column Types (Section 7.3)\n",
    "\n",
    "Create a new code cell to carry out _each_ example in the section. Also consider creating one or more **markdown** cells to write some notes to yourself about what each example is illustrating.\n"
   ]
  },
  {
   "cell_type": "code",
   "execution_count": null,
   "id": "interesting-medium",
   "metadata": {},
   "outputs": [],
   "source": []
  },
  {
   "cell_type": "markdown",
   "id": "horizontal-chosen",
   "metadata": {},
   "source": [
    "### Reading Data from Multiple Files (Section 7.4)\n",
    "\n",
    "Create a new code cell to carry out _each_ example in the section. Also consider creating one or more **markdown** cells to write some notes to yourself about what each example is illustrating.\n",
    "\n",
    "#### NOTES\n",
    "\n",
    "* Examples in this section will not work on JupyterHub, because the older version of **read_csv** does not have the ```id=``` parameter shown in the examples.\n",
    "* Note that if you try the first example in RStudio, you will first need to download the data files and EITHER:\n",
    "    * Place them in a **data** folder within the same folder where your code file resides, OR\n",
    "    * Place them directly in the same folder with your code file and remove the **_data/_** from each file name in your code."
   ]
  },
  {
   "cell_type": "code",
   "execution_count": null,
   "id": "tested-project",
   "metadata": {},
   "outputs": [],
   "source": []
  },
  {
   "cell_type": "markdown",
   "id": "african-smell",
   "metadata": {},
   "source": [
    "### Writing to a File (Section 7.5)\n",
    "\n",
    "Create a new code cell to carry out _each_ example in the section. Also consider creating one or more **markdown** cells to write some notes to yourself about what each example is illustrating.\n",
    "\n",
    "#### NOTES\n",
    "\n",
    "* You may omit the last example in this section, which uses the **arrow** library to work with _parquet_ formats.\n"
   ]
  },
  {
   "cell_type": "code",
   "execution_count": null,
   "id": "sized-niagara",
   "metadata": {},
   "outputs": [],
   "source": []
  },
  {
   "cell_type": "markdown",
   "id": "presidential-blond",
   "metadata": {},
   "source": [
    "### Data Entry (Section 7.6)\n",
    "\n",
    "Create a new code cell to carry out _each_ example in the section. Also consider creating one or more **markdown** cells to write some notes to yourself about what each example is illustrating.\n"
   ]
  },
  {
   "cell_type": "code",
   "execution_count": null,
   "id": "revolutionary-league",
   "metadata": {},
   "outputs": [],
   "source": []
  }
 ],
 "metadata": {
  "kernelspec": {
   "display_name": "R",
   "language": "R",
   "name": "ir"
  },
  "language_info": {
   "codemirror_mode": "r",
   "file_extension": ".r",
   "mimetype": "text/x-r-source",
   "name": "R",
   "pygments_lexer": "r",
   "version": "4.0.3"
  }
 },
 "nbformat": 4,
 "nbformat_minor": 5
}
