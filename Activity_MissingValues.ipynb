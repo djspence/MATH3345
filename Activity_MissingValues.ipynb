{
 "cells": [
  {
   "cell_type": "markdown",
   "id": "ethical-netherlands",
   "metadata": {},
   "source": [
    "# MATH 3345 Activity\n",
    "\n",
    "## Missing Data\n",
    "\n",
    "This activity provides the data and tasks for the **D2L Quiz** on _Missing Data_"
   ]
  },
  {
   "cell_type": "markdown",
   "id": "exact-coral",
   "metadata": {},
   "source": [
    "### Set Up \n",
    "\n",
    "Only run install steps below if needed."
   ]
  },
  {
   "cell_type": "code",
   "execution_count": null,
   "id": "green-whole",
   "metadata": {},
   "outputs": [],
   "source": [
    "#Remove the comment symbol on the line below, run the line ONE time, then replace the comment symbol\n",
    "#install.packages(\"dplyr\")"
   ]
  },
  {
   "cell_type": "code",
   "execution_count": null,
   "id": "careful-episode",
   "metadata": {},
   "outputs": [],
   "source": [
    "#Remove the comment symbol on the line below, run the line ONE time, then replace the comment symbol\n",
    "#install.packages(\"tidyr\")"
   ]
  },
  {
   "cell_type": "code",
   "execution_count": null,
   "id": "portuguese-stopping",
   "metadata": {},
   "outputs": [],
   "source": [
    "library(dplyr)\n",
    "library(tidyr)"
   ]
  },
  {
   "cell_type": "markdown",
   "id": "personalized-canyon",
   "metadata": {},
   "source": [
    "### Load Data\n",
    "\n",
    "Run the cell below to load the **df_presidents** data set. The data set contains US presidents' approval ratings on a quarterly basis for the years 1945 to 1974.\n",
    "\n",
    "_**DO NOT MAKE ANY CHANGES TO THE CODE**_"
   ]
  },
  {
   "cell_type": "code",
   "execution_count": null,
   "id": "external-internet",
   "metadata": {},
   "outputs": [],
   "source": [
    "year = rep(1945:1974,each=4)\n",
    "quarter = rep(1:4,30)\n",
    "rating = (data.frame(presidents))\n",
    "rating[2,] = rating[1,]\n",
    "rating[1,] = 87\n",
    "df_presidents <- drop_na(data.frame(year,quarter,rating=rating)) %>% arrange(year,quarter)\n",
    "colnames(df_presidents)[3] <- 'rating'\n",
    "\n",
    "head(df_presidents)"
   ]
  },
  {
   "cell_type": "markdown",
   "id": "small-payment",
   "metadata": {},
   "source": [
    "## Task 1.\n",
    "\n",
    "Use the code cell below to determine the answer to the following questions. Add additional code cells as needed.\n",
    "\n",
    "_You will need to enter your answers to these questions in the D2L quiz._\n",
    "\n",
    "1. How many rows are in the **df_presidents** dataframe after it is loaded in the previous cell?\n",
    "2. Each year (1945-1974) should have 4 ratings (one for each quarter). How many RATINGS are missing from the data set?\n",
    "3. How many of those YEARS have incomplete data? (Notice that this is not the same answer as question 2.)\n",
    "4. Which YEARS have the MOST missing data?"
   ]
  },
  {
   "cell_type": "code",
   "execution_count": null,
   "id": "simple-vessel",
   "metadata": {},
   "outputs": [],
   "source": []
  },
  {
   "cell_type": "markdown",
   "id": "legislative-retreat",
   "metadata": {},
   "source": [
    "## Task 2.\n",
    "\n",
    "Use the appropriate R command(s) from the **tidyr** package to _automatically_ add a row to the data set for each missing rating. Each new row should reflect the year and quarter, with an _NA_ value representing the missing rating. Note that '_automatically_' means that you should not need to manually add specific rows or identify which year and quarter need to be added to the data set.  \n",
    "\n",
    "Store the result (updated dataframe with new rows) in a dataframe called **df_complete**. \n",
    "\n",
    "When you have accomplished this task in the code cell below, be prepared to enter responses in the D2L quiz for the following:\n",
    "\n",
    "1. Copy the code used to insert the missing rows; paste this code where requested.\n",
    "2. How many rows are in the updated dataframe, **df_complete**?"
   ]
  },
  {
   "cell_type": "code",
   "execution_count": null,
   "id": "political-carpet",
   "metadata": {},
   "outputs": [],
   "source": []
  },
  {
   "cell_type": "markdown",
   "id": "distributed-scroll",
   "metadata": {},
   "source": [
    "## Task 3.\n",
    "\n",
    "Use the appropriate R command(s) from the **tidyr** package to _automatically_ replace each _NA_ value with the rating from the previous quarter (i.e., previous row).  \n",
    "\n",
    "Store the result (updated dataframe with _NA_ ratings populated from prior quarter) in a dataframe called **df_populated**. \n",
    "\n",
    "Group **df_populated** by year and compute the average rating for each year. \n",
    "\n",
    "When you have accomplished this task in the code cell below, be prepared to enter responses in the D2L quiz for the following:\n",
    "\n",
    "1. Copy the code used to create **df_populated** (replace _NA_ ratings with the prior quarter's values); paste this code where requested.\n",
    "2. Copy the code used to compute the average rating by year; paste this code where requested.\n",
    "3. Be prepared to use your output to enter the average rating for a given year."
   ]
  },
  {
   "cell_type": "code",
   "execution_count": null,
   "id": "judicial-ready",
   "metadata": {},
   "outputs": [],
   "source": []
  }
 ],
 "metadata": {
  "kernelspec": {
   "display_name": "R",
   "language": "R",
   "name": "ir"
  },
  "language_info": {
   "codemirror_mode": "r",
   "file_extension": ".r",
   "mimetype": "text/x-r-source",
   "name": "R",
   "pygments_lexer": "r",
   "version": "4.0.3"
  }
 },
 "nbformat": 4,
 "nbformat_minor": 5
}
