{
 "cells": [
  {
   "cell_type": "markdown",
   "id": "ethical-netherlands",
   "metadata": {},
   "source": [
    "# MATH 3345 R Lesson Notebook 1\n",
    "\n",
    "## Getting Started and Data Visualization with _ggplot_\n",
    "\n",
    "This notebook accompanies Chapter 1 of _**R for Data Science (2nd Ed.)**_"
   ]
  },
  {
   "cell_type": "markdown",
   "id": "exact-coral",
   "metadata": {},
   "source": [
    "### Set Up (Section 1.1)"
   ]
  },
  {
   "cell_type": "code",
   "execution_count": null,
   "id": "green-whole",
   "metadata": {},
   "outputs": [],
   "source": [
    "#Remove the comment symbol on the line below, run the line ONE time, then replace the comment symbol\n",
    "#install.packages(\"tidyverse\")"
   ]
  },
  {
   "cell_type": "code",
   "execution_count": null,
   "id": "portuguese-stopping",
   "metadata": {},
   "outputs": [],
   "source": [
    "library(tidyverse)"
   ]
  },
  {
   "cell_type": "code",
   "execution_count": null,
   "id": "external-internet",
   "metadata": {},
   "outputs": [],
   "source": [
    "#Run the line below only ONE time (remove/replace comment symbol)\n",
    "#install.packages(\"palmerpenguins\")"
   ]
  },
  {
   "cell_type": "code",
   "execution_count": null,
   "id": "individual-diagnosis",
   "metadata": {},
   "outputs": [],
   "source": [
    "library(palmerpenguins)"
   ]
  },
  {
   "cell_type": "markdown",
   "id": "logical-banks",
   "metadata": {},
   "source": [
    "### First Look at Data (Section 1.2.1)"
   ]
  },
  {
   "cell_type": "code",
   "execution_count": null,
   "id": "understood-dominican",
   "metadata": {},
   "outputs": [],
   "source": [
    "head(penguins)"
   ]
  },
  {
   "cell_type": "code",
   "execution_count": null,
   "id": "dramatic-exchange",
   "metadata": {},
   "outputs": [],
   "source": [
    "glimpse(penguins)"
   ]
  },
  {
   "cell_type": "code",
   "execution_count": null,
   "id": "handy-witch",
   "metadata": {},
   "outputs": [],
   "source": [
    "?penguins"
   ]
  },
  {
   "cell_type": "markdown",
   "id": "fifty-inflation",
   "metadata": {},
   "source": [
    "### Creating Plots\n",
    "\n",
    "Follow the steps for creating plots as shown in the next sections. Create the plots shown in the text by typing the code given in each example of the sections indicated below. Insert a new code cell to carry out each example.\n",
    "\n",
    "**_Do NOT copy/paste the code from the online textbook._** Type it yourself so that you will become more familiar with the graphing elements of **ggplot**. "
   ]
  },
  {
   "cell_type": "markdown",
   "id": "documented-nation",
   "metadata": {},
   "source": [
    "### Section 1.2.3\n",
    "\n",
    "Create a new code cell to carry out _each_ example in the section."
   ]
  },
  {
   "cell_type": "code",
   "execution_count": null,
   "id": "appointed-motorcycle",
   "metadata": {},
   "outputs": [],
   "source": []
  },
  {
   "cell_type": "markdown",
   "id": "periodic-signature",
   "metadata": {},
   "source": [
    "### Section 1.2.4\n",
    "\n",
    "Create a new code cell to carry out _each_ example in the section."
   ]
  },
  {
   "cell_type": "code",
   "execution_count": null,
   "id": "interesting-medium",
   "metadata": {},
   "outputs": [],
   "source": []
  },
  {
   "cell_type": "markdown",
   "id": "latest-cooperation",
   "metadata": {},
   "source": [
    "### Section 1.3 \n",
    "\n",
    "In the code cell below, carry out the code shown in the _**second code box only**_ (the \"more concise\" example)."
   ]
  },
  {
   "cell_type": "code",
   "execution_count": null,
   "id": "controlling-pottery",
   "metadata": {},
   "outputs": [],
   "source": []
  },
  {
   "cell_type": "markdown",
   "id": "grand-parameter",
   "metadata": {},
   "source": [
    "### Section 1.4.1\n",
    "\n",
    "Create a new code cell to carry out _each_ example in the section."
   ]
  },
  {
   "cell_type": "code",
   "execution_count": null,
   "id": "decent-novel",
   "metadata": {},
   "outputs": [],
   "source": []
  },
  {
   "cell_type": "markdown",
   "id": "broken-harrison",
   "metadata": {},
   "source": [
    "### Section 1.4.2\n",
    "\n",
    "Create a new code cell to carry out _each_ example in the section."
   ]
  },
  {
   "cell_type": "code",
   "execution_count": null,
   "id": "scientific-witch",
   "metadata": {},
   "outputs": [],
   "source": []
  },
  {
   "cell_type": "markdown",
   "id": "assumed-visibility",
   "metadata": {},
   "source": [
    "### Section 1.5.1\n",
    "\n",
    "Create a new code cell to carry out _each_ example in the section."
   ]
  },
  {
   "cell_type": "code",
   "execution_count": null,
   "id": "clinical-confidence",
   "metadata": {},
   "outputs": [],
   "source": []
  },
  {
   "cell_type": "markdown",
   "id": "trying-tanzania",
   "metadata": {},
   "source": [
    "### Section 1.5.2\n",
    "\n",
    "Create a new code cell to carry out _each_ example in the section."
   ]
  },
  {
   "cell_type": "code",
   "execution_count": null,
   "id": "spiritual-surprise",
   "metadata": {},
   "outputs": [],
   "source": []
  },
  {
   "cell_type": "markdown",
   "id": "declared-walter",
   "metadata": {},
   "source": [
    "### Section 1.5.3\n",
    "\n",
    "Create a new code cell to carry out _each_ example in the section."
   ]
  },
  {
   "cell_type": "code",
   "execution_count": null,
   "id": "prompt-folder",
   "metadata": {},
   "outputs": [],
   "source": []
  },
  {
   "cell_type": "markdown",
   "id": "advanced-israeli",
   "metadata": {},
   "source": [
    "### Section 1.5.4\n",
    "\n",
    "Create a new code cell to carry out _each_ example in the section."
   ]
  },
  {
   "cell_type": "code",
   "execution_count": null,
   "id": "surprised-dependence",
   "metadata": {},
   "outputs": [],
   "source": []
  }
 ],
 "metadata": {
  "kernelspec": {
   "display_name": "R",
   "language": "R",
   "name": "ir"
  },
  "language_info": {
   "codemirror_mode": "r",
   "file_extension": ".r",
   "mimetype": "text/x-r-source",
   "name": "R",
   "pygments_lexer": "r",
   "version": "4.0.3"
  }
 },
 "nbformat": 4,
 "nbformat_minor": 5
}
