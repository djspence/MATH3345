{
 "cells": [
  {
   "cell_type": "markdown",
   "id": "ethical-netherlands",
   "metadata": {},
   "source": [
    "# MATH 3345 R Lesson Notebook 14\n",
    "\n",
    "## Basic Tools in the Grammar of Graphics: _LAYERS_\n",
    "\n",
    "This notebook accompanies Chapter 9 of _**R for Data Science (2nd Ed.)**_"
   ]
  },
  {
   "cell_type": "markdown",
   "id": "exact-coral",
   "metadata": {},
   "source": [
    "### Set Up\n",
    "\n",
    "You will need the **dplyr**, and **ggplot2** libraries for this lesson. \n",
    "\n",
    "In addition, one plotting example requires a package called **ggridges**. However, this library requires a newer version of **ggplot2** than we have on UNG's JupyterHub. **_YOU MAY SKIP THIS EXAMPLE._** However, if you wish to experiment with it, you may use RStudio to install and load the **ggridges** package (**OPTIONAL**).\n",
    "\n",
    "Section 9.7 also shows a useful example using geographical maps. This example requires the **maps** package. If you are unable to load this package, disable the ```library``` instruction and skip that example.\n",
    "\n",
    "**NOTE:** _Only run the 'install.packages' steps below if the ```library``` command to load the specified package generates an error message._"
   ]
  },
  {
   "cell_type": "code",
   "execution_count": null,
   "id": "magnetic-superior",
   "metadata": {},
   "outputs": [],
   "source": [
    "#Remove the comment symbol on the line below, run the line ONE time, then replace the comment symbol\n",
    "#install.packages(\"dplyr\")"
   ]
  },
  {
   "cell_type": "code",
   "execution_count": null,
   "id": "loving-astronomy",
   "metadata": {},
   "outputs": [],
   "source": [
    "library(dplyr)"
   ]
  },
  {
   "cell_type": "code",
   "execution_count": null,
   "id": "august-zambia",
   "metadata": {},
   "outputs": [],
   "source": [
    "#Remove the comment symbol on the line below, run the line ONE time, then replace the comment symbol\n",
    "#install.packages(\"ggplot2\")"
   ]
  },
  {
   "cell_type": "code",
   "execution_count": null,
   "id": "psychological-european",
   "metadata": {},
   "outputs": [],
   "source": [
    "library(ggplot2)"
   ]
  },
  {
   "cell_type": "code",
   "execution_count": null,
   "id": "excited-simpson",
   "metadata": {},
   "outputs": [],
   "source": [
    "#Remove the comment symbol on the line below, run the line ONE time, then replace the comment symbol\n",
    "#install.packages(\"maps\")"
   ]
  },
  {
   "cell_type": "code",
   "execution_count": null,
   "id": "cloudy-voice",
   "metadata": {},
   "outputs": [],
   "source": [
    "library(maps)"
   ]
  },
  {
   "cell_type": "markdown",
   "id": "fifty-inflation",
   "metadata": {},
   "source": [
    "### Explore Examples\n",
    "\n",
    "Follow the steps for re-creating the examples as shown by typing the code given in each example of the sections indicated below. Insert a new code cell to carry out each example.\n",
    "\n",
    "To get the most out of these exercises, **_do NOT copy/paste the code from the online textbook._** Type it yourself so that you will become more familiar with how the commands work. "
   ]
  },
  {
   "cell_type": "markdown",
   "id": "documented-nation",
   "metadata": {},
   "source": [
    "### Aesthetic Mappings (Section 9.2)\n",
    "\n",
    "Create a new code cell to carry out _each_ example in the section. Also consider creating one or more **markdown** cells to write some notes to yourself about what each example is illustrating.\n"
   ]
  },
  {
   "cell_type": "code",
   "execution_count": null,
   "id": "appointed-motorcycle",
   "metadata": {},
   "outputs": [],
   "source": []
  },
  {
   "cell_type": "markdown",
   "id": "periodic-signature",
   "metadata": {},
   "source": [
    "### Geometric Objects (Section 9.3)\n",
    "\n",
    "Create a new code cell to carry out _each_ example in the section. Also consider creating one or more **markdown** cells to write some notes to yourself about what each example is illustrating.\n",
    "\n",
    "#### NOTE\n",
    "Remember that the **ggridges** package will not work in the current UNG JupyterHub environment, so you may skip the last example in this section."
   ]
  },
  {
   "cell_type": "code",
   "execution_count": null,
   "id": "interesting-medium",
   "metadata": {},
   "outputs": [],
   "source": []
  },
  {
   "cell_type": "markdown",
   "id": "victorian-dynamics",
   "metadata": {},
   "source": [
    "### Facets (Section 9.4)\n",
    "\n",
    "Create a new code cell to carry out _each_ example in the section. Also consider creating one or more **markdown** cells to write some notes to yourself about what each example is illustrating.\n"
   ]
  },
  {
   "cell_type": "code",
   "execution_count": null,
   "id": "judicial-bunny",
   "metadata": {},
   "outputs": [],
   "source": []
  },
  {
   "cell_type": "markdown",
   "id": "adolescent-generator",
   "metadata": {},
   "source": [
    "### Statistical Transformations (Section 9.5)\n",
    "\n",
    "Create a new code cell to carry out _each_ example in the section. Also consider creating one or more **markdown** cells to write some notes to yourself about what each example is illustrating.\n"
   ]
  },
  {
   "cell_type": "code",
   "execution_count": null,
   "id": "geological-italian",
   "metadata": {},
   "outputs": [],
   "source": []
  },
  {
   "cell_type": "markdown",
   "id": "simplified-width",
   "metadata": {},
   "source": [
    "### Position Adjustments (Section 9.6)\n",
    "\n",
    "Create a new code cell to carry out _each_ example in the section. Also consider creating one or more **markdown** cells to write some notes to yourself about what each example is illustrating.\n"
   ]
  },
  {
   "cell_type": "code",
   "execution_count": null,
   "id": "acquired-designation",
   "metadata": {},
   "outputs": [],
   "source": []
  },
  {
   "cell_type": "markdown",
   "id": "comfortable-bracelet",
   "metadata": {},
   "source": [
    "### Coordinate Systems (Section 9.7)\n",
    "\n",
    "Create a new code cell to carry out _each_ example in the section. Also consider creating one or more **markdown** cells to write some notes to yourself about what each example is illustrating.\n",
    "\n",
    "#### NOTE\n",
    "Remember that the **maps** package is needed for the first example in this section.\n"
   ]
  },
  {
   "cell_type": "code",
   "execution_count": null,
   "id": "corrected-mobility",
   "metadata": {},
   "outputs": [],
   "source": []
  }
 ],
 "metadata": {
  "kernelspec": {
   "display_name": "R",
   "language": "R",
   "name": "ir"
  },
  "language_info": {
   "codemirror_mode": "r",
   "file_extension": ".r",
   "mimetype": "text/x-r-source",
   "name": "R",
   "pygments_lexer": "r",
   "version": "4.0.3"
  }
 },
 "nbformat": 4,
 "nbformat_minor": 5
}
