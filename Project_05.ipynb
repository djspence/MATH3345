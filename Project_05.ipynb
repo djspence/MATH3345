{
 "cells": [
  {
   "cell_type": "markdown",
   "id": "ethical-netherlands",
   "metadata": {},
   "source": [
    "# MATH 3345 Project 5\n",
    "\n",
    "Perform the tasks below.  Your final result should be an .HTML file of this notebook, with all code cells run and all answers provided in a markdown cell where instructed.\n",
    "\n",
    "As a guide, remember to consult the examples and lesson notebooks from all chapters that we have covered in _**R for Data Science (2nd Ed.)**_\n",
    "\n",
    "## Background\n",
    "\n",
    "Fine particulate matter (PM2.5) is an ambient air pollutant for which there is strong evidence that it is harmful to human health. In the United States, the Environmental Protection Agency (EPA) is tasked with setting national ambient air quality standards for fine PM and for tracking the emissions of this pollutant into the atmosphere. Approximately every 3 years, the EPA releases its database on emissions of PM2.5. This database is known as the National Emissions Inventory (NEI). You can read\n",
    "more information about the NEI at the EPA National Emissions Inventory web site.\n",
    "\n",
    "For each year and for each type of PM source, the NEI records how many tons of PM2.5 were emitted from that source over the course of the entire year. The data that you will use for this assignment are for a sample of 10 U.S. counties during 1999, 2002, 2005, and 2008.\n",
    "\n",
    "Your data set consists of the following files. On JupyterHub, these files are in the **Data** folder. If you are working in RStudio, download the files from D2L and place them on your machine in any location you choose.\n",
    "\n",
    "#### Sample_PM25.rds\n",
    "This file contains PM2.5 emissions data in the selected cities for 1999, 2002, 2005, and 2008. For each year, the table contains number of **tons** of PM2.5 emitted from a specific type of source for the entire year. Below are the columns:\n",
    "- `fips`: A 5-digit number (represented as a string) indicating the U.S. county\n",
    "- `SCC`: The name of the source represented as a digit string (see source classification code table below)\n",
    "- `Emissions`: Amount of PM2.5 emitted, in tons\n",
    "- `type`: The type of emission source (there are 4 types; explore the data to determine what these are)\n",
    "- `year`: The year for which the emissions were recorded\n",
    "\n",
    "#### Source_Classification_Code.rds\n",
    "This table provides a mapping from the SCC digit strings in the Emissions table to the actual name of the PM2.5 source. The sources are categorized in a few different ways from more general to more specific and you may choose to explore whatever categories you think are most useful. For example, source “10100101” is known as “Ext Comb /Electric Gen /Anthracite Coal /Pulverized Coal”.\n"
   ]
  },
  {
   "cell_type": "markdown",
   "id": "exact-coral",
   "metadata": {},
   "source": [
    "### Set Up \n",
    "\n",
    "At the very least, you will need the **dplyr** and **ggplot2** packages. Feel free to load and use other packages to implement your solution. Note that all plots should be produced using the **ggplot2** package.\n",
    "\n",
    "**NOTE:** _Only run the 'install.packages' steps below if the ```library``` commands in the 4th code cell generate an error message._"
   ]
  },
  {
   "cell_type": "code",
   "execution_count": null,
   "id": "green-whole",
   "metadata": {},
   "outputs": [],
   "source": [
    "#Remove the comment symbol on the line below, run the line ONE time, then replace the comment symbol\n",
    "#install.packages(\"dplyr\")"
   ]
  },
  {
   "cell_type": "code",
   "execution_count": null,
   "id": "mighty-cassette",
   "metadata": {},
   "outputs": [],
   "source": [
    "#Remove the comment symbol on the line below, run the line ONE time, then replace the comment symbol\n",
    "#install.packages(\"ggplot2\")"
   ]
  },
  {
   "cell_type": "code",
   "execution_count": null,
   "id": "portuguese-stopping",
   "metadata": {},
   "outputs": [],
   "source": [
    "library(dplyr)\n",
    "library(ggplot2)"
   ]
  },
  {
   "cell_type": "markdown",
   "id": "fifty-inflation",
   "metadata": {},
   "source": [
    "### Data Set\n",
    "\n",
    "The code below loads each of the dataframes in the dataset and displays the first few rows."
   ]
  },
  {
   "cell_type": "code",
   "execution_count": null,
   "id": "binary-investment",
   "metadata": {},
   "outputs": [],
   "source": [
    "df_PM25 <- readRDS(\"Data/Sample_PM25.rds\")\n",
    "head(df_PM25)"
   ]
  },
  {
   "cell_type": "code",
   "execution_count": null,
   "id": "compressed-jackson",
   "metadata": {},
   "outputs": [],
   "source": [
    "df_sources <- readRDS(\"Data/Source_Classification_Code.rds\")\n",
    "head(df_sources,3)"
   ]
  },
  {
   "cell_type": "markdown",
   "id": "seventh-truth",
   "metadata": {},
   "source": [
    "## Tasks\n",
    "Each task below poses a question that you should address by creating one or more appropriate plots using the **ggplot2** package. After displaying your plots, give a _**brief**_ (1-2 sentence) summary of your findings that answer the question."
   ]
  },
  {
   "cell_type": "markdown",
   "id": "logical-banks",
   "metadata": {},
   "source": [
    "### Task 1: Total Emissions Overall\n",
    "\n",
    "Based on this cross-section of U.S. data, have total emissions from PM2.5 decreased in the U.S. from 1999 to 2008? Use one or more plots to illustrate the total PM2.5 emissions for each of the years 1999, 2002, 2005, and 2008.\n",
    "\n",
    "Use the cell(s) below to create the plot(s) described. Be sure to run the cell(s) to display all of your results."
   ]
  },
  {
   "cell_type": "code",
   "execution_count": null,
   "id": "killing-fortune",
   "metadata": {},
   "outputs": [],
   "source": [
    "#Your solution to Task 1\n"
   ]
  },
  {
   "cell_type": "markdown",
   "id": "chicken-pleasure",
   "metadata": {},
   "source": [
    "#### Your Findings for Task 1\n",
    "\n",
    "(Click into this cell to enter your answer here)"
   ]
  },
  {
   "cell_type": "markdown",
   "id": "documented-nation",
   "metadata": {},
   "source": [
    "### Task 2: Total Emissions in Baltimore City \n",
    "\n",
    "Have total emissions from PM2.5 decreased in _**Baltimore City**_, Maryland (`fips == \"24510\"`) from 1999 to 2008? Use one or more plots to illustrate.\n",
    "\n",
    "Use the cell(s) below to create the plot(s) described. Be sure to run the cell(s) to display all of your results."
   ]
  },
  {
   "cell_type": "code",
   "execution_count": null,
   "id": "dramatic-exchange",
   "metadata": {},
   "outputs": [],
   "source": [
    "#Your solution to Task 2\n"
   ]
  },
  {
   "cell_type": "markdown",
   "id": "mighty-tragedy",
   "metadata": {},
   "source": [
    "#### Your Findings for Task 2\n",
    "\n",
    "(Click into this cell to enter your answer here)"
   ]
  },
  {
   "cell_type": "markdown",
   "id": "horizontal-chosen",
   "metadata": {},
   "source": [
    "### Task 3: Different Emission Sources in Baltimore City\n",
    "\n",
    "Of the four types of sources indicated by the `type` variable (point, nonpoint, onroad, nonroad), which of these four sources have seen decreases in emissions from 1999–2008 for _**Baltimore City**_? Which have seen increases in emissions from 1999–2008? Use a **single plot with _facets_** to illustrate.\n",
    "\n",
    "Use the cell(s) below to create the plot described. Be sure to run the cell(s) to display all of your results."
   ]
  },
  {
   "cell_type": "code",
   "execution_count": null,
   "id": "owned-cleveland",
   "metadata": {},
   "outputs": [],
   "source": [
    "#Your solution to Task 3\n"
   ]
  },
  {
   "cell_type": "markdown",
   "id": "nonprofit-lease",
   "metadata": {},
   "source": [
    "#### Your Findings for Task 3\n",
    "\n",
    "(Click into this cell to enter your answer here)"
   ]
  },
  {
   "cell_type": "markdown",
   "id": "secret-clear",
   "metadata": {},
   "source": [
    "### Task 4: Emissions from Coal Combustion\n",
    "\n",
    "Based on this cross-section of U.S. data, how have U.S. emissions _from coal combustion-related sources_ changed from 1999 to 2008? Use a plot to illustrate.\n",
    "\n",
    "Use the cell(s) below to create the plot described. Be sure to run the cell(s) to display all of your results."
   ]
  },
  {
   "cell_type": "code",
   "execution_count": null,
   "id": "bronze-protocol",
   "metadata": {},
   "outputs": [],
   "source": [
    "#Your solution to Task 4\n"
   ]
  },
  {
   "cell_type": "markdown",
   "id": "ordered-handy",
   "metadata": {},
   "source": [
    "#### Your Findings for Task 4\n",
    "\n",
    "(Click into this cell to enter your answer here)"
   ]
  },
  {
   "cell_type": "markdown",
   "id": "upper-default",
   "metadata": {},
   "source": [
    "### Task 5: Motor Vehicle Emissions in Baltimore City\n",
    "\n",
    "How have emissions _from motor vehicle sources_ changed from 1998 to 2008 in **_Baltimore City_**? Use a plot to illustrate.\n",
    "\n",
    "Use the cell(s) below to create the plot described. Be sure to run the cell(s) to display all of your results."
   ]
  },
  {
   "cell_type": "code",
   "execution_count": null,
   "id": "blind-profile",
   "metadata": {},
   "outputs": [],
   "source": [
    "#Your solution to Task 5\n"
   ]
  },
  {
   "cell_type": "markdown",
   "id": "alien-philippines",
   "metadata": {},
   "source": [
    "#### Your Findings for Task 5\n",
    "\n",
    "(Click into this cell to enter your answer here)"
   ]
  },
  {
   "cell_type": "markdown",
   "id": "gross-world",
   "metadata": {},
   "source": [
    "### Task 6: Compare Baltimore City and Los Angeles County\n",
    "\n",
    "Compare emissions from motor vehicle sources in Baltimore City with emissions from motor vehicle sources in **_Los Angeles County_**, California (`fips == \"06037\"`). Which city has seen greater changes over time in motor vehicle emissions? Consider both the overall _amount_ of change **AND** the _**percentage**_ of change.  Use one or more plots to illustrate.\n",
    "\n",
    "Use the cell(s) below to create the plot(s) described. Be sure to run the cell(s) to display all of your results."
   ]
  },
  {
   "cell_type": "code",
   "execution_count": null,
   "id": "bibliographic-collapse",
   "metadata": {},
   "outputs": [],
   "source": [
    "#Your solution to Task 6\n"
   ]
  },
  {
   "cell_type": "markdown",
   "id": "verbal-blood",
   "metadata": {},
   "source": [
    "#### Your Findings for Task 6\n",
    "\n",
    "(Click into this cell to enter your answer here)"
   ]
  }
 ],
 "metadata": {
  "kernelspec": {
   "display_name": "R",
   "language": "R",
   "name": "ir"
  },
  "language_info": {
   "codemirror_mode": "r",
   "file_extension": ".r",
   "mimetype": "text/x-r-source",
   "name": "R",
   "pygments_lexer": "r",
   "version": "4.0.3"
  }
 },
 "nbformat": 4,
 "nbformat_minor": 5
}
