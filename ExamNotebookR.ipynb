{
 "cells": [
  {
   "cell_type": "markdown",
   "id": "ethical-netherlands",
   "metadata": {},
   "source": [
    "# MATH 3345 Final Exam Notebook: R\n",
    "\n",
    "Your final exam score is made up of 3 components:\n",
    "- **D2L Quiz** on the R tasks in this notebook: 50% of exam score\n",
    "- Python notebook tasks: 20% of exam score\n",
    "- In-class test: 30% of exam score\n",
    "\n",
    "#### NOTE: All credit for your work in this notebook will be based on your answers to the D2L Quiz questions.\n",
    "##### You will not submit this notebook."
   ]
  },
  {
   "cell_type": "markdown",
   "id": "exact-coral",
   "metadata": {},
   "source": [
    "### Set Up \n",
    "\n",
    "Load the packages needed for these tasks.\n",
    "\n",
    "**NOTE:** _Only run the 'install.packages' steps below if the ```library``` command to load the specified package generates an error message._"
   ]
  },
  {
   "cell_type": "code",
   "execution_count": null,
   "id": "green-whole",
   "metadata": {},
   "outputs": [],
   "source": [
    "#Remove the comment symbol on the line below, run the line ONE time, then replace the comment symbol\n",
    "#install.packages(\"dplyr\")"
   ]
  },
  {
   "cell_type": "code",
   "execution_count": null,
   "id": "portuguese-stopping",
   "metadata": {},
   "outputs": [],
   "source": [
    "library(dplyr)"
   ]
  },
  {
   "cell_type": "code",
   "execution_count": null,
   "id": "imposed-argument",
   "metadata": {},
   "outputs": [],
   "source": [
    "#Remove the comment symbol on the line below, run the line ONE time, then replace the comment symbol\n",
    "#install.packages(\"stringr\")"
   ]
  },
  {
   "cell_type": "code",
   "execution_count": null,
   "id": "going-difference",
   "metadata": {},
   "outputs": [],
   "source": [
    "library(stringr)\n"
   ]
  },
  {
   "cell_type": "code",
   "execution_count": null,
   "id": "solar-regulation",
   "metadata": {},
   "outputs": [],
   "source": [
    "#Remove the comment symbol on the line below, run the line ONE time, then replace the comment symbol\n",
    "#install.packages(\"tidyr\")"
   ]
  },
  {
   "cell_type": "code",
   "execution_count": null,
   "id": "urban-resource",
   "metadata": {},
   "outputs": [],
   "source": [
    "library(tidyr)\n"
   ]
  },
  {
   "cell_type": "code",
   "execution_count": null,
   "id": "conventional-noise",
   "metadata": {},
   "outputs": [],
   "source": [
    "#Remove the comment symbol on the line below, run the line ONE time, then replace the comment symbol\n",
    "#install.packages(\"ggplot2\")"
   ]
  },
  {
   "cell_type": "code",
   "execution_count": null,
   "id": "martial-typing",
   "metadata": {},
   "outputs": [],
   "source": [
    "library(ggplot2)\n"
   ]
  },
  {
   "cell_type": "markdown",
   "id": "quality-gentleman",
   "metadata": {},
   "source": [
    "### Load Data Set\n",
    "The file loaded below is a more condensed version of the ```babynames``` data set in the **babynames** library. (One column has been removed to save space, but the rows are all present and are otherwise the same.) Having this data set stored locally also prevents you from having to load the library, which sometimes does not load successfully.\n",
    "\n",
    "The data set provides the names given to babies in the U.S. from 1880 to 2017, with details on birth sex and the number of babies who were given the name.\n",
    "\n",
    "**For all tasks, you may assume that if 2 names are spelled differently, they are considered different names, even if they are pronounced the same.** For instance \"Lynn\" and \"Lynne\" should be treated as two different names."
   ]
  },
  {
   "cell_type": "code",
   "execution_count": null,
   "id": "electronic-driver",
   "metadata": {},
   "outputs": [],
   "source": [
    "df_names <- read.csv(\"Data/baby_names.csv\")"
   ]
  },
  {
   "cell_type": "code",
   "execution_count": null,
   "id": "personal-portugal",
   "metadata": {},
   "outputs": [],
   "source": [
    "head(df_names)"
   ]
  },
  {
   "cell_type": "markdown",
   "id": "fifty-inflation",
   "metadata": {},
   "source": [
    "## Tasks\n",
    "\n",
    "##### After completing each task, remember to enter your answer into the associated question in the D2L Quiz."
   ]
  },
  {
   "cell_type": "markdown",
   "id": "documented-nation",
   "metadata": {},
   "source": [
    "### Task 1\n",
    "\n",
    "Create a dataframe containing each different female name, with 2 additional columns: \n",
    "- The total number of **years** the name was used\n",
    "- The total number of **times** the name was given to a baby, _regardless_ of year\n",
    "\n",
    "Call this dataframe ```df_females``` and _**use it for the next several tasks.**_\n",
    "\n",
    "#### Associated D2L Quiz Question:\n",
    "- _How many rows are in the ```df_females``` dataframe?_"
   ]
  },
  {
   "cell_type": "code",
   "execution_count": null,
   "id": "appointed-motorcycle",
   "metadata": {},
   "outputs": [],
   "source": [
    "# Task 1\n"
   ]
  },
  {
   "cell_type": "markdown",
   "id": "periodic-signature",
   "metadata": {},
   "source": [
    "### Task 2\n",
    "\n",
    "Use ```df_females``` to determine which female name was given to the most babies from 1880 to 2017. (This should represent a single spelling only; do not try to combine similar names.)\n",
    "\n",
    "#### Associated D2L Quiz Question:\n",
    "- _What female name was given to the most babies from 1880 to 2017?_"
   ]
  },
  {
   "cell_type": "code",
   "execution_count": null,
   "id": "interesting-medium",
   "metadata": {},
   "outputs": [],
   "source": [
    "# Task 2\n"
   ]
  },
  {
   "cell_type": "markdown",
   "id": "exotic-context",
   "metadata": {},
   "source": [
    "### Task 3\n",
    "\n",
    "Use ```df_females``` to determine in how many _**years**_ the name _Heather_ was used?\n",
    "\n",
    "#### Associated D2L Quiz Question:\n",
    "- _In how many years between 1880 and 2017 was the name 'Heather' used?_"
   ]
  },
  {
   "cell_type": "code",
   "execution_count": null,
   "id": "junior-alias",
   "metadata": {},
   "outputs": [],
   "source": [
    "# Task 3\n"
   ]
  },
  {
   "cell_type": "markdown",
   "id": "changed-philip",
   "metadata": {},
   "source": [
    "### Task 4\n",
    "\n",
    "Add a column to ```df_females``` representing the _**length**_ (number of characters) of each name.\n",
    "\n",
    "#### Associated D2L Quiz Question:\n",
    "- _What is the **average** (mean) length of all names in the ```df_females``` dataframe?_"
   ]
  },
  {
   "cell_type": "code",
   "execution_count": null,
   "id": "instrumental-classics",
   "metadata": {},
   "outputs": [],
   "source": [
    "# Task 4\n"
   ]
  },
  {
   "cell_type": "markdown",
   "id": "headed-kidney",
   "metadata": {},
   "source": [
    "### Task 5\n",
    "\n",
    "Using your result from Task 4, find the length of the longest female name that begins with the letter 'J'\n",
    "\n",
    "#### Associated D2L Quiz Question:\n",
    "- _What is the length of the longest female name beginning with the letter 'J'?_"
   ]
  },
  {
   "cell_type": "code",
   "execution_count": null,
   "id": "desirable-syracuse",
   "metadata": {},
   "outputs": [],
   "source": [
    "# Task 5\n"
   ]
  },
  {
   "cell_type": "markdown",
   "id": "geological-vacuum",
   "metadata": {},
   "source": [
    "### Task 6\n",
    "\n",
    "Using ```df_females```, find the number of female names that do NOT contain the letter 'E' (upper OR lower case).\n",
    "\n",
    "#### Associated D2L Quiz Question:\n",
    "- _How many female names do NOT contain the letter 'E' (upper OR lower case)?_"
   ]
  },
  {
   "cell_type": "code",
   "execution_count": null,
   "id": "packed-longer",
   "metadata": {},
   "outputs": [],
   "source": [
    "# Task 6\n"
   ]
  },
  {
   "cell_type": "markdown",
   "id": "logical-gallery",
   "metadata": {},
   "source": [
    "### Task 7\n",
    "\n",
    "Using ```df_females```, find the number of different female names that END with the letter 'h'.\n",
    "\n",
    "#### Associated D2L Quiz Question:\n",
    "- _How many female names END with the letter 'h'?_"
   ]
  },
  {
   "cell_type": "code",
   "execution_count": null,
   "id": "fuzzy-consent",
   "metadata": {},
   "outputs": [],
   "source": [
    "# Task 7\n"
   ]
  },
  {
   "cell_type": "markdown",
   "id": "textile-prior",
   "metadata": {},
   "source": [
    "### Task 8\n",
    "\n",
    "We now return to the _**original**_ dataframe, ```df_names```. Using this dataframe, find the year when the **_female_** name 'Joy' was used the most.\n",
    "\n",
    "#### Associated D2L Quiz Question:\n",
    "- _In what year was the **_female_** name 'Joy' used the most?_"
   ]
  },
  {
   "cell_type": "code",
   "execution_count": null,
   "id": "correct-local",
   "metadata": {},
   "outputs": [],
   "source": [
    "# Task 8\n"
   ]
  },
  {
   "cell_type": "markdown",
   "id": "beginning-color",
   "metadata": {},
   "source": [
    "### Task 9\n",
    "\n",
    "From ```df_names```, create a dataframe with only the records representing the names 'Elizabeth' and 'Jane' as **_female_** names. Using this dataframe, create a plot showing the number of times each name was used each year from 1880 to 2017.\n",
    "\n",
    "#### Associated D2L Quiz Question:\n",
    "- _Upload/paste your plot showing the number of times each name (Elizabeth, Jane) was used each year from 1880 to 2017._ (**Note this item will be manually scored.**)"
   ]
  },
  {
   "cell_type": "code",
   "execution_count": null,
   "id": "associate-organization",
   "metadata": {},
   "outputs": [],
   "source": [
    "# Task 9\n"
   ]
  },
  {
   "cell_type": "markdown",
   "id": "precise-seating",
   "metadata": {},
   "source": [
    "### Task 10\n",
    "\n",
    "From ```df_names```, create a dataframe with **only** the records representing the names 'Adona' and 'Zila'. From this result, create a _**wide format**_ dataframe where all data for each name is contained in a single **row**, with columns for each _**year**_.  For example, if Adona was used 12 times in 1910, then the column called '1910' should have the value 12 on the row for Adona.  Note that only years in which at least one of the names was used should appear as columns in your result. \n",
    "\n",
    "\n",
    "\n",
    "#### Associated D2L Quiz Questions:\n",
    "- _How many different **years** are represented in the columns of the wide format dataframe?_\n",
    "- _How many year columns have data for **both** names?_\n",
    "- _How many cells in the table have NA as the value?_\n",
    "- _Paste a copy of your wide format table._ (**Note this item will be manually scored.**)\n",
    "- _Paste the code used to create your wide format table._ (**Note this item will be manually scored.**)"
   ]
  },
  {
   "cell_type": "code",
   "execution_count": null,
   "id": "lovely-paradise",
   "metadata": {},
   "outputs": [],
   "source": [
    "# Task 10\n"
   ]
  }
 ],
 "metadata": {
  "kernelspec": {
   "display_name": "R",
   "language": "R",
   "name": "ir"
  },
  "language_info": {
   "codemirror_mode": "r",
   "file_extension": ".r",
   "mimetype": "text/x-r-source",
   "name": "R",
   "pygments_lexer": "r",
   "version": "4.0.3"
  }
 },
 "nbformat": 4,
 "nbformat_minor": 5
}
