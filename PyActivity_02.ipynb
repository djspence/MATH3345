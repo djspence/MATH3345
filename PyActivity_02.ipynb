{
 "cells": [
  {
   "cell_type": "markdown",
   "metadata": {
    "nbgrader": {
     "grade": false,
     "grade_id": "cell-166d0b0bd7d2633f",
     "locked": true,
     "schema_version": 1,
     "solution": false
    }
   },
   "source": [
    "# Python Activity\n",
    "## Introduction to NumPy\n",
    "\n",
    "This notebook is designed to acquaint you with the NumPy module in Python. Refer to the content in Chapter 4 of _**Python for Data Analysis (3rd Ed.)**_ for examples of the type of code you need for these exercises.\n",
    "\n",
    "For EACH exercise:\n",
    "\n",
    "1. Read the description of the task\n",
    "2. Type your solution in the code cell marked ```### YOUR CODE HERE```\n",
    "3. Run your code (fix any issues and re-run if needed)\n",
    "4. Run the TEST CELL that FOLLOWS your code cell. **_DO NOT MODIFY THE TEST CELL._**\n",
    "\n",
    "The output from the TEST CELL will indicate whether you have performed the task correctly. If the result does not say _`Passed!`_ then you should return to your code cell and revise your code."
   ]
  },
  {
   "cell_type": "markdown",
   "metadata": {
    "nbgrader": {
     "grade": false,
     "grade_id": "cell-92648f77b2c73f26",
     "locked": true,
     "schema_version": 1,
     "solution": false
    }
   },
   "source": [
    "### What is NumPy?\n",
    "\n",
    "[Numpy](http://www.numpy.org/) is a Python library that provides fast, efficient functions and commands for working with multidimensional arrays. NumPy is well-suited to implementing numerical linear algebra algorithms; for storing and operating on strictly numerical data, it is often much faster than Python's native data types (such as list and dictionary).\n",
    "\n",
    "Some of the material in this activity is adapted from the more extensive tutorial found [here](http://www.scipy-lectures.org/intro/numpy/index.html)"
   ]
  },
  {
   "cell_type": "markdown",
   "metadata": {},
   "source": [
    "### Load NumPy and Confirm Version\n"
   ]
  },
  {
   "cell_type": "code",
   "execution_count": null,
   "metadata": {},
   "outputs": [],
   "source": [
    "import numpy as np\n",
    "print(np.__version__)"
   ]
  },
  {
   "cell_type": "markdown",
   "metadata": {},
   "source": [
    "##### Naming the Library \n",
    "\n",
    "By \"naming\" NumPy **`as np`** (see above) we can identify and use anything in the NumPy library with the prefix `np.` as shown in the examples below."
   ]
  },
  {
   "cell_type": "markdown",
   "metadata": {},
   "source": [
    "### Creating a NumPy Array\n",
    "\n",
    "We start by creating a simple array using NumPy's `array` data type. This is a _one-dimensional_ array."
   ]
  },
  {
   "cell_type": "code",
   "execution_count": null,
   "metadata": {},
   "outputs": [],
   "source": [
    "a = np.array([2,4,6,8,10])\n",
    "print(a)"
   ]
  },
  {
   "cell_type": "markdown",
   "metadata": {},
   "source": [
    "### Creating a Two-Dimensional Array\n",
    "\n",
    "Numpy supports multidimensional arrays. To have more than one dimension, nest each new dimension within a list when creating the array. An example is shown below."
   ]
  },
  {
   "cell_type": "code",
   "execution_count": null,
   "metadata": {},
   "outputs": [],
   "source": [
    "# Create a two-dimensional array with 3 rows and 4 columns (called a 3 x 4 array)\n",
    "B = np.array([[0, 1, 2, 3],\n",
    "              [4, 5, 6, 7],\n",
    "              [8, 9, 10, 11]])\n",
    "\n",
    "print(B)"
   ]
  },
  {
   "cell_type": "markdown",
   "metadata": {},
   "source": [
    "#### Properties of an Array\n",
    "\n",
    "A NumPy array has several _properties_ including `ndim`, `shape`, and `len`. \n",
    "\n",
    "Try the code cell below and see if you can determine the meaning of each property."
   ]
  },
  {
   "cell_type": "code",
   "execution_count": null,
   "metadata": {},
   "outputs": [],
   "source": [
    "print(B.ndim)    # What does this do?\n",
    "print(B.shape)   # What does this do?\n",
    "print(len (B))   # What does this do?"
   ]
  },
  {
   "cell_type": "markdown",
   "metadata": {},
   "source": [
    "### NumPy Functions to Create Specific Matrices\n",
    "\n",
    "Certain well-defined matrices can be created easily in Python (as 2-dimensional arrays). See examples below."
   ]
  },
  {
   "cell_type": "code",
   "execution_count": null,
   "metadata": {},
   "outputs": [],
   "source": [
    "# All elements set to 0\n",
    "print(np.zeros((3, 4)))"
   ]
  },
  {
   "cell_type": "code",
   "execution_count": null,
   "metadata": {},
   "outputs": [],
   "source": [
    "# All elements set to 1\n",
    "print(np.ones((4, 3)))"
   ]
  },
  {
   "cell_type": "code",
   "execution_count": null,
   "metadata": {},
   "outputs": [],
   "source": [
    "# The identity matrix, I\n",
    "print(np.eye(4))"
   ]
  },
  {
   "cell_type": "code",
   "execution_count": null,
   "metadata": {},
   "outputs": [],
   "source": [
    "# A diagonal matrix\n",
    "print(np.diag([3, 4, 5]))"
   ]
  },
  {
   "cell_type": "markdown",
   "metadata": {},
   "source": [
    "### Creating an Array with More Dimensions\n",
    "\n",
    "The next example shows a nice way to create an array with more than 2 dimensions. It is a useful method because these higher dimension arrays are more difficult to visualize. Pay close attention to the `ndim`, `shape`, and `len` properties to be sure you understand what is going on."
   ]
  },
  {
   "cell_type": "code",
   "execution_count": null,
   "metadata": {},
   "outputs": [],
   "source": [
    "C1 = [[0, 1, 2, 3],\n",
    "      [4, 5, 6, 7],\n",
    "      [8, 9, 10, 11]]\n",
    "\n",
    "C2 = [[12, 13, 14, 15],\n",
    "      [16, 17, 18, 19],\n",
    "      [20, 21, 22, 23]]\n",
    "\n",
    "C = np.array([C1, C2])\n",
    "\n",
    "print(C)\n",
    "print(C.ndim)\n",
    "print(C.shape)\n",
    "print(len (C))"
   ]
  },
  {
   "cell_type": "markdown",
   "metadata": {},
   "source": [
    "### Indexing and Slicing\n",
    "\n",
    "Recall that **_index values start at zero_**, so an array with 3 elements will have index values 0, 1, and 2.\n",
    "\n",
    "Study the examples below for a better understanding of how indexing and slicing work in Python. These examples use the 3-dimensional array $C$ that was created above.\n",
    "\n",
    "> **Suggestion:** BEFORE running each cell, try to predict the output. Then run the cell. If your prediction was correct, great! If not, spend some time making sure you understand how the indexing and slicing produced the output that was given."
   ]
  },
  {
   "cell_type": "markdown",
   "metadata": {},
   "source": [
    "##### Index/Slice Example 1"
   ]
  },
  {
   "cell_type": "code",
   "execution_count": null,
   "metadata": {},
   "outputs": [],
   "source": [
    "print (C[1,2,0])"
   ]
  },
  {
   "cell_type": "markdown",
   "metadata": {},
   "source": [
    "##### Index/Slice Example 2"
   ]
  },
  {
   "cell_type": "code",
   "execution_count": null,
   "metadata": {},
   "outputs": [],
   "source": [
    "print (C[0, 2, :])"
   ]
  },
  {
   "cell_type": "markdown",
   "metadata": {},
   "source": [
    "##### Index/Slice Example 3"
   ]
  },
  {
   "cell_type": "code",
   "execution_count": null,
   "metadata": {},
   "outputs": [],
   "source": [
    "print (C[1, :, 2])"
   ]
  },
  {
   "cell_type": "markdown",
   "metadata": {},
   "source": [
    "##### Index/Slice Example 4"
   ]
  },
  {
   "cell_type": "code",
   "execution_count": null,
   "metadata": {},
   "outputs": [],
   "source": [
    "print (C[:, :, 3])"
   ]
  },
  {
   "cell_type": "markdown",
   "metadata": {},
   "source": [
    "##### Index/Slice Example 5"
   ]
  },
  {
   "cell_type": "code",
   "execution_count": null,
   "metadata": {},
   "outputs": [],
   "source": [
    "print (C[1, -1, -2])"
   ]
  },
  {
   "cell_type": "markdown",
   "metadata": {},
   "source": [
    "##### Index/Slice Example 6"
   ]
  },
  {
   "cell_type": "code",
   "execution_count": null,
   "metadata": {},
   "outputs": [],
   "source": [
    "print (C[1, 0, ::-1])"
   ]
  },
  {
   "cell_type": "markdown",
   "metadata": {},
   "source": [
    "##### Index/Slice Example 7"
   ]
  },
  {
   "cell_type": "code",
   "execution_count": null,
   "metadata": {},
   "outputs": [],
   "source": [
    "print (C[1, 1, 1::2])"
   ]
  },
  {
   "cell_type": "markdown",
   "metadata": {},
   "source": [
    "### Exercises"
   ]
  },
  {
   "attachments": {},
   "cell_type": "markdown",
   "metadata": {
    "nbgrader": {
     "grade": false,
     "grade_id": "cell-2de1352e57946ac5",
     "locked": true,
     "schema_version": 1,
     "solution": false
    }
   },
   "source": [
    "**Exercise 1.** Consider the following $6 \\times 6$ matrix, which has 4 different subsets highlighted."
   ]
  },
  {
   "attachments": {
    "python_slicing_matrix.png": {
     "image/png": "[encoded data removed]"
    }
   },
   "cell_type": "markdown",
   "metadata": {
    "nbgrader": {
     "grade": false,
     "grade_id": "cell-2de1352e57946ac5",
     "locked": true,
     "schema_version": 1,
     "solution": false
    }
   },
   "source": [
    "![python_slicing_matrix.png](attachment:python_slicing_matrix.png)\n",
    "\n",
    "For each subset illustrated above, write an indexing or slicing expression that extracts the subset. Store the result of each slice into `Z_green`, `Z_red`, `Z_gold`, and `Z_purple`."
   ]
  },
  {
   "cell_type": "code",
   "execution_count": null,
   "metadata": {
    "nbgrader": {
     "grade": false,
     "grade_id": "x_float",
     "locked": false,
     "schema_version": 1,
     "solution": true
    }
   },
   "outputs": [],
   "source": [
    "Z= np.array([[0,1,2,3,4,5],[10,11,12,13,14,15],[20,21,22,23,24,25],[30,31,32,33,34,35],[40,41,42,43,44,45],[50,51,52,53,54,55]])\n",
    "\n",
    "# Construct `Z_green`, `Z_red`, `Z_gold`, and `Z_purple`:\n",
    "###\n",
    "### YOUR CODE HERE\n",
    "###"
   ]
  },
  {
   "cell_type": "code",
   "execution_count": null,
   "metadata": {
    "nbgrader": {
     "grade": true,
     "grade_id": "x_float_test",
     "locked": true,
     "points": 1,
     "schema_version": 1,
     "solution": false
    }
   },
   "outputs": [],
   "source": [
    "# Test cell: `check_Z`\n",
    "\n",
    "print(\"==> Z:\\n\", Z)\n",
    "assert (Z == np.array([np.arange(0, 6),\n",
    "                       np.arange(10, 16),\n",
    "                       np.arange(20, 26),\n",
    "                       np.arange(30, 36),\n",
    "                       np.arange(40, 46),\n",
    "                       np.arange(50, 56)])).all()\n",
    "\n",
    "print(\"\\n==> Gold slice:\\n\", Z_gold)\n",
    "assert (Z_gold == np.array ([3, 4])).all()\n",
    "\n",
    "print(\"\\n==> Red slice:\\n\", Z_red)\n",
    "assert (Z_red == np.array ([2, 12, 22, 32, 42, 52])).all()\n",
    "\n",
    "print(\"\\n==> Purple slice:\\n\", Z_purple)\n",
    "assert (Z_purple == np.array ([[44, 45], [54, 55]])).all()\n",
    "\n",
    "print(\"\\n==> Green slice:\\n\", Z_green)\n",
    "assert (Z_green == np.array ([[20, 22, 24], [40, 42, 44]])).all()\n",
    "\n",
    "print(\"\\n(Passed!)\")"
   ]
  },
  {
   "cell_type": "markdown",
   "metadata": {},
   "source": [
    "#### Common Functions\n",
    "\n",
    "Several functions can be applied to an array. A few are shown below. Notice that some produce another array of the same size, whereas others are _**aggregate**_ functions.\n"
   ]
  },
  {
   "cell_type": "code",
   "execution_count": null,
   "metadata": {},
   "outputs": [],
   "source": [
    "D = np.array([[4, -1, 12, 6],\n",
    "              [-5, 7, 2, 0],\n",
    "              [3, 9, 8, -15]])\n",
    "print(D)"
   ]
  },
  {
   "cell_type": "markdown",
   "metadata": {},
   "source": [
    "##### Absolute Value"
   ]
  },
  {
   "cell_type": "code",
   "execution_count": null,
   "metadata": {},
   "outputs": [],
   "source": [
    "np.abs(D)"
   ]
  },
  {
   "cell_type": "markdown",
   "metadata": {},
   "source": [
    "##### Trig Functions\n",
    "The sine function is just one of the trig functions available."
   ]
  },
  {
   "cell_type": "code",
   "execution_count": null,
   "metadata": {},
   "outputs": [],
   "source": [
    "np.sin(D)"
   ]
  },
  {
   "cell_type": "markdown",
   "metadata": {},
   "source": [
    "##### Log and Exponential Functions\n",
    "* The `exp` function returns $e^x$.\n",
    "* The `log` function on our matrix $D$ would give some undefined results for 0 and negative values."
   ]
  },
  {
   "cell_type": "code",
   "execution_count": null,
   "metadata": {},
   "outputs": [],
   "source": [
    "np.exp(D)"
   ]
  },
  {
   "cell_type": "markdown",
   "metadata": {},
   "source": [
    "#### Aggregate Functions"
   ]
  },
  {
   "cell_type": "code",
   "execution_count": null,
   "metadata": {},
   "outputs": [],
   "source": [
    "np.mean(D)"
   ]
  },
  {
   "cell_type": "code",
   "execution_count": null,
   "metadata": {},
   "outputs": [],
   "source": [
    "np.sum(D)"
   ]
  },
  {
   "cell_type": "code",
   "execution_count": null,
   "metadata": {},
   "outputs": [],
   "source": [
    "np.max(D)"
   ]
  },
  {
   "cell_type": "code",
   "execution_count": null,
   "metadata": {},
   "outputs": [],
   "source": [
    "np.min(D)"
   ]
  },
  {
   "cell_type": "markdown",
   "metadata": {},
   "source": [
    "#### Using Aggregate Functions on a Specific Dimension ('Axis')\n",
    "\n",
    "Recall the shape of our $D$ matrix:"
   ]
  },
  {
   "cell_type": "code",
   "execution_count": null,
   "metadata": {},
   "outputs": [],
   "source": [
    "print(D.shape)"
   ]
  },
  {
   "cell_type": "markdown",
   "metadata": {},
   "source": [
    "##### How the Shape Relates to Each Axis\n",
    "* The first value (3) tells how many rows are in the matrix\n",
    "* The second value (4) tells how many columns are in matrix\n",
    "* The first axis (indexed at 0) moves across the rows\n",
    "* The second axis (indexed at 1) moves across the columns\n",
    "\n",
    "For instance, in the first example below, a mean is given for each _**column**_ because we use the values _**in each row**_ of that column. The first column of $D$ has values 4, -5, and 3 (on rows 1, 2, and 3, respectively).  The mean of those values is $\\frac{2}{3} \\approx 0.667$.\n",
    "\n",
    "Similarly, in the second example, we are taking the mean of values in each column of a given row; the 4 values in the first row have a mean of 5.25."
   ]
  },
  {
   "cell_type": "code",
   "execution_count": null,
   "metadata": {},
   "outputs": [],
   "source": [
    "np.mean(D,axis=0)"
   ]
  },
  {
   "cell_type": "code",
   "execution_count": null,
   "metadata": {},
   "outputs": [],
   "source": [
    "np.mean(D,axis=1)"
   ]
  },
  {
   "cell_type": "markdown",
   "metadata": {},
   "source": [
    "**Exercise 2.**  Using matrix $D$ defined above, create an array of 3 values by computing the sum of all values in each column. Store the result into a variable called `my_sums`. Then compute the mean of the 3 sums, storing the result into `mean_sum`. "
   ]
  },
  {
   "cell_type": "code",
   "execution_count": null,
   "metadata": {
    "nbgrader": {
     "grade": false,
     "grade_id": "cell-a117d6495f42b850",
     "locked": false,
     "schema_version": 1,
     "solution": true
    }
   },
   "outputs": [],
   "source": [
    "#\n",
    "# YOUR CODE HERE\n",
    "#\n"
   ]
  },
  {
   "cell_type": "code",
   "execution_count": null,
   "metadata": {
    "nbgrader": {
     "grade": true,
     "grade_id": "report_exam_avg_test",
     "locked": true,
     "points": 1,
     "schema_version": 1,
     "solution": false
    }
   },
   "outputs": [],
   "source": [
    "# Test cell: mean sums\n",
    "\n",
    "def is_number(x):\n",
    "    from numbers import Number\n",
    "    return isinstance(x, Number)\n",
    "\n",
    "assert my_sums.shape == (3,)\n",
    "assert np.sum(my_sums)==30\n",
    "\n",
    "assert is_number(mean_sum) \n",
    "assert mean_sum == 10\n",
    "\n",
    "print(\"\\n(Passed!)\")"
   ]
  },
  {
   "cell_type": "markdown",
   "metadata": {},
   "source": [
    "#### READY TO SUBMIT?\n",
    "You've reached the end of this notebook. Be sure to restart and run all cells again to **make sure all cells are working** when they run in order. Then submit your **completed** HTML to the submission  folder for this activity."
   ]
  }
 ],
 "metadata": {
  "celltoolbar": "Create Assignment",
  "kernelspec": {
   "display_name": "Python 3",
   "language": "python",
   "name": "python3"
  },
  "language_info": {
   "codemirror_mode": {
    "name": "ipython",
    "version": 3
   },
   "file_extension": ".py",
   "mimetype": "text/x-python",
   "name": "python",
   "nbconvert_exporter": "python",
   "pygments_lexer": "ipython3",
   "version": "3.8.6"
  }
 },
 "nbformat": 4,
 "nbformat_minor": 2
}
