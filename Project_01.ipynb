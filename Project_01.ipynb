{
 "cells": [
  {
   "cell_type": "markdown",
   "id": "ethical-netherlands",
   "metadata": {},
   "source": [
    "# MATH 3345 Project 1\n",
    "\n",
    "Perform the tasks below.  Your final result should be an .HTML file of this notebook, with all code cells run and all answers provided in a markdown cell where instructed.\n",
    "\n",
    "As a guide, remember to consult the examples and lesson notebooks from Chapters 1-5 of _**R for Data Science (2nd Ed.)**_\n",
    "\n",
    "## Background\n",
    "\n",
    "The file you will work with contains total numbers of men and women in the 4 main branches of the U.S. Armed Services. Service members have the following attributes:\n",
    "\n",
    "#### Branch of Service\n",
    "\n",
    "- Air Force\n",
    "- Army\n",
    "- Marines\n",
    "- Navy\n",
    "\n",
    "#### Rank Type\n",
    "\n",
    "- Enlisted\n",
    "- Officer\n",
    "- Warrant \n",
    "\n",
    "#### Pay Grade\n",
    "Pay grade is an alphanumeric code (e.g., E-4 or W-2)\n",
    "\n",
    "#### Marital Status\n",
    "\n",
    "- Single with no children\n",
    "- Single with children\n",
    "- Married with military spouse\n",
    "- Married with civilian spouse\n",
    "\n",
    "#### Gender\n",
    "- Female\n",
    "- Male\n",
    "\n",
    "The file gives the total number of people in each of several categories.  Some columns are combinations of the above categories.\n"
   ]
  },
  {
   "cell_type": "markdown",
   "id": "exact-coral",
   "metadata": {},
   "source": [
    "### Set Up \n",
    "\n",
    "You may load **tidyverse** or just load the **dplyr**, **tidyr**, and **ggplot2** packages.\n",
    "\n",
    "**NOTE:** _Only run the 'install.packages' steps below if the ```library``` commands in the 4th code cell generate an error message._"
   ]
  },
  {
   "cell_type": "code",
   "execution_count": null,
   "id": "green-whole",
   "metadata": {},
   "outputs": [],
   "source": [
    "#Remove the comment symbol on the line below, run the line ONE time, then replace the comment symbol\n",
    "#install.packages(\"dplyr\")"
   ]
  },
  {
   "cell_type": "code",
   "execution_count": null,
   "id": "mighty-cassette",
   "metadata": {},
   "outputs": [],
   "source": [
    "#Remove the comment symbol on the line below, run the line ONE time, then replace the comment symbol\n",
    "#install.packages(\"tidyr\")"
   ]
  },
  {
   "cell_type": "code",
   "execution_count": null,
   "id": "radical-lobby",
   "metadata": {},
   "outputs": [],
   "source": [
    "#Remove the comment symbol on the line below, run the line ONE time, then replace the comment symbol\n",
    "#install.packages(\"ggplot2\")"
   ]
  },
  {
   "cell_type": "code",
   "execution_count": null,
   "id": "portuguese-stopping",
   "metadata": {},
   "outputs": [],
   "source": [
    "library(dplyr)\n",
    "library(tidyr)\n",
    "library(ggplot2)"
   ]
  },
  {
   "cell_type": "markdown",
   "id": "fifty-inflation",
   "metadata": {},
   "source": [
    "### Data Set\n",
    "\n",
    "The data set is loaded below. If you are using RStudio, you may need to copy the data file from D2L and change the path in the code below to load the data."
   ]
  },
  {
   "cell_type": "code",
   "execution_count": null,
   "id": "theoretical-israel",
   "metadata": {},
   "outputs": [],
   "source": [
    "active_duty <- read.csv(\"Data/ActiveDuty_MaritalStatus_All.csv\")\n",
    "head(active_duty)"
   ]
  },
  {
   "cell_type": "markdown",
   "id": "logical-banks",
   "metadata": {},
   "source": [
    "### Task 1: Tidy Data with Full DataFrame\n",
    "\n",
    "Create a new dataframe called ```tidy_all``` that contains a tidy version of the full ```active_duty``` data set. A single row will be uniquely identified by a branch, rank type, pay grade, marital status, and gender. There will be one column for each of these 5 variables, and a 6th column containing a count of how many individuals are in that category.\n",
    "\n",
    "Use the cell below to create the dataframe described. Be sure to run the next 2 cells to show your results."
   ]
  },
  {
   "cell_type": "code",
   "execution_count": null,
   "id": "killing-fortune",
   "metadata": {},
   "outputs": [],
   "source": [
    "#Your solution to Task 1\n"
   ]
  },
  {
   "cell_type": "code",
   "execution_count": null,
   "id": "short-target",
   "metadata": {},
   "outputs": [],
   "source": [
    "glimpse(tidy_all)"
   ]
  },
  {
   "cell_type": "code",
   "execution_count": null,
   "id": "selective-tribute",
   "metadata": {},
   "outputs": [],
   "source": [
    "head(tidy_all)"
   ]
  },
  {
   "cell_type": "markdown",
   "id": "documented-nation",
   "metadata": {},
   "source": [
    "### Task 2: Summary Data from Your Previous Result\n",
    "\n",
    "Use the ```tidy_all``` dataframe you created to create and display the following summarized dataframes."
   ]
  },
  {
   "cell_type": "markdown",
   "id": "located-brisbane",
   "metadata": {},
   "source": [
    "#### Total by Gender\n",
    "\n",
    "Use the most appropriate commands in **dplyr** to create and display a table that shows each gender and the total number of active duty military in each group (regardless of branch, rank, etc.)  _Note that your result should be a dataframe with only 2 rows._"
   ]
  },
  {
   "cell_type": "code",
   "execution_count": null,
   "id": "dramatic-exchange",
   "metadata": {},
   "outputs": [],
   "source": [
    "#Total by Gender"
   ]
  },
  {
   "cell_type": "markdown",
   "id": "verified-organization",
   "metadata": {},
   "source": [
    "#### Total by Branch\n",
    "\n",
    "Use the most appropriate commands in **dplyr** to create and display a table that shows each military branch and the total number of active duty military in that branch (regardless of gender, rank, etc.)  _Note that your result should be a dataframe with only 4 rows._"
   ]
  },
  {
   "cell_type": "code",
   "execution_count": null,
   "id": "challenging-virgin",
   "metadata": {},
   "outputs": [],
   "source": [
    "#Total by Branch"
   ]
  },
  {
   "cell_type": "markdown",
   "id": "exempt-arnold",
   "metadata": {},
   "source": [
    "#### Total Officers by Gender\n",
    "\n",
    "Use the most appropriate commands in **dplyr** to create and display a table that restricts data only to those active military who are officers, and shows each gender and the total number of officers of that gender.  _Note that your result should be a dataframe with only 2 rows._"
   ]
  },
  {
   "cell_type": "code",
   "execution_count": null,
   "id": "handy-witch",
   "metadata": {},
   "outputs": [],
   "source": [
    "#Total Officers by Gender"
   ]
  },
  {
   "cell_type": "markdown",
   "id": "descending-director",
   "metadata": {},
   "source": [
    "#### Total by Branch and Rank Type\n",
    "\n",
    "Use the most appropriate commands in **dplyr** to create and display a table that shows each branch (e.g., Army) and rank type (e.g., Enlisted) and the total number of active duty military in each of those groups (regardless of gender or pay grade).  "
   ]
  },
  {
   "cell_type": "code",
   "execution_count": null,
   "id": "appointed-motorcycle",
   "metadata": {},
   "outputs": [],
   "source": [
    "#Total by Branch and Rank Type"
   ]
  },
  {
   "cell_type": "markdown",
   "id": "blank-orchestra",
   "metadata": {},
   "source": [
    "#### Total by Branch, Gender, and Rank Type\n",
    "\n",
    "Use the most appropriate commands in **dplyr** to create and display a table that shows each branch (e.g., Army), gender, and rank type (e.g., Enlisted) and the total number of active duty military in each of those groups (regardless of pay grade).  "
   ]
  },
  {
   "cell_type": "code",
   "execution_count": null,
   "id": "public-formation",
   "metadata": {},
   "outputs": [],
   "source": [
    "#Total by Branch and Rank Type"
   ]
  },
  {
   "cell_type": "markdown",
   "id": "musical-middle",
   "metadata": {},
   "source": [
    "#### Total by Branch and Pay Grade, SORTED from highest to lowest\n",
    "\n",
    "Use the most appropriate commands in **dplyr** to create and display a table that shows, for EACH pay grade and branch, the total number of members, SORTED from highest number of members to lowest."
   ]
  },
  {
   "cell_type": "code",
   "execution_count": null,
   "id": "heard-packaging",
   "metadata": {},
   "outputs": [],
   "source": [
    "#Total by Branch and Pay Grade, sorted highest to lowest"
   ]
  },
  {
   "cell_type": "markdown",
   "id": "horizontal-chosen",
   "metadata": {},
   "source": [
    "### Task 3: Tidy Table with Only Single Members\n",
    "\n",
    "Create a _subset_ of your previous data set that only contains single members. Call the subset df_single; the columns of df_single should be branch, rank type, pay grade, gender, and a column indicating whether or not the members have children. Notice that this will require you to do some additional tidying steps.  Be sure to run the cells after your work to display the result.\n",
    "\n",
    "_**HINT: You may want to change some column names to make the data tidying steps even easier. Try looking this up on Google.**_"
   ]
  },
  {
   "cell_type": "code",
   "execution_count": null,
   "id": "owned-cleveland",
   "metadata": {},
   "outputs": [],
   "source": [
    "#Tidy Table with only single members"
   ]
  },
  {
   "cell_type": "code",
   "execution_count": null,
   "id": "recovered-northern",
   "metadata": {},
   "outputs": [],
   "source": [
    "glimpse(df_single)"
   ]
  },
  {
   "cell_type": "code",
   "execution_count": null,
   "id": "severe-grade",
   "metadata": {},
   "outputs": [],
   "source": [
    "head(df_single)"
   ]
  }
 ],
 "metadata": {
  "kernelspec": {
   "display_name": "R",
   "language": "R",
   "name": "ir"
  },
  "language_info": {
   "codemirror_mode": "r",
   "file_extension": ".r",
   "mimetype": "text/x-r-source",
   "name": "R",
   "pygments_lexer": "r",
   "version": "4.0.3"
  }
 },
 "nbformat": 4,
 "nbformat_minor": 5
}
