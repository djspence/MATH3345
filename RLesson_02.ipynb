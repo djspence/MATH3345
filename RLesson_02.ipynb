{
 "cells": [
  {
   "cell_type": "markdown",
   "id": "ethical-netherlands",
   "metadata": {},
   "source": [
    "# MATH 3345 R Lesson Notebook 2\n",
    "\n",
    "## Basic Data Transformation\n",
    "\n",
    "This notebook accompanies Chapter 3 of _**R for Data Science (2nd Ed.)**_"
   ]
  },
  {
   "cell_type": "markdown",
   "id": "exact-coral",
   "metadata": {},
   "source": [
    "### Set Up (Section 3.1.1)\n",
    "\n",
    "The textbook has you load tidyverse.  Another option is to load **dplyr** and **ggplot2**, which are the two main packages needed for these exercises."
   ]
  },
  {
   "cell_type": "code",
   "execution_count": null,
   "id": "green-whole",
   "metadata": {},
   "outputs": [],
   "source": [
    "#Remove the comment symbol on the line below, run the line ONE time, then replace the comment symbol\n",
    "#install.packages(\"dplyr\")"
   ]
  },
  {
   "cell_type": "code",
   "execution_count": null,
   "id": "radical-lobby",
   "metadata": {},
   "outputs": [],
   "source": [
    "#Remove the comment symbol on the line below, run the line ONE time, then replace the comment symbol\n",
    "#install.packages(\"ggplot2\")"
   ]
  },
  {
   "cell_type": "code",
   "execution_count": null,
   "id": "portuguese-stopping",
   "metadata": {},
   "outputs": [],
   "source": [
    "library(dplyr)\n",
    "library(ggplot2)"
   ]
  },
  {
   "cell_type": "code",
   "execution_count": null,
   "id": "external-internet",
   "metadata": {},
   "outputs": [],
   "source": [
    "#Run the line below only ONE time (remove/replace comment symbol)\n",
    "#install.packages(\"nycflights13\")"
   ]
  },
  {
   "cell_type": "code",
   "execution_count": null,
   "id": "individual-diagnosis",
   "metadata": {},
   "outputs": [],
   "source": [
    "library(nycflights13)"
   ]
  },
  {
   "cell_type": "markdown",
   "id": "logical-banks",
   "metadata": {},
   "source": [
    "### First Look at Data (Section 3.1.2)"
   ]
  },
  {
   "cell_type": "code",
   "execution_count": null,
   "id": "dramatic-exchange",
   "metadata": {},
   "outputs": [],
   "source": [
    "glimpse(flights)"
   ]
  },
  {
   "cell_type": "code",
   "execution_count": null,
   "id": "handy-witch",
   "metadata": {},
   "outputs": [],
   "source": [
    "head(flights,3)"
   ]
  },
  {
   "cell_type": "markdown",
   "id": "fifty-inflation",
   "metadata": {},
   "source": [
    "### Transforming Data\n",
    "\n",
    "Follow the steps for transforming data as shown in the next sections. Create the transformations shown in the text by typing the code given in each example of the sections indicated below. Insert a new code cell to carry out each example.\n",
    "\n",
    "To get the most out of these exercises, **_do NOT copy/paste the code from the online textbook._** Type it yourself so that you will become more familiar with how the commands work. "
   ]
  },
  {
   "cell_type": "markdown",
   "id": "documented-nation",
   "metadata": {},
   "source": [
    "### Section 3.1.3\n",
    "\n",
    "Create a new code cell to carry out _each_ example in the section.\n",
    "\n",
    "_Suggestion: For each example, create a second example that is similar but has one or more details changed._"
   ]
  },
  {
   "cell_type": "code",
   "execution_count": null,
   "id": "appointed-motorcycle",
   "metadata": {},
   "outputs": [],
   "source": []
  },
  {
   "cell_type": "markdown",
   "id": "periodic-signature",
   "metadata": {},
   "source": [
    "### Section 3.2\n",
    "\n",
    "Create a new code cell to carry out _each_ example in the section.\n",
    "\n",
    "_Suggestion: For each example, create a second example that is similar but has one or more details changed._"
   ]
  },
  {
   "cell_type": "code",
   "execution_count": null,
   "id": "interesting-medium",
   "metadata": {},
   "outputs": [],
   "source": []
  },
  {
   "cell_type": "markdown",
   "id": "latest-cooperation",
   "metadata": {},
   "source": [
    "### Section 3.3 \n",
    "\n",
    "Create a new code cell to carry out _each_ example in the section.\n",
    "\n",
    "_Suggestion: For each example, create a second example that is similar but has one or more details changed._"
   ]
  },
  {
   "cell_type": "code",
   "execution_count": null,
   "id": "controlling-pottery",
   "metadata": {},
   "outputs": [],
   "source": []
  },
  {
   "cell_type": "markdown",
   "id": "grand-parameter",
   "metadata": {},
   "source": [
    "### Section 3.4\n",
    "\n",
    "Create a new code cell to carry out _each_ example in the section.\n",
    "\n",
    "_Suggestion: For each example, create a second example that is similar but has one or more details changed._"
   ]
  },
  {
   "cell_type": "code",
   "execution_count": null,
   "id": "decent-novel",
   "metadata": {},
   "outputs": [],
   "source": []
  },
  {
   "cell_type": "markdown",
   "id": "broken-harrison",
   "metadata": {},
   "source": [
    "### Section 3.5\n",
    "\n",
    "Create a new code cell to carry out _each_ example in the section.\n",
    "\n",
    "_Suggestion: For each example, create a second example that is similar but has one or more details changed._"
   ]
  },
  {
   "cell_type": "code",
   "execution_count": null,
   "id": "scientific-witch",
   "metadata": {},
   "outputs": [],
   "source": []
  },
  {
   "cell_type": "markdown",
   "id": "assumed-visibility",
   "metadata": {},
   "source": [
    "### Section 3.6\n",
    "\n",
    "Create a new code cell to carry out _each_ example in the section.\n",
    "\n",
    "_Suggestion: For each example, create a second example that is similar but has one or more details changed._"
   ]
  },
  {
   "cell_type": "code",
   "execution_count": null,
   "id": "clinical-confidence",
   "metadata": {},
   "outputs": [],
   "source": []
  }
 ],
 "metadata": {
  "kernelspec": {
   "display_name": "R",
   "language": "R",
   "name": "ir"
  },
  "language_info": {
   "codemirror_mode": "r",
   "file_extension": ".r",
   "mimetype": "text/x-r-source",
   "name": "R",
   "pygments_lexer": "r",
   "version": "4.0.3"
  }
 },
 "nbformat": 4,
 "nbformat_minor": 5
}
